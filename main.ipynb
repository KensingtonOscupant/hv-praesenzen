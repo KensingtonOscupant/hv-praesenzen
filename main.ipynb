{
 "cells": [
  {
   "cell_type": "code",
   "execution_count": 1,
   "metadata": {},
   "outputs": [
    {
     "name": "stderr",
     "output_type": "stream",
     "text": [
      "Failed to detect the name of this notebook, you can set it manually with the WANDB_NOTEBOOK_NAME environment variable to enable code saving.\n",
      "\u001b[34m\u001b[1mwandb\u001b[0m: Currently logged in as: \u001b[33mfelixringe\u001b[0m (\u001b[33mfuels\u001b[0m). Use \u001b[1m`wandb login --relogin`\u001b[0m to force relogin\n"
     ]
    },
    {
     "data": {
      "text/html": [
       "Tracking run with wandb version 0.16.1"
      ],
      "text/plain": [
       "<IPython.core.display.HTML object>"
      ]
     },
     "metadata": {},
     "output_type": "display_data"
    },
    {
     "data": {
      "text/html": [
       "Run data is saved locally in <code>/Users/gisbertgurke/Documents/Projekte/hv-praesenzen/wandb/run-20231223_150404-nanza2mr</code>"
      ],
      "text/plain": [
       "<IPython.core.display.HTML object>"
      ]
     },
     "metadata": {},
     "output_type": "display_data"
    },
    {
     "data": {
      "text/html": [
       "Syncing run <strong><a href='https://wandb.ai/fuels/hv-praesenzen/runs/nanza2mr' target=\"_blank\">winter-durian-137</a></strong> to <a href='https://wandb.ai/fuels/hv-praesenzen' target=\"_blank\">Weights & Biases</a> (<a href='https://wandb.me/run' target=\"_blank\">docs</a>)<br/>"
      ],
      "text/plain": [
       "<IPython.core.display.HTML object>"
      ]
     },
     "metadata": {},
     "output_type": "display_data"
    },
    {
     "data": {
      "text/html": [
       " View project at <a href='https://wandb.ai/fuels/hv-praesenzen' target=\"_blank\">https://wandb.ai/fuels/hv-praesenzen</a>"
      ],
      "text/plain": [
       "<IPython.core.display.HTML object>"
      ]
     },
     "metadata": {},
     "output_type": "display_data"
    },
    {
     "data": {
      "text/html": [
       " View run at <a href='https://wandb.ai/fuels/hv-praesenzen/runs/nanza2mr' target=\"_blank\">https://wandb.ai/fuels/hv-praesenzen/runs/nanza2mr</a>"
      ],
      "text/plain": [
       "<IPython.core.display.HTML object>"
      ]
     },
     "metadata": {},
     "output_type": "display_data"
    },
    {
     "name": "stderr",
     "output_type": "stream",
     "text": [
      " 92%|█████████▏| 11/12 [00:59<00:05,  5.37s/it]\n"
     ]
    },
    {
     "ename": "ValueError",
     "evalue": "cannot convert float NaN to integer",
     "output_type": "error",
     "traceback": [
      "\u001b[0;31m---------------------------------------------------------------------------\u001b[0m",
      "\u001b[0;31mValueError\u001b[0m                                Traceback (most recent call last)",
      "\u001b[1;32m/Users/gisbertgurke/Documents/Projekte/hv-praesenzen/main.ipynb Cell 1\u001b[0m line \u001b[0;36m7\n\u001b[1;32m     <a href='vscode-notebook-cell:/Users/gisbertgurke/Documents/Projekte/hv-praesenzen/main.ipynb#W0sZmlsZQ%3D%3D?line=63'>64</a>\u001b[0m     \u001b[39mcontinue\u001b[39;00m\n\u001b[1;32m     <a href='vscode-notebook-cell:/Users/gisbertgurke/Documents/Projekte/hv-praesenzen/main.ipynb#W0sZmlsZQ%3D%3D?line=65'>66</a>\u001b[0m \u001b[39m\u001b[39m\u001b[39m\"\"\"\u001b[39;00m\n\u001b[1;32m     <a href='vscode-notebook-cell:/Users/gisbertgurke/Documents/Projekte/hv-praesenzen/main.ipynb#W0sZmlsZQ%3D%3D?line=66'>67</a>\u001b[0m \u001b[39mInitialize the default data dictionary for each iteration. \u001b[39;00m\n\u001b[1;32m     <a href='vscode-notebook-cell:/Users/gisbertgurke/Documents/Projekte/hv-praesenzen/main.ipynb#W0sZmlsZQ%3D%3D?line=67'>68</a>\u001b[0m \u001b[39mThis will be updated with the results of each step and then logged to W&B.\u001b[39;00m\n\u001b[1;32m     <a href='vscode-notebook-cell:/Users/gisbertgurke/Documents/Projekte/hv-praesenzen/main.ipynb#W0sZmlsZQ%3D%3D?line=68'>69</a>\u001b[0m \u001b[39m\"\"\"\u001b[39;00m\n\u001b[1;32m     <a href='vscode-notebook-cell:/Users/gisbertgurke/Documents/Projekte/hv-praesenzen/main.ipynb#W0sZmlsZQ%3D%3D?line=69'>70</a>\u001b[0m data \u001b[39m=\u001b[39m {\n\u001b[1;32m     <a href='vscode-notebook-cell:/Users/gisbertgurke/Documents/Projekte/hv-praesenzen/main.ipynb#W0sZmlsZQ%3D%3D?line=70'>71</a>\u001b[0m     \u001b[39m\"\u001b[39m\u001b[39munique_id\u001b[39m\u001b[39m\"\u001b[39m: \u001b[39mstr\u001b[39m(row[\u001b[39m'\u001b[39m\u001b[39mID\u001b[39m\u001b[39m'\u001b[39m]),\n\u001b[0;32m---> <a href='vscode-notebook-cell:/Users/gisbertgurke/Documents/Projekte/hv-praesenzen/main.ipynb#W0sZmlsZQ%3D%3D?line=71'>72</a>\u001b[0m     \u001b[39m\"\u001b[39m\u001b[39mID_Key\u001b[39m\u001b[39m\"\u001b[39m: \u001b[39mstr\u001b[39m(\u001b[39mint\u001b[39;49m(row[\u001b[39m'\u001b[39;49m\u001b[39mID_Key\u001b[39;49m\u001b[39m'\u001b[39;49m])),\n\u001b[1;32m     <a href='vscode-notebook-cell:/Users/gisbertgurke/Documents/Projekte/hv-praesenzen/main.ipynb#W0sZmlsZQ%3D%3D?line=72'>73</a>\u001b[0m     \u001b[39m\"\u001b[39m\u001b[39mYear\u001b[39m\u001b[39m\"\u001b[39m: \u001b[39mstr\u001b[39m(\u001b[39mint\u001b[39m(row[\u001b[39m'\u001b[39m\u001b[39mYear\u001b[39m\u001b[39m'\u001b[39m])),\n\u001b[1;32m     <a href='vscode-notebook-cell:/Users/gisbertgurke/Documents/Projekte/hv-praesenzen/main.ipynb#W0sZmlsZQ%3D%3D?line=73'>74</a>\u001b[0m     \u001b[39m\"\u001b[39m\u001b[39mPresence\u001b[39m\u001b[39m\"\u001b[39m: \u001b[39mNone\u001b[39;00m,\n\u001b[1;32m     <a href='vscode-notebook-cell:/Users/gisbertgurke/Documents/Projekte/hv-praesenzen/main.ipynb#W0sZmlsZQ%3D%3D?line=74'>75</a>\u001b[0m     \u001b[39m\"\u001b[39m\u001b[39merror\u001b[39m\u001b[39m\"\u001b[39m: \u001b[39mNone\u001b[39;00m,\n\u001b[1;32m     <a href='vscode-notebook-cell:/Users/gisbertgurke/Documents/Projekte/hv-praesenzen/main.ipynb#W0sZmlsZQ%3D%3D?line=75'>76</a>\u001b[0m     \u001b[39m\"\u001b[39m\u001b[39mcost\u001b[39m\u001b[39m\"\u001b[39m: \u001b[39m0\u001b[39m,\n\u001b[1;32m     <a href='vscode-notebook-cell:/Users/gisbertgurke/Documents/Projekte/hv-praesenzen/main.ipynb#W0sZmlsZQ%3D%3D?line=76'>77</a>\u001b[0m     \u001b[39m\"\u001b[39m\u001b[39mheader_row\u001b[39m\u001b[39m\"\u001b[39m: \u001b[39mNone\u001b[39;00m,\n\u001b[1;32m     <a href='vscode-notebook-cell:/Users/gisbertgurke/Documents/Projekte/hv-praesenzen/main.ipynb#W0sZmlsZQ%3D%3D?line=77'>78</a>\u001b[0m     \u001b[39m\"\u001b[39m\u001b[39mall_percentage_values\u001b[39m\u001b[39m\"\u001b[39m: \u001b[39mNone\u001b[39;00m,\n\u001b[1;32m     <a href='vscode-notebook-cell:/Users/gisbertgurke/Documents/Projekte/hv-praesenzen/main.ipynb#W0sZmlsZQ%3D%3D?line=78'>79</a>\u001b[0m     \u001b[39m\"\u001b[39m\u001b[39mfile_path\u001b[39m\u001b[39m\"\u001b[39m: \u001b[39mNone\u001b[39;00m,\n\u001b[1;32m     <a href='vscode-notebook-cell:/Users/gisbertgurke/Documents/Projekte/hv-praesenzen/main.ipynb#W0sZmlsZQ%3D%3D?line=79'>80</a>\u001b[0m     \u001b[39m\"\u001b[39m\u001b[39mcomment\u001b[39m\u001b[39m\"\u001b[39m: \u001b[39m\"\u001b[39m\u001b[39m\"\u001b[39m\n\u001b[1;32m     <a href='vscode-notebook-cell:/Users/gisbertgurke/Documents/Projekte/hv-praesenzen/main.ipynb#W0sZmlsZQ%3D%3D?line=80'>81</a>\u001b[0m }\n\u001b[1;32m     <a href='vscode-notebook-cell:/Users/gisbertgurke/Documents/Projekte/hv-praesenzen/main.ipynb#W0sZmlsZQ%3D%3D?line=82'>83</a>\u001b[0m \u001b[39m# set flag for alternative document structure, i.e., no table but more like a list\u001b[39;00m\n\u001b[1;32m     <a href='vscode-notebook-cell:/Users/gisbertgurke/Documents/Projekte/hv-praesenzen/main.ipynb#W0sZmlsZQ%3D%3D?line=83'>84</a>\u001b[0m alternative_document_structure \u001b[39m=\u001b[39m \u001b[39mFalse\u001b[39;00m\n",
      "\u001b[0;31mValueError\u001b[0m: cannot convert float NaN to integer"
     ]
    }
   ],
   "source": [
    "from tqdm import tqdm\n",
    "import ast\n",
    "import re\n",
    "from collections import Counter\n",
    "import pandas as pd\n",
    "from openai import OpenAI\n",
    "import wandb\n",
    "import json\n",
    "from config import api_key\n",
    "from utilities import calculate_cost, find_subdirectory, find_matching_files, process_pdf, call_language_model\n",
    "\n",
    "client = OpenAI(api_key=api_key)\n",
    "\n",
    "# Load the config file\n",
    "def load_config(config_file):\n",
    "    with open(config_file, 'r') as file:\n",
    "        return json.load(file)\n",
    "\n",
    "config = load_config('config.json')\n",
    "\n",
    "# Load the CSV file (test data or full data)\n",
    "df = pd.read_csv(config['csv_file_path'])\n",
    "# Set the base directory for where the folders with the PDFs are located\n",
    "directory = config['directory']\n",
    "\n",
    "# Initialize Weights & Biases\n",
    "\n",
    "run = wandb.init(project=config['wandb_project_name'])\n",
    "# Define W&B Table to store results\n",
    "columns = config['wandb_table_columns_prod']\n",
    "table = wandb.Table(columns=columns)\n",
    "# log a row of data to the W&B table\n",
    "def log_to_wandb(data):\n",
    "    table.add_data(*data.values())\n",
    "\n",
    "# Log the config.json file as an artifact\n",
    "artifact = wandb.Artifact('run_configurations', type='config')\n",
    "artifact.add_file('config.json')\n",
    "run.log_artifact(artifact)\n",
    "\n",
    "# Assuming args.start and args.end are defined (the row numbers to start and end with)\n",
    "# start_index = args.start if args.start is not None else 0\n",
    "# end_index = args.end if args.end is not None else len(df)\n",
    "\n",
    "start_index = 3780\n",
    "end_index = 3792\n",
    "\n",
    "# Calculate the total number of rows to be processed\n",
    "total_rows = end_index - start_index\n",
    "\n",
    "# Main application logic\n",
    "if __name__ == \"__main__\":\n",
    "    # # Use args and api_key as needed\n",
    "    # print(f\"Start: {args.start}, End: {args.end}\")\n",
    "\n",
    "    # keep track of processed files\n",
    "    processed_files = {}\n",
    "\n",
    "    # Iterate over the DataFrame slice with tqdm\n",
    "    for index, row in tqdm(df.iloc[start_index:end_index].iterrows(), total=total_rows):\n",
    "\n",
    "        # if Presence is already present, skip this row\n",
    "        if pd.notna(row['Presence']):\n",
    "            continue\n",
    "\n",
    "        \"\"\"\n",
    "        Initialize the default data dictionary for each iteration. \n",
    "        This will be updated with the results of each step and then logged to W&B.\n",
    "        \"\"\"\n",
    "        data = {\n",
    "            \"unique_id\": str(row['ID']),\n",
    "            \"ID_Key\": str(int(row['ID_Key'])),\n",
    "            \"Year\": str(int(row['Year'])),\n",
    "            \"Presence\": None,\n",
    "            \"error\": None,\n",
    "            \"cost\": 0,\n",
    "            \"header_row\": None,\n",
    "            \"all_percentage_values\": None,\n",
    "            \"file_path\": None,\n",
    "            \"comment\": \"\"\n",
    "        }\n",
    "\n",
    "        # set flag for alternative document structure, i.e., no table but more like a list\n",
    "        alternative_document_structure = False\n",
    "\n",
    "        id_value = str(int(row['ID_Key']))\n",
    "        year_suffix = str(int(row['Year']))[-2:]\n",
    "\n",
    "        # find the subdirectory where all reports for the same ID are located\n",
    "        subdirectory_path = find_subdirectory(directory, id_value)\n",
    "\n",
    "        # find the file path for the report(s) of the given year\n",
    "        matching_files = find_matching_files(subdirectory_path, year_suffix)\n",
    "\n",
    "        # Initialize the key in the dictionary if it doesn't exist\n",
    "        key = (id_value, year_suffix)\n",
    "        if key not in processed_files:\n",
    "            processed_files[key] = []\n",
    "\n",
    "        # Find the first unprocessed file\n",
    "        unprocessed_files = [file for file in matching_files if file not in processed_files[key]]\n",
    "        if not unprocessed_files:\n",
    "            # Log the scenario where the record exists but no file is found\n",
    "            data.update({\n",
    "                \"error\": \"File missing\"\n",
    "            })\n",
    "            log_to_wandb(data)\n",
    "            continue\n",
    "\n",
    "        # Process the first unprocessed file\n",
    "        file_path = unprocessed_files[0]\n",
    "\n",
    "        # mark the file as processed\n",
    "        processed_files[key].append(file_path)\n",
    "\n",
    "        if file_path:\n",
    "            data[\"file_path\"] = file_path\n",
    "            full_text, error_message = process_pdf(file_path)\n",
    "\n",
    "            # Check if there was an error processing the PDF\n",
    "            if error_message:\n",
    "                data.update({\n",
    "                    \"error\": error_message,\n",
    "                    \"comment\": \"Error processing PDF document\"\n",
    "                })\n",
    "                log_to_wandb(data)\n",
    "                continue\n",
    "\n",
    "        # In case of file not found\n",
    "        else:\n",
    "            data.update({\n",
    "                \"error\": \"File not found\",\n",
    "                \"comment\": f\"No file found for ID {id_value}\"\n",
    "            })\n",
    "            log_to_wandb(data)\n",
    "            continue\n",
    "\n",
    "        # add an error if text is more than 15000 characters\n",
    "        if len(full_text) > 15000:\n",
    "            data.update({\n",
    "                \"error\": \"Text longer than 15000 characters\",\n",
    "            })\n",
    "            log_to_wandb(data)\n",
    "            continue\n",
    "\n",
    "        highest_percentage_list = []\n",
    "\n",
    "        system_prompt = config['prompts']['system_prompt']\n",
    "        user_prompt = config['prompts']['user_prompts']['header_evaluation_prompt'].format(report=full_text)\n",
    "\n",
    "        header_row_list = []\n",
    "\n",
    "        for i in range(1):\n",
    "            response, cost = call_language_model(client, system_prompt, user_prompt, full_text, calculate_cost)\n",
    "            header_row_list.append(response)\n",
    "            data['cost'] += cost\n",
    "\n",
    "        header_counts = Counter(header_row_list)\n",
    "\n",
    "        most_common_count = header_counts.most_common(1)[0][1]  # Get the count of the most common string\n",
    "\n",
    "        # Find all strings that have this highest count\n",
    "        most_common_headers = [header for header, count in header_counts.items() if count == most_common_count]\n",
    "\n",
    "        # # Handle the situation based on the number of most common strings\n",
    "        if len(most_common_headers) == 1:\n",
    "            # Only one most common string\n",
    "            most_common_header = most_common_headers[0]\n",
    "            data['header_row'] = most_common_header\n",
    "        elif len(most_common_headers) > 1:\n",
    "            # Multiple strings with the same highest frequency\n",
    "            data.update({\n",
    "                \"error\": \"Multiple common headers\",\n",
    "                \"comment\": most_common_headers\n",
    "            })\n",
    "            log_to_wandb(data)\n",
    "            continue\n",
    "        else:\n",
    "            data.update({\n",
    "                \"error\": \"No header row found\"\n",
    "            })\n",
    "            continue\n",
    "\n",
    "        # Regular expression pattern to check if string starts with '[' and ends with ']'\n",
    "        pattern = r'^\\[.*\\]$'\n",
    "\n",
    "        # Check if the response string matches the pattern\n",
    "        if re.match(pattern, most_common_header):\n",
    "            # Process the string if it matches\n",
    "            column_names = most_common_header # Adjust as needed\n",
    "\n",
    "            # check if response is 0. In that case, we check if the file might not be structured like a table, but more like a list (alternative document structure)\n",
    "            if column_names == \"[0]\":\n",
    "\n",
    "                user_prompt = config['prompts']['user_prompts']['alternative_doc_structure_prompt'].format(report=full_text)\n",
    "\n",
    "                response, cost = call_language_model(client, system_prompt, user_prompt, full_text, calculate_cost)\n",
    "                header_row_list.append(response)\n",
    "                data['cost'] += cost\n",
    "\n",
    "                # check response\n",
    "                if response == \"[1]\":\n",
    "\n",
    "                    alternative_document_structure = True\n",
    "\n",
    "                    # find the highest grundkapital percentage in the document\n",
    "                    user_prompt = config['prompts']['user_prompts']['alternative_doc_extraction_prompt'].format(report=full_text)\n",
    "\n",
    "                    response, cost = call_language_model(client, system_prompt, user_prompt, full_text, calculate_cost)\n",
    "                    header_row_list.append(response)\n",
    "                    data['cost'] += cost\n",
    "\n",
    "                elif response == \"[0]\":\n",
    "                    data.update({\n",
    "                        \"error\": \"Header row not found\",\n",
    "                    })\n",
    "                    log_to_wandb(data)\n",
    "                    continue\n",
    "\n",
    "                else:\n",
    "                    data.update({\n",
    "                        \"error\": \"Unexpected response from GPT model to the question about alternative document structure\",\n",
    "                        \"comment\": response,\n",
    "                    })\n",
    "                    log_to_wandb(data)\n",
    "                    continue\n",
    "\n",
    "        else:\n",
    "            data.update({\n",
    "                \"error\": \"Unexpected response from GPT model to the question about the header row\",\n",
    "                \"comment\": response,\n",
    "            })\n",
    "            log_to_wandb(data)\n",
    "            continue\n",
    "\n",
    "        if alternative_document_structure == False:\n",
    "            user_prompt = config['prompts']['user_prompts']['regular_extraction_prompt'].format(column_names=column_names, report=full_text)\n",
    "\n",
    "            response, cost = call_language_model(client, system_prompt, user_prompt, full_text, calculate_cost)\n",
    "            header_row_list.append(response)\n",
    "            data['cost'] += cost\n",
    "\n",
    "        try:\n",
    "            # Parse percentage list from response for the entire document\n",
    "            percentage_list = ast.literal_eval(response)\n",
    "            if percentage_list:\n",
    "                highest_percentage = max(percentage_list)\n",
    "                data['Presence'] = round(highest_percentage, 2)\n",
    "                data['all_percentage_values'] = percentage_list\n",
    "        except (SyntaxError, ValueError) as e:\n",
    "            data[\"comment\"] += f\"{response} \"\n",
    "            data.update({\n",
    "                \"error\": \"Error parsing list of percentages\"\n",
    "            })\n",
    "            log_to_wandb(data)\n",
    "            continue\n",
    "\n",
    "        # sanity checks\n",
    "\n",
    "        if len(highest_percentage_list) > 1:\n",
    "            second_highest_percentage = sorted(highest_percentage_list, reverse=True)[1]\n",
    "            if highest_percentage - second_highest_percentage > 10:\n",
    "                data[\"comment\"] += \"Der ermittelte Wert weicht um mehr als 10 Prozentpunkte vom zweithöchsten Wert ab. \"\n",
    "                data.update({\n",
    "                    \"error\": \"Significant difference from second highest value\",\n",
    "                    \"Presence\": highest_percentage\n",
    "                })\n",
    "                log_to_wandb(data)\n",
    "                continue\n",
    "\n",
    "        # add check for if the highest percentage is greater than 99, flag it as an error\n",
    "        if highest_percentage > 99:\n",
    "            data.update({\n",
    "                \"error\": \"Highest percentage greater than 99\",\n",
    "                \"Presence\": highest_percentage\n",
    "            })\n",
    "            log_to_wandb(data)\n",
    "            continue\n",
    "\n",
    "        # if data['Presence_enhanced'] == data['Presence_predicted']:\n",
    "        #     data['correct'] = True\n",
    "        # else:\n",
    "        #     # Check for another row with the same ID_Key_original and Year_original\n",
    "        #     same_id_year_rows = df[(df['ID_Key_original'] == row['ID_Key_original']) & \n",
    "        #                         (df['Year_original'] == row['Year_original'])]\n",
    "\n",
    "        #     # Check if any of those rows have Presence_enhanced equal to highest_percentage\n",
    "        #     if any(same_id_year_rows['Presence_enhanced'] == data['Presence_predicted']):\n",
    "        #         data['correct'] = True\n",
    "        #         data[\"comment\"] += \"Der ermittelte Wert stammt aus dem anderen Bericht diesen Jahres und ist dort korrekt ermittelt. \"\n",
    "        #     else:\n",
    "        #         data['correct'] = False\n",
    "\n",
    "        # Log the data\n",
    "        log_to_wandb(data)\n",
    "\n",
    "    # Save the table to W&B\n",
    "    wandb.log({\"results\": table})\n",
    "\n",
    "    wandb.finish()"
   ]
  },
  {
   "cell_type": "code",
   "execution_count": 2,
   "metadata": {},
   "outputs": [
    {
     "name": "stderr",
     "output_type": "stream",
     "text": [
      "wandb: WARNING Source type is set to 'repo' but some required information is missing from the environment. A job will not be created from this run. See https://docs.wandb.ai/guides/launch/create-job\n"
     ]
    },
    {
     "data": {
      "text/html": [
       " View run <strong style=\"color:#cdcd00\">winter-durian-137</strong> at: <a href='https://wandb.ai/fuels/hv-praesenzen/runs/nanza2mr' target=\"_blank\">https://wandb.ai/fuels/hv-praesenzen/runs/nanza2mr</a><br/>Synced 5 W&B file(s), 1 media file(s), 1 artifact file(s) and 0 other file(s)"
      ],
      "text/plain": [
       "<IPython.core.display.HTML object>"
      ]
     },
     "metadata": {},
     "output_type": "display_data"
    },
    {
     "data": {
      "text/html": [
       "Find logs at: <code>./wandb/run-20231223_150404-nanza2mr/logs</code>"
      ],
      "text/plain": [
       "<IPython.core.display.HTML object>"
      ]
     },
     "metadata": {},
     "output_type": "display_data"
    }
   ],
   "source": [
    "wandb.log({\"results\": table})\n",
    "wandb.finish()"
   ]
  }
 ],
 "metadata": {
  "kernelspec": {
   "display_name": "hv_venv",
   "language": "python",
   "name": "python3"
  },
  "language_info": {
   "codemirror_mode": {
    "name": "ipython",
    "version": 3
   },
   "file_extension": ".py",
   "mimetype": "text/x-python",
   "name": "python",
   "nbconvert_exporter": "python",
   "pygments_lexer": "ipython3",
   "version": "3.9.5"
  }
 },
 "nbformat": 4,
 "nbformat_minor": 2
}
