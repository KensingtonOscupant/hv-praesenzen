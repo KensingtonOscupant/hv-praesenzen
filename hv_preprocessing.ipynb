{
 "cells": [
  {
   "cell_type": "code",
   "execution_count": 1,
   "metadata": {},
   "outputs": [],
   "source": [
    "import pandas as pd\n",
    "import numpy as np\n",
    "import os\n",
    "from openai import OpenAI\n",
    "from dotenv import load_dotenv\n",
    "import wandb\n",
    "\n",
    "load_dotenv()\n",
    "\n",
    "api_key = os.getenv(\"OPENAI_API_KEY\")\n",
    "\n",
    "client = OpenAI(api_key=api_key)\n",
    "\n",
    "df_original = pd.read_csv('data/combined_old.csv')\n",
    "\n",
    "df_enhanced = pd.read_csv('data/combined_new.csv')"
   ]
  },
  {
   "cell_type": "code",
   "execution_count": 2,
   "metadata": {},
   "outputs": [
    {
     "data": {
      "text/html": [
       "<div>\n",
       "<style scoped>\n",
       "    .dataframe tbody tr th:only-of-type {\n",
       "        vertical-align: middle;\n",
       "    }\n",
       "\n",
       "    .dataframe tbody tr th {\n",
       "        vertical-align: top;\n",
       "    }\n",
       "\n",
       "    .dataframe thead th {\n",
       "        text-align: right;\n",
       "    }\n",
       "</style>\n",
       "<table border=\"1\" class=\"dataframe\">\n",
       "  <thead>\n",
       "    <tr style=\"text-align: right;\">\n",
       "      <th></th>\n",
       "      <th>ID_Key</th>\n",
       "      <th>ID</th>\n",
       "      <th>Company</th>\n",
       "      <th>Year</th>\n",
       "      <th>Presence</th>\n",
       "      <th>Index</th>\n",
       "    </tr>\n",
       "  </thead>\n",
       "  <tbody>\n",
       "    <tr>\n",
       "      <th>0</th>\n",
       "      <td>1215.0</td>\n",
       "      <td>105.0</td>\n",
       "      <td>ADLER Real Estate AG (2015)</td>\n",
       "      <td>2002</td>\n",
       "      <td>NaN</td>\n",
       "      <td>NaN</td>\n",
       "    </tr>\n",
       "    <tr>\n",
       "      <th>1</th>\n",
       "      <td>1215.0</td>\n",
       "      <td>105.0</td>\n",
       "      <td>ADLER Real Estate AG (2015)</td>\n",
       "      <td>2003</td>\n",
       "      <td>NaN</td>\n",
       "      <td>NaN</td>\n",
       "    </tr>\n",
       "    <tr>\n",
       "      <th>2</th>\n",
       "      <td>1215.0</td>\n",
       "      <td>105.0</td>\n",
       "      <td>ADLER Real Estate AG (2015)</td>\n",
       "      <td>2004</td>\n",
       "      <td>NaN</td>\n",
       "      <td>NaN</td>\n",
       "    </tr>\n",
       "    <tr>\n",
       "      <th>3</th>\n",
       "      <td>1215.0</td>\n",
       "      <td>105.0</td>\n",
       "      <td>ADLER Real Estate AG (2015)</td>\n",
       "      <td>2005</td>\n",
       "      <td>NaN</td>\n",
       "      <td>NaN</td>\n",
       "    </tr>\n",
       "    <tr>\n",
       "      <th>4</th>\n",
       "      <td>1215.0</td>\n",
       "      <td>105.0</td>\n",
       "      <td>ADLER Real Estate AG (2015)</td>\n",
       "      <td>2006</td>\n",
       "      <td>NaN</td>\n",
       "      <td>NaN</td>\n",
       "    </tr>\n",
       "    <tr>\n",
       "      <th>...</th>\n",
       "      <td>...</td>\n",
       "      <td>...</td>\n",
       "      <td>...</td>\n",
       "      <td>...</td>\n",
       "      <td>...</td>\n",
       "      <td>...</td>\n",
       "    </tr>\n",
       "    <tr>\n",
       "      <th>3961</th>\n",
       "      <td>NaN</td>\n",
       "      <td>56.0</td>\n",
       "      <td>GAGFAH S.A.</td>\n",
       "      <td>2015</td>\n",
       "      <td>NaN</td>\n",
       "      <td>NaN</td>\n",
       "    </tr>\n",
       "    <tr>\n",
       "      <th>3962</th>\n",
       "      <td>NaN</td>\n",
       "      <td>140.0</td>\n",
       "      <td>Highlight Communications AG</td>\n",
       "      <td>2015</td>\n",
       "      <td>NaN</td>\n",
       "      <td>NaN</td>\n",
       "    </tr>\n",
       "    <tr>\n",
       "      <th>3963</th>\n",
       "      <td>NaN</td>\n",
       "      <td>208.0</td>\n",
       "      <td>QIAGEN N.V.</td>\n",
       "      <td>2015</td>\n",
       "      <td>64.30</td>\n",
       "      <td>TecDAX</td>\n",
       "    </tr>\n",
       "    <tr>\n",
       "      <th>3964</th>\n",
       "      <td>NaN</td>\n",
       "      <td>89.0</td>\n",
       "      <td>RTL Group S.A.</td>\n",
       "      <td>2015</td>\n",
       "      <td>82.93</td>\n",
       "      <td>MDAX</td>\n",
       "    </tr>\n",
       "    <tr>\n",
       "      <th>3965</th>\n",
       "      <td>NaN</td>\n",
       "      <td>167.0</td>\n",
       "      <td>Stabilus S.A.</td>\n",
       "      <td>2015</td>\n",
       "      <td>60.97</td>\n",
       "      <td>SDAX</td>\n",
       "    </tr>\n",
       "  </tbody>\n",
       "</table>\n",
       "<p>3966 rows × 6 columns</p>\n",
       "</div>"
      ],
      "text/plain": [
       "      ID_Key     ID                      Company  Year  Presence   Index\n",
       "0     1215.0  105.0  ADLER Real Estate AG (2015)  2002       NaN     NaN\n",
       "1     1215.0  105.0  ADLER Real Estate AG (2015)  2003       NaN     NaN\n",
       "2     1215.0  105.0  ADLER Real Estate AG (2015)  2004       NaN     NaN\n",
       "3     1215.0  105.0  ADLER Real Estate AG (2015)  2005       NaN     NaN\n",
       "4     1215.0  105.0  ADLER Real Estate AG (2015)  2006       NaN     NaN\n",
       "...      ...    ...                          ...   ...       ...     ...\n",
       "3961     NaN   56.0                  GAGFAH S.A.  2015       NaN     NaN\n",
       "3962     NaN  140.0  Highlight Communications AG  2015       NaN     NaN\n",
       "3963     NaN  208.0                  QIAGEN N.V.  2015     64.30  TecDAX\n",
       "3964     NaN   89.0               RTL Group S.A.  2015     82.93    MDAX\n",
       "3965     NaN  167.0                Stabilus S.A.  2015     60.97    SDAX\n",
       "\n",
       "[3966 rows x 6 columns]"
      ]
     },
     "execution_count": 2,
     "metadata": {},
     "output_type": "execute_result"
    }
   ],
   "source": [
    "df_enhanced"
   ]
  },
  {
   "cell_type": "code",
   "execution_count": 3,
   "metadata": {},
   "outputs": [
    {
     "data": {
      "text/html": [
       "<div>\n",
       "<style scoped>\n",
       "    .dataframe tbody tr th:only-of-type {\n",
       "        vertical-align: middle;\n",
       "    }\n",
       "\n",
       "    .dataframe tbody tr th {\n",
       "        vertical-align: top;\n",
       "    }\n",
       "\n",
       "    .dataframe thead th {\n",
       "        text-align: right;\n",
       "    }\n",
       "</style>\n",
       "<table border=\"1\" class=\"dataframe\">\n",
       "  <thead>\n",
       "    <tr style=\"text-align: right;\">\n",
       "      <th></th>\n",
       "      <th>ID_Key</th>\n",
       "      <th>ID</th>\n",
       "      <th>Company</th>\n",
       "      <th>Year</th>\n",
       "      <th>Presence</th>\n",
       "      <th>Index</th>\n",
       "    </tr>\n",
       "  </thead>\n",
       "  <tbody>\n",
       "    <tr>\n",
       "      <th>0</th>\n",
       "      <td>1215.0</td>\n",
       "      <td>105.0</td>\n",
       "      <td>ADLER Real Estate AG (2015)</td>\n",
       "      <td>2002</td>\n",
       "      <td>NaN</td>\n",
       "      <td>NaN</td>\n",
       "    </tr>\n",
       "    <tr>\n",
       "      <th>1</th>\n",
       "      <td>1215.0</td>\n",
       "      <td>105.0</td>\n",
       "      <td>ADLER Real Estate AG (2015)</td>\n",
       "      <td>2003</td>\n",
       "      <td>NaN</td>\n",
       "      <td>NaN</td>\n",
       "    </tr>\n",
       "    <tr>\n",
       "      <th>2</th>\n",
       "      <td>1215.0</td>\n",
       "      <td>105.0</td>\n",
       "      <td>ADLER Real Estate AG (2015)</td>\n",
       "      <td>2004</td>\n",
       "      <td>NaN</td>\n",
       "      <td>NaN</td>\n",
       "    </tr>\n",
       "    <tr>\n",
       "      <th>3</th>\n",
       "      <td>1215.0</td>\n",
       "      <td>105.0</td>\n",
       "      <td>ADLER Real Estate AG (2015)</td>\n",
       "      <td>2005</td>\n",
       "      <td>NaN</td>\n",
       "      <td>NaN</td>\n",
       "    </tr>\n",
       "    <tr>\n",
       "      <th>4</th>\n",
       "      <td>1215.0</td>\n",
       "      <td>105.0</td>\n",
       "      <td>ADLER Real Estate AG (2015)</td>\n",
       "      <td>2006</td>\n",
       "      <td>NaN</td>\n",
       "      <td>NaN</td>\n",
       "    </tr>\n",
       "    <tr>\n",
       "      <th>...</th>\n",
       "      <td>...</td>\n",
       "      <td>...</td>\n",
       "      <td>...</td>\n",
       "      <td>...</td>\n",
       "      <td>...</td>\n",
       "      <td>...</td>\n",
       "    </tr>\n",
       "    <tr>\n",
       "      <th>3961</th>\n",
       "      <td>NaN</td>\n",
       "      <td>56.0</td>\n",
       "      <td>GAGFAH S.A.</td>\n",
       "      <td>2015</td>\n",
       "      <td>NaN</td>\n",
       "      <td>NaN</td>\n",
       "    </tr>\n",
       "    <tr>\n",
       "      <th>3962</th>\n",
       "      <td>NaN</td>\n",
       "      <td>140.0</td>\n",
       "      <td>Highlight Communications AG</td>\n",
       "      <td>2015</td>\n",
       "      <td>NaN</td>\n",
       "      <td>NaN</td>\n",
       "    </tr>\n",
       "    <tr>\n",
       "      <th>3963</th>\n",
       "      <td>NaN</td>\n",
       "      <td>208.0</td>\n",
       "      <td>QIAGEN N.V.</td>\n",
       "      <td>2015</td>\n",
       "      <td>64.30</td>\n",
       "      <td>TecDAX</td>\n",
       "    </tr>\n",
       "    <tr>\n",
       "      <th>3964</th>\n",
       "      <td>NaN</td>\n",
       "      <td>89.0</td>\n",
       "      <td>RTL Group S.A.</td>\n",
       "      <td>2015</td>\n",
       "      <td>82.93</td>\n",
       "      <td>MDAX</td>\n",
       "    </tr>\n",
       "    <tr>\n",
       "      <th>3965</th>\n",
       "      <td>NaN</td>\n",
       "      <td>167.0</td>\n",
       "      <td>Stabilus S.A.</td>\n",
       "      <td>2015</td>\n",
       "      <td>60.97</td>\n",
       "      <td>SDAX</td>\n",
       "    </tr>\n",
       "  </tbody>\n",
       "</table>\n",
       "<p>3966 rows × 6 columns</p>\n",
       "</div>"
      ],
      "text/plain": [
       "      ID_Key     ID                      Company  Year  Presence   Index\n",
       "0     1215.0  105.0  ADLER Real Estate AG (2015)  2002       NaN     NaN\n",
       "1     1215.0  105.0  ADLER Real Estate AG (2015)  2003       NaN     NaN\n",
       "2     1215.0  105.0  ADLER Real Estate AG (2015)  2004       NaN     NaN\n",
       "3     1215.0  105.0  ADLER Real Estate AG (2015)  2005       NaN     NaN\n",
       "4     1215.0  105.0  ADLER Real Estate AG (2015)  2006       NaN     NaN\n",
       "...      ...    ...                          ...   ...       ...     ...\n",
       "3961     NaN   56.0                  GAGFAH S.A.  2015       NaN     NaN\n",
       "3962     NaN  140.0  Highlight Communications AG  2015       NaN     NaN\n",
       "3963     NaN  208.0                  QIAGEN N.V.  2015     64.30  TecDAX\n",
       "3964     NaN   89.0               RTL Group S.A.  2015     82.93    MDAX\n",
       "3965     NaN  167.0                Stabilus S.A.  2015     60.97    SDAX\n",
       "\n",
       "[3966 rows x 6 columns]"
      ]
     },
     "execution_count": 3,
     "metadata": {},
     "output_type": "execute_result"
    }
   ],
   "source": [
    "df_original"
   ]
  },
  {
   "cell_type": "code",
   "execution_count": 4,
   "metadata": {},
   "outputs": [
    {
     "data": {
      "text/html": [
       "<div>\n",
       "<style scoped>\n",
       "    .dataframe tbody tr th:only-of-type {\n",
       "        vertical-align: middle;\n",
       "    }\n",
       "\n",
       "    .dataframe tbody tr th {\n",
       "        vertical-align: top;\n",
       "    }\n",
       "\n",
       "    .dataframe thead th {\n",
       "        text-align: right;\n",
       "    }\n",
       "</style>\n",
       "<table border=\"1\" class=\"dataframe\">\n",
       "  <thead>\n",
       "    <tr style=\"text-align: right;\">\n",
       "      <th></th>\n",
       "      <th>ID_Key_original</th>\n",
       "      <th>ID_original</th>\n",
       "      <th>Company_original</th>\n",
       "      <th>Year_original</th>\n",
       "      <th>Presence_original</th>\n",
       "      <th>Index_original</th>\n",
       "      <th>Presence_enhanced</th>\n",
       "    </tr>\n",
       "  </thead>\n",
       "  <tbody>\n",
       "    <tr>\n",
       "      <th>0</th>\n",
       "      <td>1215.0</td>\n",
       "      <td>105.0</td>\n",
       "      <td>ADLER Real Estate AG (2015)</td>\n",
       "      <td>2002</td>\n",
       "      <td>NaN</td>\n",
       "      <td>NaN</td>\n",
       "      <td>NaN</td>\n",
       "    </tr>\n",
       "    <tr>\n",
       "      <th>1</th>\n",
       "      <td>1215.0</td>\n",
       "      <td>105.0</td>\n",
       "      <td>ADLER Real Estate AG (2015)</td>\n",
       "      <td>2003</td>\n",
       "      <td>NaN</td>\n",
       "      <td>NaN</td>\n",
       "      <td>NaN</td>\n",
       "    </tr>\n",
       "    <tr>\n",
       "      <th>2</th>\n",
       "      <td>1215.0</td>\n",
       "      <td>105.0</td>\n",
       "      <td>ADLER Real Estate AG (2015)</td>\n",
       "      <td>2004</td>\n",
       "      <td>NaN</td>\n",
       "      <td>NaN</td>\n",
       "      <td>NaN</td>\n",
       "    </tr>\n",
       "    <tr>\n",
       "      <th>3</th>\n",
       "      <td>1215.0</td>\n",
       "      <td>105.0</td>\n",
       "      <td>ADLER Real Estate AG (2015)</td>\n",
       "      <td>2005</td>\n",
       "      <td>NaN</td>\n",
       "      <td>NaN</td>\n",
       "      <td>NaN</td>\n",
       "    </tr>\n",
       "    <tr>\n",
       "      <th>4</th>\n",
       "      <td>1215.0</td>\n",
       "      <td>105.0</td>\n",
       "      <td>ADLER Real Estate AG (2015)</td>\n",
       "      <td>2006</td>\n",
       "      <td>NaN</td>\n",
       "      <td>NaN</td>\n",
       "      <td>NaN</td>\n",
       "    </tr>\n",
       "    <tr>\n",
       "      <th>...</th>\n",
       "      <td>...</td>\n",
       "      <td>...</td>\n",
       "      <td>...</td>\n",
       "      <td>...</td>\n",
       "      <td>...</td>\n",
       "      <td>...</td>\n",
       "      <td>...</td>\n",
       "    </tr>\n",
       "    <tr>\n",
       "      <th>3961</th>\n",
       "      <td>NaN</td>\n",
       "      <td>56.0</td>\n",
       "      <td>GAGFAH S.A.</td>\n",
       "      <td>2015</td>\n",
       "      <td>NaN</td>\n",
       "      <td>NaN</td>\n",
       "      <td>NaN</td>\n",
       "    </tr>\n",
       "    <tr>\n",
       "      <th>3962</th>\n",
       "      <td>NaN</td>\n",
       "      <td>140.0</td>\n",
       "      <td>Highlight Communications AG</td>\n",
       "      <td>2015</td>\n",
       "      <td>NaN</td>\n",
       "      <td>NaN</td>\n",
       "      <td>NaN</td>\n",
       "    </tr>\n",
       "    <tr>\n",
       "      <th>3963</th>\n",
       "      <td>NaN</td>\n",
       "      <td>208.0</td>\n",
       "      <td>QIAGEN N.V.</td>\n",
       "      <td>2015</td>\n",
       "      <td>64.30</td>\n",
       "      <td>TecDAX</td>\n",
       "      <td>64.30</td>\n",
       "    </tr>\n",
       "    <tr>\n",
       "      <th>3964</th>\n",
       "      <td>NaN</td>\n",
       "      <td>89.0</td>\n",
       "      <td>RTL Group S.A.</td>\n",
       "      <td>2015</td>\n",
       "      <td>82.93</td>\n",
       "      <td>MDAX</td>\n",
       "      <td>82.93</td>\n",
       "    </tr>\n",
       "    <tr>\n",
       "      <th>3965</th>\n",
       "      <td>NaN</td>\n",
       "      <td>167.0</td>\n",
       "      <td>Stabilus S.A.</td>\n",
       "      <td>2015</td>\n",
       "      <td>60.97</td>\n",
       "      <td>SDAX</td>\n",
       "      <td>60.97</td>\n",
       "    </tr>\n",
       "  </tbody>\n",
       "</table>\n",
       "<p>3966 rows × 7 columns</p>\n",
       "</div>"
      ],
      "text/plain": [
       "      ID_Key_original  ID_original             Company_original  \\\n",
       "0              1215.0        105.0  ADLER Real Estate AG (2015)   \n",
       "1              1215.0        105.0  ADLER Real Estate AG (2015)   \n",
       "2              1215.0        105.0  ADLER Real Estate AG (2015)   \n",
       "3              1215.0        105.0  ADLER Real Estate AG (2015)   \n",
       "4              1215.0        105.0  ADLER Real Estate AG (2015)   \n",
       "...               ...          ...                          ...   \n",
       "3961              NaN         56.0                  GAGFAH S.A.   \n",
       "3962              NaN        140.0  Highlight Communications AG   \n",
       "3963              NaN        208.0                  QIAGEN N.V.   \n",
       "3964              NaN         89.0               RTL Group S.A.   \n",
       "3965              NaN        167.0                Stabilus S.A.   \n",
       "\n",
       "      Year_original  Presence_original Index_original  Presence_enhanced  \n",
       "0              2002                NaN            NaN                NaN  \n",
       "1              2003                NaN            NaN                NaN  \n",
       "2              2004                NaN            NaN                NaN  \n",
       "3              2005                NaN            NaN                NaN  \n",
       "4              2006                NaN            NaN                NaN  \n",
       "...             ...                ...            ...                ...  \n",
       "3961           2015                NaN            NaN                NaN  \n",
       "3962           2015                NaN            NaN                NaN  \n",
       "3963           2015              64.30         TecDAX              64.30  \n",
       "3964           2015              82.93           MDAX              82.93  \n",
       "3965           2015              60.97           SDAX              60.97  \n",
       "\n",
       "[3966 rows x 7 columns]"
      ]
     },
     "execution_count": 4,
     "metadata": {},
     "output_type": "execute_result"
    }
   ],
   "source": [
    "# First, add suffixes to each column in both dataframes except for the index\n",
    "df_original_suffixed = df_original.add_suffix('_original')\n",
    "df_enhanced_suffixed = df_enhanced.add_suffix('_enhanced')\n",
    "\n",
    "# Join both dataframes based on their index\n",
    "merged_df = pd.concat([df_original_suffixed, df_enhanced_suffixed], axis=1)\n",
    "\n",
    "# drop the ID_Key_enhanced, ID_enhanced, Company_enhanced, and Index_enhanced columns\n",
    "merged_df = merged_df.drop(columns=['ID_Key_enhanced', 'ID_enhanced', 'Company_enhanced', 'Year_enhanced', 'Index_enhanced'])\n",
    "merged_df"
   ]
  },
  {
   "cell_type": "markdown",
   "metadata": {},
   "source": [
    "## Creating a large test set\n",
    "\n",
    "This one includes the rows that are have been provided by the Kleinanlegerschutzverbund (?)"
   ]
  },
  {
   "cell_type": "markdown",
   "metadata": {},
   "source": [
    "## Creating the test set\n",
    "\n",
    "Only the rows Linus has checked manually"
   ]
  },
  {
   "cell_type": "code",
   "execution_count": 5,
   "metadata": {},
   "outputs": [],
   "source": [
    "# drop all rows where merged_df['Presence_enhanced'] isna. Effectively, I only need ID_Key_original and Presence_enhanced, but the other columns are useful for debugging\n",
    "test_set_large = merged_df.dropna(subset=['Presence_enhanced'])\n",
    "# test_set_large.to_csv('data/231215_test_set_large.csv', index=False)"
   ]
  },
  {
   "cell_type": "code",
   "execution_count": 6,
   "metadata": {},
   "outputs": [],
   "source": [
    "# Filter out the rows where 'Presence_original' is NaN and 'Presence_enhanced' is not NaN\n",
    "test_set_small = merged_df[merged_df['Presence_original'].isna() & merged_df['Presence_enhanced'].notna()]"
   ]
  },
  {
   "cell_type": "markdown",
   "metadata": {},
   "source": [
    "## Finding the correct file\n",
    "\n",
    "Finding the file path to the PDF the data has been extracted from"
   ]
  },
  {
   "cell_type": "markdown",
   "metadata": {},
   "source": [
    "### calculating pricing\n",
    "\n",
    "Creating a function to calculate the cost of all this, to be used later"
   ]
  },
  {
   "cell_type": "code",
   "execution_count": 7,
   "metadata": {},
   "outputs": [],
   "source": [
    "def calculate_cost(input_tokens, output_tokens, input_price_per_1000=0.01, output_price_per_1000=0.03):\n",
    "    # Calculate the cost for input tokens\n",
    "    input_cost = (input_tokens / 1000) * input_price_per_1000\n",
    "\n",
    "    # Calculate the cost for output tokens\n",
    "    output_cost = (output_tokens / 1000) * output_price_per_1000\n",
    "\n",
    "    # Total cost\n",
    "    total_cost = input_cost + output_cost\n",
    "\n",
    "    return total_cost"
   ]
  },
  {
   "cell_type": "code",
   "execution_count": 8,
   "metadata": {},
   "outputs": [
    {
     "name": "stderr",
     "output_type": "stream",
     "text": [
      "Failed to detect the name of this notebook, you can set it manually with the WANDB_NOTEBOOK_NAME environment variable to enable code saving.\n",
      "\u001b[34m\u001b[1mwandb\u001b[0m: Currently logged in as: \u001b[33mfelixringe\u001b[0m (\u001b[33mfuels\u001b[0m). Use \u001b[1m`wandb login --relogin`\u001b[0m to force relogin\n"
     ]
    },
    {
     "data": {
      "text/html": [
       "Tracking run with wandb version 0.16.1"
      ],
      "text/plain": [
       "<IPython.core.display.HTML object>"
      ]
     },
     "metadata": {},
     "output_type": "display_data"
    },
    {
     "data": {
      "text/html": [
       "Run data is saved locally in <code>/Users/gisbertgurke/Documents/Projekte/hv-praesenzen/wandb/run-20231219_155359-epy30vht</code>"
      ],
      "text/plain": [
       "<IPython.core.display.HTML object>"
      ]
     },
     "metadata": {},
     "output_type": "display_data"
    },
    {
     "data": {
      "text/html": [
       "Syncing run <strong><a href='https://wandb.ai/fuels/hv-praesenzen/runs/epy30vht' target=\"_blank\">super-haze-87</a></strong> to <a href='https://wandb.ai/fuels/hv-praesenzen' target=\"_blank\">Weights & Biases</a> (<a href='https://wandb.me/run' target=\"_blank\">docs</a>)<br/>"
      ],
      "text/plain": [
       "<IPython.core.display.HTML object>"
      ]
     },
     "metadata": {},
     "output_type": "display_data"
    },
    {
     "data": {
      "text/html": [
       " View project at <a href='https://wandb.ai/fuels/hv-praesenzen' target=\"_blank\">https://wandb.ai/fuels/hv-praesenzen</a>"
      ],
      "text/plain": [
       "<IPython.core.display.HTML object>"
      ]
     },
     "metadata": {},
     "output_type": "display_data"
    },
    {
     "data": {
      "text/html": [
       " View run at <a href='https://wandb.ai/fuels/hv-praesenzen/runs/epy30vht' target=\"_blank\">https://wandb.ai/fuels/hv-praesenzen/runs/epy30vht</a>"
      ],
      "text/plain": [
       "<IPython.core.display.HTML object>"
      ]
     },
     "metadata": {},
     "output_type": "display_data"
    },
    {
     "name": "stderr",
     "output_type": "stream",
     "text": [
      "  0%|          | 0/178 [00:00<?, ?it/s]"
     ]
    },
    {
     "name": "stdout",
     "output_type": "stream",
     "text": [
      "Du bist ein hilfreicher Assistent, der Berichte von Hauptversammlungen auswertet.\n",
      "Im folgenden erhältst du einen Bericht einer Hauptversammlung. Das Dokument enthält eine Tabelle mit einer Kopfzeile, aber die Kopfzeile ist beim Extrahieren des Texts beschädigt worden. Bitte gib mir die volle Bezeichnung jeder Spalte in der korrekten Reihenfolge, wie sie im Dokument auftaucht. Antworte ausschließlich mit einer Liste im Format [spalte_1, spalte_2, spalte_3]. Es kann auch eine Kopfzeile mit Multi-Index sein. Wenn du keine Kopfzeile finden kannst, antworte mit [0]. Bericht: \n",
      "column names: [0]\n",
      "Im folgenden erhältst du einen Bericht einer Hauptversammlung. Werden in dem Dokument wiederholt und ausdrücklich Angaben zum auf der Versammlung vertretenen Grundkapital in Prozent gemacht (Also bspw. 'Grundkapital: 30%'? Antworte nur mit [1] oder [0]. Bericht: \n"
     ]
    },
    {
     "name": "stderr",
     "output_type": "stream",
     "text": [
      " 47%|████▋     | 83/178 [00:02<00:02, 36.15it/s]"
     ]
    },
    {
     "name": "stdout",
     "output_type": "stream",
     "text": [
      "[0]\n",
      "Found file: data/Praesenzen_hv-info/freenet AG-14834/ASM/HV-Beschluss zur ordentlichen Hauptversammlung am 08.08.08.pdf\n",
      "Du bist ein hilfreicher Assistent, der Berichte von Hauptversammlungen auswertet.\n",
      "Im folgenden erhältst du einen Bericht einer Hauptversammlung. Das Dokument enthält eine Tabelle mit einer Kopfzeile, aber die Kopfzeile ist beim Extrahieren des Texts beschädigt worden. Bitte gib mir die volle Bezeichnung jeder Spalte in der korrekten Reihenfolge, wie sie im Dokument auftaucht. Antworte ausschließlich mit einer Liste im Format [spalte_1, spalte_2, spalte_3]. Es kann auch eine Kopfzeile mit Multi-Index sein. Wenn du keine Kopfzeile finden kannst, antworte mit [0]. Bericht: \n",
      "column names: [0]\n",
      "Im folgenden erhältst du einen Bericht einer Hauptversammlung. Werden in dem Dokument wiederholt und ausdrücklich Angaben zum auf der Versammlung vertretenen Grundkapital in Prozent gemacht (Also bspw. 'Grundkapital: 30%'? Antworte nur mit [1] oder [0]. Bericht: \n",
      "0\n",
      "Found file: data/Praesenzen_hv-info/GFT Technologies SE-14835/ASM/HV-Beschluss zur ordentlichen Hauptversammlung am 23.06.15.pdf\n",
      "Du bist ein hilfreicher Assistent, der Berichte von Hauptversammlungen auswertet.\n",
      "Im folgenden erhältst du einen Bericht einer Hauptversammlung. Das Dokument enthält eine Tabelle mit einer Kopfzeile, aber die Kopfzeile ist beim Extrahieren des Texts beschädigt worden. Bitte gib mir die volle Bezeichnung jeder Spalte in der korrekten Reihenfolge, wie sie im Dokument auftaucht. Antworte ausschließlich mit einer Liste im Format [spalte_1, spalte_2, spalte_3]. Es kann auch eine Kopfzeile mit Multi-Index sein. Wenn du keine Kopfzeile finden kannst, antworte mit [0]. Bericht: \n",
      "column names: [0]\n",
      "Im folgenden erhältst du einen Bericht einer Hauptversammlung. Werden in dem Dokument wiederholt und ausdrücklich Angaben zum auf der Versammlung vertretenen Grundkapital in Prozent gemacht (Also bspw. 'Grundkapital: 30%'? Antworte nur mit [1] oder [0]. Bericht: \n",
      "[1]\n",
      "Im folgenden erhältst du einen Bericht von einer Hauptversammlung. Antworte ausschließlich mit einer Liste im Format [zahl_1, zahl_2, zahl_3], die ausschließlich alle die genannten Prozentzahlen enthält, die sich auf den Prozentsatz des auf der Hauptversammlung vertretenen Grundkapitals beziehen. Wenn du dir nicht absolut sicher bist, antworte mit [0]. Verwende Punkt statt Komma für die Zahlen. Bericht: \n"
     ]
    },
    {
     "name": "stderr",
     "output_type": "stream",
     "text": [
      " 48%|████▊     | 85/178 [00:20<00:30,  3.03it/s]"
     ]
    },
    {
     "name": "stdout",
     "output_type": "stream",
     "text": [
      "[51.19, 22.58, 51.04, 51.18, 51.17, 49.07, 50.79, 50.79, 50.79, 50.79, 50.80, 50.80, 50.80, 51.14]\n",
      "highest_percentage:  51.19\n",
      "Found file: data/Praesenzen_hv-info/Deutsche Börse AG-14838/ASM/HV-Beschluss zur ordentlichen Hauptversammlung am 24.05.06.pdf\n",
      "Du bist ein hilfreicher Assistent, der Berichte von Hauptversammlungen auswertet.\n",
      "Im folgenden erhältst du einen Bericht einer Hauptversammlung. Das Dokument enthält eine Tabelle mit einer Kopfzeile, aber die Kopfzeile ist beim Extrahieren des Texts beschädigt worden. Bitte gib mir die volle Bezeichnung jeder Spalte in der korrekten Reihenfolge, wie sie im Dokument auftaucht. Antworte ausschließlich mit einer Liste im Format [spalte_1, spalte_2, spalte_3]. Es kann auch eine Kopfzeile mit Multi-Index sein. Wenn du keine Kopfzeile finden kannst, antworte mit [0]. Bericht: \n",
      "column names: [titel_name, ja_stimmen, ja_prozent, nein_stimmen, nein_prozent, ungueltige_stimmen]\n",
      "user_prompt:  Im folgenden erhältst du einen Bericht einer Hauptversammlung. Das Dokument enthält eine Tabelle mit einer Kopfzeile, aber die Kopfzeile ist beim Extrahieren des Texts beschädigt worden. Die korrekte Kopfzeile habe ich angehängt. Antworte ausschließlich mit einer Liste im Format [zahl_1, zahl_2, zahl_3], die ausschließlich alle die genannten Prozentzahlen enthält, die sich auf den Prozentsatz des auf der Hauptversammlung vertretenen Grundkapitals beziehen. Durchsuche das ganze Dokument nach solchen Zahlen, auch außerhalb von Tabellen. Wenn du dir nicht absolut sicher bist, antworte mit [0]. Verwende Punkt statt Komma für die Zahlen. \n",
      " Korrekte Kopfzeile: \n"
     ]
    },
    {
     "name": "stderr",
     "output_type": "stream",
     "text": [
      " 48%|████▊     | 86/178 [00:47<01:27,  1.05it/s]"
     ]
    },
    {
     "name": "stdout",
     "output_type": "stream",
     "text": [
      "[99.99, 0.01, 99.44, 0.56, 99.25, 0.75, 99.70, 0.30, 99.72, 0.28, 99.54, 0.46, 99.73, 0.27, 99.53, 0.47, 99.74, 0.26, 99.43, 0.57, 99.73, 0.27, 99.70, 0.30, 99.55, 0.45, 99.73, 0.27, 99.54, 0.46, 99.72, 0.28, 99.61, 0.39, 99.04, 0.96, 99.73, 0.27, 99.99, 0.01, 99.08, 0.92, 99.98, 0.02]\n",
      "highest_percentage:  99.99\n",
      "Found file: data/Praesenzen_hv-info/McKesson Europe AG-14846/ASM/HV-Beschluss zur ordentlichen Hauptversammlung am 16.05.13.pdf\n",
      "Du bist ein hilfreicher Assistent, der Berichte von Hauptversammlungen auswertet.\n",
      "Im folgenden erhältst du einen Bericht einer Hauptversammlung. Das Dokument enthält eine Tabelle mit einer Kopfzeile, aber die Kopfzeile ist beim Extrahieren des Texts beschädigt worden. Bitte gib mir die volle Bezeichnung jeder Spalte in der korrekten Reihenfolge, wie sie im Dokument auftaucht. Antworte ausschließlich mit einer Liste im Format [spalte_1, spalte_2, spalte_3]. Es kann auch eine Kopfzeile mit Multi-Index sein. Wenn du keine Kopfzeile finden kannst, antworte mit [0]. Bericht: \n",
      "column names: [aktien_gesamt, ja_stimmen_anzahl, ja_stimmen_prozent, nein_stimmen_anzahl, nein_stimmen_prozent, enthaltungen]\n",
      "user_prompt:  Im folgenden erhältst du einen Bericht einer Hauptversammlung. Das Dokument enthält eine Tabelle mit einer Kopfzeile, aber die Kopfzeile ist beim Extrahieren des Texts beschädigt worden. Die korrekte Kopfzeile habe ich angehängt. Antworte ausschließlich mit einer Liste im Format [zahl_1, zahl_2, zahl_3], die ausschließlich alle die genannten Prozentzahlen enthält, die sich auf den Prozentsatz des auf der Hauptversammlung vertretenen Grundkapitals beziehen. Durchsuche das ganze Dokument nach solchen Zahlen, auch außerhalb von Tabellen. Wenn du dir nicht absolut sicher bist, antworte mit [0]. Verwende Punkt statt Komma für die Zahlen. \n",
      " Korrekte Kopfzeile: \n"
     ]
    },
    {
     "name": "stderr",
     "output_type": "stream",
     "text": [
      " 49%|████▉     | 87/178 [00:57<01:53,  1.24s/it]"
     ]
    },
    {
     "name": "stdout",
     "output_type": "stream",
     "text": [
      "[67.06, 67.06, 67.06, 66.94, 67.00, 67.04, 67.04, 67.04, 67.04, 67.01, 67.04, 67.04, 67.05]\n",
      "highest_percentage:  67.06\n",
      "Found file: data/Praesenzen_hv-info/GfK SE-14857/ASM/HV-Beschluss zur ordentlichen Hauptversammlung am 23.05.07.pdf\n",
      "Du bist ein hilfreicher Assistent, der Berichte von Hauptversammlungen auswertet.\n",
      "Im folgenden erhältst du einen Bericht einer Hauptversammlung. Das Dokument enthält eine Tabelle mit einer Kopfzeile, aber die Kopfzeile ist beim Extrahieren des Texts beschädigt worden. Bitte gib mir die volle Bezeichnung jeder Spalte in der korrekten Reihenfolge, wie sie im Dokument auftaucht. Antworte ausschließlich mit einer Liste im Format [spalte_1, spalte_2, spalte_3]. Es kann auch eine Kopfzeile mit Multi-Index sein. Wenn du keine Kopfzeile finden kannst, antworte mit [0]. Bericht: \n",
      "column names: [Tagesordnungspunkt, Ja-Stimmen absolut, Ja-Stimmen in %, Nein-Stimmen absolut, Nein-Stimmen in %]\n",
      "user_prompt:  Im folgenden erhältst du einen Bericht einer Hauptversammlung. Das Dokument enthält eine Tabelle mit einer Kopfzeile, aber die Kopfzeile ist beim Extrahieren des Texts beschädigt worden. Die korrekte Kopfzeile habe ich angehängt. Antworte ausschließlich mit einer Liste im Format [zahl_1, zahl_2, zahl_3], die ausschließlich alle die genannten Prozentzahlen enthält, die sich auf den Prozentsatz des auf der Hauptversammlung vertretenen Grundkapitals beziehen. Durchsuche das ganze Dokument nach solchen Zahlen, auch außerhalb von Tabellen. Wenn du dir nicht absolut sicher bist, antworte mit [0]. Verwende Punkt statt Komma für die Zahlen. \n",
      " Korrekte Kopfzeile: \n",
      "[80.18]\n",
      "highest_percentage:  80.18\n",
      "Found file: data/Praesenzen_hv-info/GESCO AG-14859/ASM/HV-Beschluss zur ordentlichen Hauptversammlung am 02.09.10.pdf\n",
      "Du bist ein hilfreicher Assistent, der Berichte von Hauptversammlungen auswertet.\n",
      "Im folgenden erhältst du einen Bericht einer Hauptversammlung. Das Dokument enthält eine Tabelle mit einer Kopfzeile, aber die Kopfzeile ist beim Extrahieren des Texts beschädigt worden. Bitte gib mir die volle Bezeichnung jeder Spalte in der korrekten Reihenfolge, wie sie im Dokument auftaucht. Antworte ausschließlich mit einer Liste im Format [spalte_1, spalte_2, spalte_3]. Es kann auch eine Kopfzeile mit Multi-Index sein. Wenn du keine Kopfzeile finden kannst, antworte mit [0]. Bericht: \n",
      "column names: [Tagesordnungspunkt, Zahl der Aktien, für die gültige Stimmen abgegeben wurden, Ja-Stimmen absolut, Ja-Stimmen Anteil in %, Nein-Stimmen absolut, Nein-Stimmen Anteil in %, Enthaltungen absolut, Beschluss]\n",
      "user_prompt:  Im folgenden erhältst du einen Bericht einer Hauptversammlung. Das Dokument enthält eine Tabelle mit einer Kopfzeile, aber die Kopfzeile ist beim Extrahieren des Texts beschädigt worden. Die korrekte Kopfzeile habe ich angehängt. Antworte ausschließlich mit einer Liste im Format [zahl_1, zahl_2, zahl_3], die ausschließlich alle die genannten Prozentzahlen enthält, die sich auf den Prozentsatz des auf der Hauptversammlung vertretenen Grundkapitals beziehen. Durchsuche das ganze Dokument nach solchen Zahlen, auch außerhalb von Tabellen. Wenn du dir nicht absolut sicher bist, antworte mit [0]. Verwende Punkt statt Komma für die Zahlen. \n",
      " Korrekte Kopfzeile: \n"
     ]
    },
    {
     "name": "stderr",
     "output_type": "stream",
     "text": [
      " 50%|█████     | 89/178 [01:12<02:35,  1.75s/it]"
     ]
    },
    {
     "name": "stdout",
     "output_type": "stream",
     "text": [
      "[36.06, 36.05, 35.57, 35.33, 34.64, 35.88, 35.96, 35.99, 35.58, 34.99, 36.00, 36.03]\n",
      "highest_percentage:  36.06\n",
      "Found file: data/Praesenzen_hv-info/DMG MORI AG-14860/ASM/HV-Beschluss zur ordentlichen Hauptversammlung am 13.05.11.pdf\n",
      "Du bist ein hilfreicher Assistent, der Berichte von Hauptversammlungen auswertet.\n",
      "Im folgenden erhältst du einen Bericht einer Hauptversammlung. Das Dokument enthält eine Tabelle mit einer Kopfzeile, aber die Kopfzeile ist beim Extrahieren des Texts beschädigt worden. Bitte gib mir die volle Bezeichnung jeder Spalte in der korrekten Reihenfolge, wie sie im Dokument auftaucht. Antworte ausschließlich mit einer Liste im Format [spalte_1, spalte_2, spalte_3]. Es kann auch eine Kopfzeile mit Multi-Index sein. Wenn du keine Kopfzeile finden kannst, antworte mit [0]. Bericht: \n",
      "column names: [top, Abgegebene Stimmen, Anteil des vertretenen Grundkapitals, Ja-Stimmen, Nein-Stimmen, Anteil Ja-Stimmen]\n",
      "user_prompt:  Im folgenden erhältst du einen Bericht einer Hauptversammlung. Das Dokument enthält eine Tabelle mit einer Kopfzeile, aber die Kopfzeile ist beim Extrahieren des Texts beschädigt worden. Die korrekte Kopfzeile habe ich angehängt. Antworte ausschließlich mit einer Liste im Format [zahl_1, zahl_2, zahl_3], die ausschließlich alle die genannten Prozentzahlen enthält, die sich auf den Prozentsatz des auf der Hauptversammlung vertretenen Grundkapitals beziehen. Durchsuche das ganze Dokument nach solchen Zahlen, auch außerhalb von Tabellen. Wenn du dir nicht absolut sicher bist, antworte mit [0]. Verwende Punkt statt Komma für die Zahlen. \n",
      " Korrekte Kopfzeile: \n"
     ]
    },
    {
     "name": "stderr",
     "output_type": "stream",
     "text": [
      " 51%|█████     | 90/178 [01:21<03:08,  2.15s/it]"
     ]
    },
    {
     "name": "stdout",
     "output_type": "stream",
     "text": [
      "[44.41, 44.39, 24.30, 44.37]\n",
      "highest_percentage:  44.41\n",
      "Found file: data/Praesenzen_hv-info/Grammer AG-14866/ASM/HV-Beschluss zur ordentlichen Hauptversammlung am 28.05.08.pdf\n",
      "Du bist ein hilfreicher Assistent, der Berichte von Hauptversammlungen auswertet.\n",
      "Im folgenden erhältst du einen Bericht einer Hauptversammlung. Das Dokument enthält eine Tabelle mit einer Kopfzeile, aber die Kopfzeile ist beim Extrahieren des Texts beschädigt worden. Bitte gib mir die volle Bezeichnung jeder Spalte in der korrekten Reihenfolge, wie sie im Dokument auftaucht. Antworte ausschließlich mit einer Liste im Format [spalte_1, spalte_2, spalte_3]. Es kann auch eine Kopfzeile mit Multi-Index sein. Wenn du keine Kopfzeile finden kannst, antworte mit [0]. Bericht: \n",
      "column names: [0]\n",
      "Im folgenden erhältst du einen Bericht einer Hauptversammlung. Werden in dem Dokument wiederholt und ausdrücklich Angaben zum auf der Versammlung vertretenen Grundkapital in Prozent gemacht (Also bspw. 'Grundkapital: 30%'? Antworte nur mit [1] oder [0]. Bericht: \n"
     ]
    },
    {
     "name": "stderr",
     "output_type": "stream",
     "text": [
      " 51%|█████     | 91/178 [01:22<03:04,  2.12s/it]"
     ]
    },
    {
     "name": "stdout",
     "output_type": "stream",
     "text": [
      "0\n",
      "Found file: data/Praesenzen_hv-info/Bilfinger SE-14884/ASM/HV-Beschluss zur ordentlichen Hauptversammlung am 31.05.11.pdf\n",
      "Du bist ein hilfreicher Assistent, der Berichte von Hauptversammlungen auswertet.\n",
      "Im folgenden erhältst du einen Bericht einer Hauptversammlung. Das Dokument enthält eine Tabelle mit einer Kopfzeile, aber die Kopfzeile ist beim Extrahieren des Texts beschädigt worden. Bitte gib mir die volle Bezeichnung jeder Spalte in der korrekten Reihenfolge, wie sie im Dokument auftaucht. Antworte ausschließlich mit einer Liste im Format [spalte_1, spalte_2, spalte_3]. Es kann auch eine Kopfzeile mit Multi-Index sein. Wenn du keine Kopfzeile finden kannst, antworte mit [0]. Bericht: \n",
      "column names: [TOP, Tagesordnungspunkte, abgegebene gültige Stimmen, in % des satzungsgemäßen Grundkapitals, Ja Stimmen, in %, Nein Stimmen, Enthaltung]\n",
      "user_prompt:  Im folgenden erhältst du einen Bericht einer Hauptversammlung. Das Dokument enthält eine Tabelle mit einer Kopfzeile, aber die Kopfzeile ist beim Extrahieren des Texts beschädigt worden. Die korrekte Kopfzeile habe ich angehängt. Antworte ausschließlich mit einer Liste im Format [zahl_1, zahl_2, zahl_3], die ausschließlich alle die genannten Prozentzahlen enthält, die sich auf den Prozentsatz des auf der Hauptversammlung vertretenen Grundkapitals beziehen. Durchsuche das ganze Dokument nach solchen Zahlen, auch außerhalb von Tabellen. Wenn du dir nicht absolut sicher bist, antworte mit [0]. Verwende Punkt statt Komma für die Zahlen. \n",
      " Korrekte Kopfzeile: \n"
     ]
    },
    {
     "name": "stderr",
     "output_type": "stream",
     "text": [
      " 52%|█████▏    | 92/178 [01:38<04:53,  3.41s/it]"
     ]
    },
    {
     "name": "stdout",
     "output_type": "stream",
     "text": [
      "[52.37, 52.36, 50.43, 52.25, 46.13, 52.36, 52.36, 52.35, 52.35, 52.36, 52.22, 52.35, 52.35, 52.34]\n",
      "highest_percentage:  52.37\n",
      "Du bist ein hilfreicher Assistent, der Berichte von Hauptversammlungen auswertet.\n",
      "Im folgenden erhältst du einen Bericht einer Hauptversammlung. Das Dokument enthält eine Tabelle mit einer Kopfzeile, aber die Kopfzeile ist beim Extrahieren des Texts beschädigt worden. Bitte gib mir die volle Bezeichnung jeder Spalte in der korrekten Reihenfolge, wie sie im Dokument auftaucht. Antworte ausschließlich mit einer Liste im Format [spalte_1, spalte_2, spalte_3]. Es kann auch eine Kopfzeile mit Multi-Index sein. Wenn du keine Kopfzeile finden kannst, antworte mit [0]. Bericht: \n",
      "column names: [tagesordnungspunkte, aktien_für_die_gültige_stimmen_abgegeben_worden_sind, anteil_am_grundkapital, ja-stimmen_in_prozent, nein-stimmen_in_prozent, enthaltungen]\n",
      "user_prompt:  Im folgenden erhältst du einen Bericht einer Hauptversammlung. Das Dokument enthält eine Tabelle mit einer Kopfzeile, aber die Kopfzeile ist beim Extrahieren des Texts beschädigt worden. Die korrekte Kopfzeile habe ich angehängt. Antworte ausschließlich mit einer Liste im Format [zahl_1, zahl_2, zahl_3], die ausschließlich alle die genannten Prozentzahlen enthält, die sich auf den Prozentsatz des auf der Hauptversammlung vertretenen Grundkapitals beziehen. Durchsuche das ganze Dokument nach solchen Zahlen, auch außerhalb von Tabellen. Wenn du dir nicht absolut sicher bist, antworte mit [0]. Verwende Punkt statt Komma für die Zahlen. \n",
      " Korrekte Kopfzeile: \n"
     ]
    },
    {
     "name": "stderr",
     "output_type": "stream",
     "text": [
      " 52%|█████▏    | 93/178 [01:47<05:47,  4.09s/it]"
     ]
    },
    {
     "name": "stdout",
     "output_type": "stream",
     "text": [
      "[75.43, 45.43, 45.93, 75.43, 75.43, 75.43]\n",
      "highest_percentage:  75.43\n",
      "Found file: data/Praesenzen_hv-info/Hochtief AG-14930/ASM/HV-Beschluss zur ordentlichen Hauptversammlung am 07.05.09.pdf\n",
      "Du bist ein hilfreicher Assistent, der Berichte von Hauptversammlungen auswertet.\n",
      "Im folgenden erhältst du einen Bericht einer Hauptversammlung. Das Dokument enthält eine Tabelle mit einer Kopfzeile, aber die Kopfzeile ist beim Extrahieren des Texts beschädigt worden. Bitte gib mir die volle Bezeichnung jeder Spalte in der korrekten Reihenfolge, wie sie im Dokument auftaucht. Antworte ausschließlich mit einer Liste im Format [spalte_1, spalte_2, spalte_3]. Es kann auch eine Kopfzeile mit Multi-Index sein. Wenn du keine Kopfzeile finden kannst, antworte mit [0]. Bericht: \n",
      "column names: [Tagesordnungspunkt, Ja-Stimmen in Stimmen, Ja-Stimmen in %, Nein-Stimmen in Stimmen, Nein-Stimmen in %, Enthaltungen in Stimmen]\n",
      "user_prompt:  Im folgenden erhältst du einen Bericht einer Hauptversammlung. Das Dokument enthält eine Tabelle mit einer Kopfzeile, aber die Kopfzeile ist beim Extrahieren des Texts beschädigt worden. Die korrekte Kopfzeile habe ich angehängt. Antworte ausschließlich mit einer Liste im Format [zahl_1, zahl_2, zahl_3], die ausschließlich alle die genannten Prozentzahlen enthält, die sich auf den Prozentsatz des auf der Hauptversammlung vertretenen Grundkapitals beziehen. Durchsuche das ganze Dokument nach solchen Zahlen, auch außerhalb von Tabellen. Wenn du dir nicht absolut sicher bist, antworte mit [0]. Verwende Punkt statt Komma für die Zahlen. \n",
      " Korrekte Kopfzeile: \n"
     ]
    },
    {
     "name": "stderr",
     "output_type": "stream",
     "text": [
      " 53%|█████▎    | 94/178 [02:01<07:46,  5.55s/it]"
     ]
    },
    {
     "name": "stdout",
     "output_type": "stream",
     "text": [
      "[60.91, 99.99, 0.01, 99.92, 0.08, 99.91, 0.09, 99.95, 0.05, 99.94, 0.06, 98.66, 1.34, 99.99, 0.01, 98.85, 1.15, 99.99, 0.01, 99.99, 0.01, 99.99, 0.01, 99.99, 0.01]\n",
      "highest_percentage:  99.99\n",
      "Found file: data/Praesenzen_hv-info/Indus Holding AG-14954/ASM/HV-Beschluss zur ordentlichen Hauptversammlung am 01.07.09.pdf\n",
      "Du bist ein hilfreicher Assistent, der Berichte von Hauptversammlungen auswertet.\n",
      "Im folgenden erhältst du einen Bericht einer Hauptversammlung. Das Dokument enthält eine Tabelle mit einer Kopfzeile, aber die Kopfzeile ist beim Extrahieren des Texts beschädigt worden. Bitte gib mir die volle Bezeichnung jeder Spalte in der korrekten Reihenfolge, wie sie im Dokument auftaucht. Antworte ausschließlich mit einer Liste im Format [spalte_1, spalte_2, spalte_3]. Es kann auch eine Kopfzeile mit Multi-Index sein. Wenn du keine Kopfzeile finden kannst, antworte mit [0]. Bericht: \n",
      "column names: [Tagesordnungspunkt, Ja, Nein, Anteil Zustimmung]\n",
      "user_prompt:  Im folgenden erhältst du einen Bericht einer Hauptversammlung. Das Dokument enthält eine Tabelle mit einer Kopfzeile, aber die Kopfzeile ist beim Extrahieren des Texts beschädigt worden. Die korrekte Kopfzeile habe ich angehängt. Antworte ausschließlich mit einer Liste im Format [zahl_1, zahl_2, zahl_3], die ausschließlich alle die genannten Prozentzahlen enthält, die sich auf den Prozentsatz des auf der Hauptversammlung vertretenen Grundkapitals beziehen. Durchsuche das ganze Dokument nach solchen Zahlen, auch außerhalb von Tabellen. Wenn du dir nicht absolut sicher bist, antworte mit [0]. Verwende Punkt statt Komma für die Zahlen. \n",
      " Korrekte Kopfzeile: \n"
     ]
    },
    {
     "name": "stderr",
     "output_type": "stream",
     "text": [
      " 53%|█████▎    | 95/178 [02:05<07:16,  5.26s/it]"
     ]
    },
    {
     "name": "stdout",
     "output_type": "stream",
     "text": [
      "[29.83]\n",
      "highest_percentage:  29.83\n",
      "Found file: data/Praesenzen_hv-info/Salzgitter AG-14956/ASM/HV-Beschluss zur ordentlichen Hauptversammlung am 21.05.08.pdf\n",
      "There was an error. Not evaluating this document.\n",
      "Found file: data/Praesenzen_hv-info/KUKA AG-14958/ASM/HV-Beschluss zur ordentlichen Hauptversammlung am 16.05.07.pdf\n",
      "Du bist ein hilfreicher Assistent, der Berichte von Hauptversammlungen auswertet.\n",
      "Im folgenden erhältst du einen Bericht einer Hauptversammlung. Das Dokument enthält eine Tabelle mit einer Kopfzeile, aber die Kopfzeile ist beim Extrahieren des Texts beschädigt worden. Bitte gib mir die volle Bezeichnung jeder Spalte in der korrekten Reihenfolge, wie sie im Dokument auftaucht. Antworte ausschließlich mit einer Liste im Format [spalte_1, spalte_2, spalte_3]. Es kann auch eine Kopfzeile mit Multi-Index sein. Wenn du keine Kopfzeile finden kannst, antworte mit [0]. Bericht: \n",
      "column names: [tagesordnungspunkt, ja-stimmen]\n",
      "user_prompt:  Im folgenden erhältst du einen Bericht einer Hauptversammlung. Das Dokument enthält eine Tabelle mit einer Kopfzeile, aber die Kopfzeile ist beim Extrahieren des Texts beschädigt worden. Die korrekte Kopfzeile habe ich angehängt. Antworte ausschließlich mit einer Liste im Format [zahl_1, zahl_2, zahl_3], die ausschließlich alle die genannten Prozentzahlen enthält, die sich auf den Prozentsatz des auf der Hauptversammlung vertretenen Grundkapitals beziehen. Durchsuche das ganze Dokument nach solchen Zahlen, auch außerhalb von Tabellen. Wenn du dir nicht absolut sicher bist, antworte mit [0]. Verwende Punkt statt Komma für die Zahlen. \n",
      " Korrekte Kopfzeile: \n"
     ]
    },
    {
     "name": "stderr",
     "output_type": "stream",
     "text": [
      " 54%|█████▍    | 97/178 [02:07<05:17,  3.93s/it]"
     ]
    },
    {
     "name": "stdout",
     "output_type": "stream",
     "text": [
      "[53.0]\n",
      "highest_percentage:  53.0\n",
      "Found file: data/Praesenzen_hv-info/IVG Immobilien AG-14960/ASM/HV-Beschluss zur ordentlichen Hauptversammlung am 15.05.12.pdf\n",
      "Du bist ein hilfreicher Assistent, der Berichte von Hauptversammlungen auswertet.\n",
      "Im folgenden erhältst du einen Bericht einer Hauptversammlung. Das Dokument enthält eine Tabelle mit einer Kopfzeile, aber die Kopfzeile ist beim Extrahieren des Texts beschädigt worden. Bitte gib mir die volle Bezeichnung jeder Spalte in der korrekten Reihenfolge, wie sie im Dokument auftaucht. Antworte ausschließlich mit einer Liste im Format [spalte_1, spalte_2, spalte_3]. Es kann auch eine Kopfzeile mit Multi-Index sein. Wenn du keine Kopfzeile finden kannst, antworte mit [0]. Bericht: \n",
      "column names: [aktien_gueltige_stimmen, ja_stimmen_anzahl, ja_stimmen_prozent, nein_stimmen_anzahl, nein_stimmen_prozent]\n",
      "user_prompt:  Im folgenden erhältst du einen Bericht einer Hauptversammlung. Das Dokument enthält eine Tabelle mit einer Kopfzeile, aber die Kopfzeile ist beim Extrahieren des Texts beschädigt worden. Die korrekte Kopfzeile habe ich angehängt. Antworte ausschließlich mit einer Liste im Format [zahl_1, zahl_2, zahl_3], die ausschließlich alle die genannten Prozentzahlen enthält, die sich auf den Prozentsatz des auf der Hauptversammlung vertretenen Grundkapitals beziehen. Durchsuche das ganze Dokument nach solchen Zahlen, auch außerhalb von Tabellen. Wenn du dir nicht absolut sicher bist, antworte mit [0]. Verwende Punkt statt Komma für die Zahlen. \n",
      " Korrekte Kopfzeile: \n"
     ]
    },
    {
     "name": "stderr",
     "output_type": "stream",
     "text": [
      " 55%|█████▌    | 98/178 [02:22<08:08,  6.10s/it]"
     ]
    },
    {
     "name": "stdout",
     "output_type": "stream",
     "text": [
      "[48.05, 48.03, 48.03, 47.67, 46.61, 46.24, 46.23, 47.67, 48.05, 48.05, 48.04, 48.05, 48.05, 48.05, 47.76, 48.00, 48.01, 48.01, 48.01, 47.97, 48.01, 48.01, 48.00]\n",
      "highest_percentage:  48.05\n",
      "Du bist ein hilfreicher Assistent, der Berichte von Hauptversammlungen auswertet.\n",
      "Im folgenden erhältst du einen Bericht einer Hauptversammlung. Das Dokument enthält eine Tabelle mit einer Kopfzeile, aber die Kopfzeile ist beim Extrahieren des Texts beschädigt worden. Bitte gib mir die volle Bezeichnung jeder Spalte in der korrekten Reihenfolge, wie sie im Dokument auftaucht. Antworte ausschließlich mit einer Liste im Format [spalte_1, spalte_2, spalte_3]. Es kann auch eine Kopfzeile mit Multi-Index sein. Wenn du keine Kopfzeile finden kannst, antworte mit [0]. Bericht: \n",
      "column names: [0]\n",
      "Im folgenden erhältst du einen Bericht einer Hauptversammlung. Werden in dem Dokument wiederholt und ausdrücklich Angaben zum auf der Versammlung vertretenen Grundkapital in Prozent gemacht (Also bspw. 'Grundkapital: 30%'? Antworte nur mit [1] oder [0]. Bericht: \n",
      "[1]\n",
      "Im folgenden erhältst du einen Bericht von einer Hauptversammlung. Antworte ausschließlich mit einer Liste im Format [zahl_1, zahl_2, zahl_3], die ausschließlich alle die genannten Prozentzahlen enthält, die sich auf den Prozentsatz des auf der Hauptversammlung vertretenen Grundkapitals beziehen. Wenn du dir nicht absolut sicher bist, antworte mit [0]. Verwende Punkt statt Komma für die Zahlen. Bericht: \n"
     ]
    },
    {
     "name": "stderr",
     "output_type": "stream",
     "text": [
      " 56%|█████▌    | 99/178 [02:25<06:57,  5.28s/it]"
     ]
    },
    {
     "name": "stdout",
     "output_type": "stream",
     "text": [
      "[100]\n",
      "highest_percentage:  100\n",
      "Found file: data/Praesenzen_hv-info/Infineon Technologies AG-14985/ASM/HV-Beschluss zur ordentlichen Hauptversammlung am 11.02.10.pdf\n",
      "Du bist ein hilfreicher Assistent, der Berichte von Hauptversammlungen auswertet.\n",
      "Im folgenden erhältst du einen Bericht einer Hauptversammlung. Das Dokument enthält eine Tabelle mit einer Kopfzeile, aber die Kopfzeile ist beim Extrahieren des Texts beschädigt worden. Bitte gib mir die volle Bezeichnung jeder Spalte in der korrekten Reihenfolge, wie sie im Dokument auftaucht. Antworte ausschließlich mit einer Liste im Format [spalte_1, spalte_2, spalte_3]. Es kann auch eine Kopfzeile mit Multi-Index sein. Wenn du keine Kopfzeile finden kannst, antworte mit [0]. Bericht: \n",
      "column names: [Top, Beschlussfassungen, JA-Stimmen, NEIN-Stimmen, Abgegebene gültige Stimmen*, In % des satzungsgemäßen Grundkapitals, Ergebnis]\n",
      "user_prompt:  Im folgenden erhältst du einen Bericht einer Hauptversammlung. Das Dokument enthält eine Tabelle mit einer Kopfzeile, aber die Kopfzeile ist beim Extrahieren des Texts beschädigt worden. Die korrekte Kopfzeile habe ich angehängt. Antworte ausschließlich mit einer Liste im Format [zahl_1, zahl_2, zahl_3], die ausschließlich alle die genannten Prozentzahlen enthält, die sich auf den Prozentsatz des auf der Hauptversammlung vertretenen Grundkapitals beziehen. Durchsuche das ganze Dokument nach solchen Zahlen, auch außerhalb von Tabellen. Wenn du dir nicht absolut sicher bist, antworte mit [0]. Verwende Punkt statt Komma für die Zahlen. \n",
      " Korrekte Kopfzeile: \n"
     ]
    },
    {
     "name": "stderr",
     "output_type": "stream",
     "text": [
      " 56%|█████▌    | 100/178 [02:51<13:16, 10.21s/it]"
     ]
    },
    {
     "name": "stdout",
     "output_type": "stream",
     "text": [
      "[49.351, 50.358, 49.315, 48.675, 49.315, 49.046, 49.026, 40.483, 45.806, 49.330, 49.327, 49.054, 49.020, 49.517, 49.336, 49.341, 49.342, 49.344, 49.341, 49.340, 49.042, 49.037, 50.036, 50.021, 50.019, 50.033, 48.461, 48.734, 48.741, 48.741, 48.738, 48.734, 48.733, 48.740, 48.734, 48.736, 48.737, 48.736, 48.736, 48.738, 48.733, 48.736, 48.736, 48.729, 48.732, 48.729, 48.744, 48.788]\n",
      "highest_percentage:  50.36\n",
      "Found file: data/Praesenzen_hv-info/KRONES AG-15018/ASM/HV-Beschluss zur ordentlichen Hauptversammlung am 25.06.14.pdf\n",
      "Du bist ein hilfreicher Assistent, der Berichte von Hauptversammlungen auswertet.\n",
      "Im folgenden erhältst du einen Bericht einer Hauptversammlung. Das Dokument enthält eine Tabelle mit einer Kopfzeile, aber die Kopfzeile ist beim Extrahieren des Texts beschädigt worden. Bitte gib mir die volle Bezeichnung jeder Spalte in der korrekten Reihenfolge, wie sie im Dokument auftaucht. Antworte ausschließlich mit einer Liste im Format [spalte_1, spalte_2, spalte_3]. Es kann auch eine Kopfzeile mit Multi-Index sein. Wenn du keine Kopfzeile finden kannst, antworte mit [0]. Bericht: \n",
      "column names: [TOP, Tagesordnungspunkte, abgegebene gültige Stimmen, in % des Grundkapitals, Ja Stimmen, in %, Nein Stimmen, in %, Enthaltung]\n",
      "user_prompt:  Im folgenden erhältst du einen Bericht einer Hauptversammlung. Das Dokument enthält eine Tabelle mit einer Kopfzeile, aber die Kopfzeile ist beim Extrahieren des Texts beschädigt worden. Die korrekte Kopfzeile habe ich angehängt. Antworte ausschließlich mit einer Liste im Format [zahl_1, zahl_2, zahl_3], die ausschließlich alle die genannten Prozentzahlen enthält, die sich auf den Prozentsatz des auf der Hauptversammlung vertretenen Grundkapitals beziehen. Durchsuche das ganze Dokument nach solchen Zahlen, auch außerhalb von Tabellen. Wenn du dir nicht absolut sicher bist, antworte mit [0]. Verwende Punkt statt Komma für die Zahlen. \n",
      " Korrekte Kopfzeile: \n"
     ]
    },
    {
     "name": "stderr",
     "output_type": "stream",
     "text": [
      " 57%|█████▋    | 101/178 [02:59<12:15,  9.55s/it]"
     ]
    },
    {
     "name": "stdout",
     "output_type": "stream",
     "text": [
      "[81.90, 69.29, 75.40, 81.84, 80.04, 81.35, 81.84, 77.08, 81.89]\n",
      "highest_percentage:  81.9\n",
      "Found file: data/Praesenzen_hv-info/Nemetschek SE-15031/ASM/HV-Beschluss zur ordentlichen Hauptversammlung am 20.05.15.pdf\n",
      "Du bist ein hilfreicher Assistent, der Berichte von Hauptversammlungen auswertet.\n",
      "Im folgenden erhältst du einen Bericht einer Hauptversammlung. Das Dokument enthält eine Tabelle mit einer Kopfzeile, aber die Kopfzeile ist beim Extrahieren des Texts beschädigt worden. Bitte gib mir die volle Bezeichnung jeder Spalte in der korrekten Reihenfolge, wie sie im Dokument auftaucht. Antworte ausschließlich mit einer Liste im Format [spalte_1, spalte_2, spalte_3]. Es kann auch eine Kopfzeile mit Multi-Index sein. Wenn du keine Kopfzeile finden kannst, antworte mit [0]. Bericht: \n",
      "column names: [Tagesordnungspunkte, Enthaltungen, Abgegebene gültige Stimmen, Anteil des vertretenen Grundkapitals, Ja-Stimmen, Nein-Stimmen, Anteil der Ja-Stimmen, Vorschlag der Verwaltung]\n",
      "user_prompt:  Im folgenden erhältst du einen Bericht einer Hauptversammlung. Das Dokument enthält eine Tabelle mit einer Kopfzeile, aber die Kopfzeile ist beim Extrahieren des Texts beschädigt worden. Die korrekte Kopfzeile habe ich angehängt. Antworte ausschließlich mit einer Liste im Format [zahl_1, zahl_2, zahl_3], die ausschließlich alle die genannten Prozentzahlen enthält, die sich auf den Prozentsatz des auf der Hauptversammlung vertretenen Grundkapitals beziehen. Durchsuche das ganze Dokument nach solchen Zahlen, auch außerhalb von Tabellen. Wenn du dir nicht absolut sicher bist, antworte mit [0]. Verwende Punkt statt Komma für die Zahlen. \n",
      " Korrekte Kopfzeile: \n"
     ]
    },
    {
     "name": "stderr",
     "output_type": "stream",
     "text": [
      " 57%|█████▋    | 102/178 [03:09<12:23,  9.79s/it]"
     ]
    },
    {
     "name": "stdout",
     "output_type": "stream",
     "text": [
      "[80.10, 79.88, 25.57, 80.10, 80.09, 80.10, 80.10, 80.10, 80.10]\n",
      "highest_percentage:  80.1\n",
      "Found file: data/Praesenzen_hv-info/VTG Aktiengesellschaft-15037/ASM/HV-Beschluss zur ordentlichen Hauptversammlung am 18.06.08.pdf\n",
      "There was an error. Not evaluating this document.\n",
      "Found file: data/Praesenzen_hv-info/Linde AG-15039/ASM/HV-Beschluss zur ordentlichen Hauptversammlung am 15.05.09.pdf\n",
      "Du bist ein hilfreicher Assistent, der Berichte von Hauptversammlungen auswertet.\n",
      "Im folgenden erhältst du einen Bericht einer Hauptversammlung. Das Dokument enthält eine Tabelle mit einer Kopfzeile, aber die Kopfzeile ist beim Extrahieren des Texts beschädigt worden. Bitte gib mir die volle Bezeichnung jeder Spalte in der korrekten Reihenfolge, wie sie im Dokument auftaucht. Antworte ausschließlich mit einer Liste im Format [spalte_1, spalte_2, spalte_3]. Es kann auch eine Kopfzeile mit Multi-Index sein. Wenn du keine Kopfzeile finden kannst, antworte mit [0]. Bericht: \n",
      "column names: [tagesordnungspunkte, ja_stimmen_in_prozent, nein_stimmen, enthaltung_stimmen]\n",
      "user_prompt:  Im folgenden erhältst du einen Bericht einer Hauptversammlung. Das Dokument enthält eine Tabelle mit einer Kopfzeile, aber die Kopfzeile ist beim Extrahieren des Texts beschädigt worden. Die korrekte Kopfzeile habe ich angehängt. Antworte ausschließlich mit einer Liste im Format [zahl_1, zahl_2, zahl_3], die ausschließlich alle die genannten Prozentzahlen enthält, die sich auf den Prozentsatz des auf der Hauptversammlung vertretenen Grundkapitals beziehen. Durchsuche das ganze Dokument nach solchen Zahlen, auch außerhalb von Tabellen. Wenn du dir nicht absolut sicher bist, antworte mit [0]. Verwende Punkt statt Komma für die Zahlen. \n",
      " Korrekte Kopfzeile: \n"
     ]
    },
    {
     "name": "stderr",
     "output_type": "stream",
     "text": [
      " 58%|█████▊    | 104/178 [03:18<09:16,  7.52s/it]"
     ]
    },
    {
     "name": "stdout",
     "output_type": "stream",
     "text": [
      "[99.99, 99.67, 99.66, 99.91, 96.02, 99.95, 99.99]\n",
      "highest_percentage:  99.99\n",
      "Found file: data/Praesenzen_hv-info/MLP  SE-15057/ASM/HV-Beschluss zur ordentlichen Hauptversammlung am 31.05.06.pdf\n",
      "Du bist ein hilfreicher Assistent, der Berichte von Hauptversammlungen auswertet.\n",
      "Im folgenden erhältst du einen Bericht einer Hauptversammlung. Das Dokument enthält eine Tabelle mit einer Kopfzeile, aber die Kopfzeile ist beim Extrahieren des Texts beschädigt worden. Bitte gib mir die volle Bezeichnung jeder Spalte in der korrekten Reihenfolge, wie sie im Dokument auftaucht. Antworte ausschließlich mit einer Liste im Format [spalte_1, spalte_2, spalte_3]. Es kann auch eine Kopfzeile mit Multi-Index sein. Wenn du keine Kopfzeile finden kannst, antworte mit [0]. Bericht: \n",
      "column names: [Tagesordnungspunkt, Ja-Stimmen in Prozent]\n",
      "user_prompt:  Im folgenden erhältst du einen Bericht einer Hauptversammlung. Das Dokument enthält eine Tabelle mit einer Kopfzeile, aber die Kopfzeile ist beim Extrahieren des Texts beschädigt worden. Die korrekte Kopfzeile habe ich angehängt. Antworte ausschließlich mit einer Liste im Format [zahl_1, zahl_2, zahl_3], die ausschließlich alle die genannten Prozentzahlen enthält, die sich auf den Prozentsatz des auf der Hauptversammlung vertretenen Grundkapitals beziehen. Durchsuche das ganze Dokument nach solchen Zahlen, auch außerhalb von Tabellen. Wenn du dir nicht absolut sicher bist, antworte mit [0]. Verwende Punkt statt Komma für die Zahlen. \n",
      " Korrekte Kopfzeile: \n"
     ]
    },
    {
     "name": "stderr",
     "output_type": "stream",
     "text": [
      " 59%|█████▉    | 105/178 [03:21<07:52,  6.47s/it]"
     ]
    },
    {
     "name": "stdout",
     "output_type": "stream",
     "text": [
      "[65.43]\n",
      "highest_percentage:  65.43\n",
      "Found file: data/Praesenzen_hv-info/Merck KGaA-15073/ASM/HV-Beschluss zur ordentlichen Hauptversammlung am 28.03.08.pdf\n",
      "Du bist ein hilfreicher Assistent, der Berichte von Hauptversammlungen auswertet.\n",
      "Im folgenden erhältst du einen Bericht einer Hauptversammlung. Das Dokument enthält eine Tabelle mit einer Kopfzeile, aber die Kopfzeile ist beim Extrahieren des Texts beschädigt worden. Bitte gib mir die volle Bezeichnung jeder Spalte in der korrekten Reihenfolge, wie sie im Dokument auftaucht. Antworte ausschließlich mit einer Liste im Format [spalte_1, spalte_2, spalte_3]. Es kann auch eine Kopfzeile mit Multi-Index sein. Wenn du keine Kopfzeile finden kannst, antworte mit [0]. Bericht: \n",
      "column names: [0]\n",
      "Im folgenden erhältst du einen Bericht einer Hauptversammlung. Werden in dem Dokument wiederholt und ausdrücklich Angaben zum auf der Versammlung vertretenen Grundkapital in Prozent gemacht (Also bspw. 'Grundkapital: 30%'? Antworte nur mit [1] oder [0]. Bericht: \n",
      "[1]\n",
      "Im folgenden erhältst du einen Bericht von einer Hauptversammlung. Antworte ausschließlich mit einer Liste im Format [zahl_1, zahl_2, zahl_3], die ausschließlich alle die genannten Prozentzahlen enthält, die sich auf den Prozentsatz des auf der Hauptversammlung vertretenen Grundkapitals beziehen. Wenn du dir nicht absolut sicher bist, antworte mit [0]. Verwende Punkt statt Komma für die Zahlen. Bericht: \n"
     ]
    },
    {
     "name": "stderr",
     "output_type": "stream",
     "text": [
      " 60%|█████▉    | 106/178 [03:25<07:06,  5.93s/it]"
     ]
    },
    {
     "name": "stdout",
     "output_type": "stream",
     "text": [
      "[54.96, 75]\n",
      "highest_percentage:  75\n",
      "Du bist ein hilfreicher Assistent, der Berichte von Hauptversammlungen auswertet.\n",
      "Im folgenden erhältst du einen Bericht einer Hauptversammlung. Das Dokument enthält eine Tabelle mit einer Kopfzeile, aber die Kopfzeile ist beim Extrahieren des Texts beschädigt worden. Bitte gib mir die volle Bezeichnung jeder Spalte in der korrekten Reihenfolge, wie sie im Dokument auftaucht. Antworte ausschließlich mit einer Liste im Format [spalte_1, spalte_2, spalte_3]. Es kann auch eine Kopfzeile mit Multi-Index sein. Wenn du keine Kopfzeile finden kannst, antworte mit [0]. Bericht: \n",
      "column names: [Abstimmungsergebnis, Stimmen, Anteil Zustimmung]\n",
      "user_prompt:  Im folgenden erhältst du einen Bericht einer Hauptversammlung. Das Dokument enthält eine Tabelle mit einer Kopfzeile, aber die Kopfzeile ist beim Extrahieren des Texts beschädigt worden. Die korrekte Kopfzeile habe ich angehängt. Antworte ausschließlich mit einer Liste im Format [zahl_1, zahl_2, zahl_3], die ausschließlich alle die genannten Prozentzahlen enthält, die sich auf den Prozentsatz des auf der Hauptversammlung vertretenen Grundkapitals beziehen. Durchsuche das ganze Dokument nach solchen Zahlen, auch außerhalb von Tabellen. Wenn du dir nicht absolut sicher bist, antworte mit [0]. Verwende Punkt statt Komma für die Zahlen. \n",
      " Korrekte Kopfzeile: \n"
     ]
    },
    {
     "name": "stderr",
     "output_type": "stream",
     "text": [
      " 60%|██████    | 107/178 [03:33<07:26,  6.28s/it]"
     ]
    },
    {
     "name": "stdout",
     "output_type": "stream",
     "text": [
      "[99.8586, 99.9592, 99.957, 99.9579, 99.9637]\n",
      "highest_percentage:  99.96\n",
      "Found file: data/Praesenzen_hv-info/Morphosys AG-15099/ASM/HV-Beschluss zur ordentlichen Hauptversammlung am 04.06.13.pdf\n",
      "Du bist ein hilfreicher Assistent, der Berichte von Hauptversammlungen auswertet.\n",
      "Im folgenden erhältst du einen Bericht einer Hauptversammlung. Das Dokument enthält eine Tabelle mit einer Kopfzeile, aber die Kopfzeile ist beim Extrahieren des Texts beschädigt worden. Bitte gib mir die volle Bezeichnung jeder Spalte in der korrekten Reihenfolge, wie sie im Dokument auftaucht. Antworte ausschließlich mit einer Liste im Format [spalte_1, spalte_2, spalte_3]. Es kann auch eine Kopfzeile mit Multi-Index sein. Wenn du keine Kopfzeile finden kannst, antworte mit [0]. Bericht: \n",
      "column names: [TOP, Bezeichnung, Zahl der Aktien, für die gültige Stimmen abgegeben wurden, in % vom Grundkapital, Ja-Stimmen absolut, Ja-Stimmen Anteil in %, Nein-Stimmen absolut, Nein-Stimmen Anteil in %, Enthaltungen, Beschluss]\n",
      "user_prompt:  Im folgenden erhältst du einen Bericht einer Hauptversammlung. Das Dokument enthält eine Tabelle mit einer Kopfzeile, aber die Kopfzeile ist beim Extrahieren des Texts beschädigt worden. Die korrekte Kopfzeile habe ich angehängt. Antworte ausschließlich mit einer Liste im Format [zahl_1, zahl_2, zahl_3], die ausschließlich alle die genannten Prozentzahlen enthält, die sich auf den Prozentsatz des auf der Hauptversammlung vertretenen Grundkapitals beziehen. Durchsuche das ganze Dokument nach solchen Zahlen, auch außerhalb von Tabellen. Wenn du dir nicht absolut sicher bist, antworte mit [0]. Verwende Punkt statt Komma für die Zahlen. \n",
      " Korrekte Kopfzeile: \n"
     ]
    },
    {
     "name": "stderr",
     "output_type": "stream",
     "text": [
      " 61%|██████    | 108/178 [03:44<08:53,  7.62s/it]"
     ]
    },
    {
     "name": "stdout",
     "output_type": "stream",
     "text": [
      "[41.4628, 0.0908, 41.5536, 41.55, 39.67, 41.43, 41.53, 41.53, 40.80]\n",
      "highest_percentage:  41.55\n",
      "Found file: data/Praesenzen_hv-info/Pfeiffer Vacuum Technology AG-15160/ASM/HV-Beschluss zur ordentlichen Hauptversammlung am 31.05.06.pdf\n",
      "Du bist ein hilfreicher Assistent, der Berichte von Hauptversammlungen auswertet.\n",
      "Im folgenden erhältst du einen Bericht einer Hauptversammlung. Das Dokument enthält eine Tabelle mit einer Kopfzeile, aber die Kopfzeile ist beim Extrahieren des Texts beschädigt worden. Bitte gib mir die volle Bezeichnung jeder Spalte in der korrekten Reihenfolge, wie sie im Dokument auftaucht. Antworte ausschließlich mit einer Liste im Format [spalte_1, spalte_2, spalte_3]. Es kann auch eine Kopfzeile mit Multi-Index sein. Wenn du keine Kopfzeile finden kannst, antworte mit [0]. Bericht: \n",
      "column names: [Nein-Stimmen, Enthaltungen, Ja-Stimmen]\n",
      "user_prompt:  Im folgenden erhältst du einen Bericht einer Hauptversammlung. Das Dokument enthält eine Tabelle mit einer Kopfzeile, aber die Kopfzeile ist beim Extrahieren des Texts beschädigt worden. Die korrekte Kopfzeile habe ich angehängt. Antworte ausschließlich mit einer Liste im Format [zahl_1, zahl_2, zahl_3], die ausschließlich alle die genannten Prozentzahlen enthält, die sich auf den Prozentsatz des auf der Hauptversammlung vertretenen Grundkapitals beziehen. Durchsuche das ganze Dokument nach solchen Zahlen, auch außerhalb von Tabellen. Wenn du dir nicht absolut sicher bist, antworte mit [0]. Verwende Punkt statt Komma für die Zahlen. \n",
      " Korrekte Kopfzeile: \n"
     ]
    },
    {
     "name": "stderr",
     "output_type": "stream",
     "text": [
      " 61%|██████    | 109/178 [03:49<08:01,  6.97s/it]"
     ]
    },
    {
     "name": "stdout",
     "output_type": "stream",
     "text": [
      "[49.83, 54.99, 89.93]\n",
      "highest_percentage:  89.93\n",
      "Found file: data/Praesenzen_hv-info/PSI Software AG-15178/ASM/HV-Beschluss zur ordentlichen Hauptversammlung am 06.05.14.pdf\n",
      "Du bist ein hilfreicher Assistent, der Berichte von Hauptversammlungen auswertet.\n",
      "Im folgenden erhältst du einen Bericht einer Hauptversammlung. Das Dokument enthält eine Tabelle mit einer Kopfzeile, aber die Kopfzeile ist beim Extrahieren des Texts beschädigt worden. Bitte gib mir die volle Bezeichnung jeder Spalte in der korrekten Reihenfolge, wie sie im Dokument auftaucht. Antworte ausschließlich mit einer Liste im Format [spalte_1, spalte_2, spalte_3]. Es kann auch eine Kopfzeile mit Multi-Index sein. Wenn du keine Kopfzeile finden kannst, antworte mit [0]. Bericht: \n",
      "column names: [Tagesordnungspunkt, satzungsgemäßen Präsenz, Abgegebene gültige Stimmen, In % des vertretenen Grundkapitals, JA-Stimmen, JA-%, NEIN-Stimmen, NEIN-%, Beschlussvorschlag]\n",
      "user_prompt:  Im folgenden erhältst du einen Bericht einer Hauptversammlung. Das Dokument enthält eine Tabelle mit einer Kopfzeile, aber die Kopfzeile ist beim Extrahieren des Texts beschädigt worden. Die korrekte Kopfzeile habe ich angehängt. Antworte ausschließlich mit einer Liste im Format [zahl_1, zahl_2, zahl_3], die ausschließlich alle die genannten Prozentzahlen enthält, die sich auf den Prozentsatz des auf der Hauptversammlung vertretenen Grundkapitals beziehen. Durchsuche das ganze Dokument nach solchen Zahlen, auch außerhalb von Tabellen. Wenn du dir nicht absolut sicher bist, antworte mit [0]. Verwende Punkt statt Komma für die Zahlen. \n",
      " Korrekte Kopfzeile: \n"
     ]
    },
    {
     "name": "stderr",
     "output_type": "stream",
     "text": [
      " 62%|██████▏   | 110/178 [03:58<08:37,  7.62s/it]"
     ]
    },
    {
     "name": "stdout",
     "output_type": "stream",
     "text": [
      "[55.89, 55.65, 54.73, 55.85, 56.06]\n",
      "highest_percentage:  56.06\n",
      "Du bist ein hilfreicher Assistent, der Berichte von Hauptversammlungen auswertet.\n",
      "Im folgenden erhältst du einen Bericht einer Hauptversammlung. Das Dokument enthält eine Tabelle mit einer Kopfzeile, aber die Kopfzeile ist beim Extrahieren des Texts beschädigt worden. Bitte gib mir die volle Bezeichnung jeder Spalte in der korrekten Reihenfolge, wie sie im Dokument auftaucht. Antworte ausschließlich mit einer Liste im Format [spalte_1, spalte_2, spalte_3]. Es kann auch eine Kopfzeile mit Multi-Index sein. Wenn du keine Kopfzeile finden kannst, antworte mit [0]. Bericht: \n",
      "column names: [beteiligte_stimmen, ja-stimmen, ja-stimmen_in_prozent, nein-stimmen, nein-stimmen_in_prozent]\n",
      "user_prompt:  Im folgenden erhältst du einen Bericht einer Hauptversammlung. Das Dokument enthält eine Tabelle mit einer Kopfzeile, aber die Kopfzeile ist beim Extrahieren des Texts beschädigt worden. Die korrekte Kopfzeile habe ich angehängt. Antworte ausschließlich mit einer Liste im Format [zahl_1, zahl_2, zahl_3], die ausschließlich alle die genannten Prozentzahlen enthält, die sich auf den Prozentsatz des auf der Hauptversammlung vertretenen Grundkapitals beziehen. Durchsuche das ganze Dokument nach solchen Zahlen, auch außerhalb von Tabellen. Wenn du dir nicht absolut sicher bist, antworte mit [0]. Verwende Punkt statt Komma für die Zahlen. \n",
      " Korrekte Kopfzeile: \n"
     ]
    },
    {
     "name": "stderr",
     "output_type": "stream",
     "text": [
      " 62%|██████▏   | 111/178 [04:11<10:16,  9.20s/it]"
     ]
    },
    {
     "name": "stdout",
     "output_type": "stream",
     "text": [
      "[99.998, 99.838, 99.837, 96.350, 96.275, 100.000, 100.000, 99.928, 0.002, 0.162, 0.163, 3.650, 3.725, 0.000, 0.000, 0.072]\n",
      "highest_percentage:  100.0\n",
      "Du bist ein hilfreicher Assistent, der Berichte von Hauptversammlungen auswertet.\n",
      "Im folgenden erhältst du einen Bericht einer Hauptversammlung. Das Dokument enthält eine Tabelle mit einer Kopfzeile, aber die Kopfzeile ist beim Extrahieren des Texts beschädigt worden. Bitte gib mir die volle Bezeichnung jeder Spalte in der korrekten Reihenfolge, wie sie im Dokument auftaucht. Antworte ausschließlich mit einer Liste im Format [spalte_1, spalte_2, spalte_3]. Es kann auch eine Kopfzeile mit Multi-Index sein. Wenn du keine Kopfzeile finden kannst, antworte mit [0]. Bericht: \n",
      "column names: [In % des satzungsmäßigen Grundkapitals, Abgegebene Stimmen*, In % zu den abgegebenen gültigen Stimmen, Enthaltungen, In % zu den abgegebenen gültigen Stimmen, Nein-Stimmen, In % zu den abgegebenen gültigen Stimmen, Ja-Stimmen, Zustimmung / Ablehnung]\n",
      "user_prompt:  Im folgenden erhältst du einen Bericht einer Hauptversammlung. Das Dokument enthält eine Tabelle mit einer Kopfzeile, aber die Kopfzeile ist beim Extrahieren des Texts beschädigt worden. Die korrekte Kopfzeile habe ich angehängt. Antworte ausschließlich mit einer Liste im Format [zahl_1, zahl_2, zahl_3], die ausschließlich alle die genannten Prozentzahlen enthält, die sich auf den Prozentsatz des auf der Hauptversammlung vertretenen Grundkapitals beziehen. Durchsuche das ganze Dokument nach solchen Zahlen, auch außerhalb von Tabellen. Wenn du dir nicht absolut sicher bist, antworte mit [0]. Verwende Punkt statt Komma für die Zahlen. \n",
      " Korrekte Kopfzeile: \n"
     ]
    },
    {
     "name": "stderr",
     "output_type": "stream",
     "text": [
      " 63%|██████▎   | 112/178 [04:23<10:55,  9.93s/it]"
     ]
    },
    {
     "name": "stdout",
     "output_type": "stream",
     "text": [
      "[92.98, 91.94, 21.55, 92.80, 93.02]\n",
      "highest_percentage:  93.02\n",
      "Found file: data/Praesenzen_hv-info/Rheinmetall AG-15198/ASM/HV-Beschluss zur ordentlichen Hauptversammlung am 08.05.07.pdf\n",
      "Du bist ein hilfreicher Assistent, der Berichte von Hauptversammlungen auswertet.\n",
      "Im folgenden erhältst du einen Bericht einer Hauptversammlung. Das Dokument enthält eine Tabelle mit einer Kopfzeile, aber die Kopfzeile ist beim Extrahieren des Texts beschädigt worden. Bitte gib mir die volle Bezeichnung jeder Spalte in der korrekten Reihenfolge, wie sie im Dokument auftaucht. Antworte ausschließlich mit einer Liste im Format [spalte_1, spalte_2, spalte_3]. Es kann auch eine Kopfzeile mit Multi-Index sein. Wenn du keine Kopfzeile finden kannst, antworte mit [0]. Bericht: \n",
      "column names: [Abstimmungsergebnisse, Stimmen, Prozentsatz]\n",
      "user_prompt:  Im folgenden erhältst du einen Bericht einer Hauptversammlung. Das Dokument enthält eine Tabelle mit einer Kopfzeile, aber die Kopfzeile ist beim Extrahieren des Texts beschädigt worden. Die korrekte Kopfzeile habe ich angehängt. Antworte ausschließlich mit einer Liste im Format [zahl_1, zahl_2, zahl_3], die ausschließlich alle die genannten Prozentzahlen enthält, die sich auf den Prozentsatz des auf der Hauptversammlung vertretenen Grundkapitals beziehen. Durchsuche das ganze Dokument nach solchen Zahlen, auch außerhalb von Tabellen. Wenn du dir nicht absolut sicher bist, antworte mit [0]. Verwende Punkt statt Komma für die Zahlen. \n",
      " Korrekte Kopfzeile: \n"
     ]
    },
    {
     "name": "stderr",
     "output_type": "stream",
     "text": [
      " 63%|██████▎   | 113/178 [04:27<08:44,  8.07s/it]"
     ]
    },
    {
     "name": "stdout",
     "output_type": "stream",
     "text": [
      "[50.58]\n",
      "highest_percentage:  50.58\n",
      "Found file: data/Praesenzen_hv-info/RWE AG-15203/ASM/HV-Beschluss zur ordentlichen Hauptversammlung am 19.04.12.pdf\n",
      "Du bist ein hilfreicher Assistent, der Berichte von Hauptversammlungen auswertet.\n",
      "Im folgenden erhältst du einen Bericht einer Hauptversammlung. Das Dokument enthält eine Tabelle mit einer Kopfzeile, aber die Kopfzeile ist beim Extrahieren des Texts beschädigt worden. Bitte gib mir die volle Bezeichnung jeder Spalte in der korrekten Reihenfolge, wie sie im Dokument auftaucht. Antworte ausschließlich mit einer Liste im Format [spalte_1, spalte_2, spalte_3]. Es kann auch eine Kopfzeile mit Multi-Index sein. Wenn du keine Kopfzeile finden kannst, antworte mit [0]. Bericht: \n",
      "column names: [Stück, Euro, Grundkapital v. H., Abstimmungspräsenz]\n",
      "user_prompt:  Im folgenden erhältst du einen Bericht einer Hauptversammlung. Das Dokument enthält eine Tabelle mit einer Kopfzeile, aber die Kopfzeile ist beim Extrahieren des Texts beschädigt worden. Die korrekte Kopfzeile habe ich angehängt. Antworte ausschließlich mit einer Liste im Format [zahl_1, zahl_2, zahl_3], die ausschließlich alle die genannten Prozentzahlen enthält, die sich auf den Prozentsatz des auf der Hauptversammlung vertretenen Grundkapitals beziehen. Durchsuche das ganze Dokument nach solchen Zahlen, auch außerhalb von Tabellen. Wenn du dir nicht absolut sicher bist, antworte mit [0]. Verwende Punkt statt Komma für die Zahlen. \n",
      " Korrekte Kopfzeile: \n"
     ]
    },
    {
     "name": "stderr",
     "output_type": "stream",
     "text": [
      " 64%|██████▍   | 114/178 [04:33<08:11,  7.68s/it]"
     ]
    },
    {
     "name": "stdout",
     "output_type": "stream",
     "text": [
      "[58.06, 54.03, 53.94, 52.61, 53.66, 53.66, 41.74]\n",
      "highest_percentage:  58.06\n",
      "Du bist ein hilfreicher Assistent, der Berichte von Hauptversammlungen auswertet.\n",
      "Im folgenden erhältst du einen Bericht einer Hauptversammlung. Das Dokument enthält eine Tabelle mit einer Kopfzeile, aber die Kopfzeile ist beim Extrahieren des Texts beschädigt worden. Bitte gib mir die volle Bezeichnung jeder Spalte in der korrekten Reihenfolge, wie sie im Dokument auftaucht. Antworte ausschließlich mit einer Liste im Format [spalte_1, spalte_2, spalte_3]. Es kann auch eine Kopfzeile mit Multi-Index sein. Wenn du keine Kopfzeile finden kannst, antworte mit [0]. Bericht: \n",
      "column names: [0]\n",
      "Im folgenden erhältst du einen Bericht einer Hauptversammlung. Werden in dem Dokument wiederholt und ausdrücklich Angaben zum auf der Versammlung vertretenen Grundkapital in Prozent gemacht (Also bspw. 'Grundkapital: 30%'? Antworte nur mit [1] oder [0]. Bericht: \n",
      "[1]\n",
      "Im folgenden erhältst du einen Bericht von einer Hauptversammlung. Antworte ausschließlich mit einer Liste im Format [zahl_1, zahl_2, zahl_3], die ausschließlich alle die genannten Prozentzahlen enthält, die sich auf den Prozentsatz des auf der Hauptversammlung vertretenen Grundkapitals beziehen. Wenn du dir nicht absolut sicher bist, antworte mit [0]. Verwende Punkt statt Komma für die Zahlen. Bericht: \n"
     ]
    },
    {
     "name": "stderr",
     "output_type": "stream",
     "text": [
      " 65%|██████▍   | 115/178 [04:43<08:44,  8.33s/it]"
     ]
    },
    {
     "name": "stdout",
     "output_type": "stream",
     "text": [
      "[80.96, 80.64, 79.56, 80.65, 68.33, 80.94, 80.94, 80.94, 80.94, 80.94, 55.91, 80.94, 80.94, 80.94, 80.94, 80.94, 80.73, 80.66, 80.93]\n",
      "highest_percentage:  80.96\n",
      "Du bist ein hilfreicher Assistent, der Berichte von Hauptversammlungen auswertet.\n",
      "Im folgenden erhältst du einen Bericht einer Hauptversammlung. Das Dokument enthält eine Tabelle mit einer Kopfzeile, aber die Kopfzeile ist beim Extrahieren des Texts beschädigt worden. Bitte gib mir die volle Bezeichnung jeder Spalte in der korrekten Reihenfolge, wie sie im Dokument auftaucht. Antworte ausschließlich mit einer Liste im Format [spalte_1, spalte_2, spalte_3]. Es kann auch eine Kopfzeile mit Multi-Index sein. Wenn du keine Kopfzeile finden kannst, antworte mit [0]. Bericht: \n",
      "column names: [tagesordnungspunkt, abstimmung_ja, abstimmung_nein, abstimmung_enthaltung, stimmberechtigt_prozent, stimmberechtigt_stück]\n",
      "user_prompt:  Im folgenden erhältst du einen Bericht einer Hauptversammlung. Das Dokument enthält eine Tabelle mit einer Kopfzeile, aber die Kopfzeile ist beim Extrahieren des Texts beschädigt worden. Die korrekte Kopfzeile habe ich angehängt. Antworte ausschließlich mit einer Liste im Format [zahl_1, zahl_2, zahl_3], die ausschließlich alle die genannten Prozentzahlen enthält, die sich auf den Prozentsatz des auf der Hauptversammlung vertretenen Grundkapitals beziehen. Durchsuche das ganze Dokument nach solchen Zahlen, auch außerhalb von Tabellen. Wenn du dir nicht absolut sicher bist, antworte mit [0]. Verwende Punkt statt Komma für die Zahlen. \n",
      " Korrekte Kopfzeile: \n"
     ]
    },
    {
     "name": "stderr",
     "output_type": "stream",
     "text": [
      " 65%|██████▌   | 116/178 [04:50<08:10,  7.91s/it]"
     ]
    },
    {
     "name": "stdout",
     "output_type": "stream",
     "text": [
      "[99.9993, 99.9986, 99.9916, 99.9995, 74.60]\n",
      "highest_percentage:  100.0\n",
      "Du bist ein hilfreicher Assistent, der Berichte von Hauptversammlungen auswertet.\n",
      "Im folgenden erhältst du einen Bericht einer Hauptversammlung. Das Dokument enthält eine Tabelle mit einer Kopfzeile, aber die Kopfzeile ist beim Extrahieren des Texts beschädigt worden. Bitte gib mir die volle Bezeichnung jeder Spalte in der korrekten Reihenfolge, wie sie im Dokument auftaucht. Antworte ausschließlich mit einer Liste im Format [spalte_1, spalte_2, spalte_3]. Es kann auch eine Kopfzeile mit Multi-Index sein. Wenn du keine Kopfzeile finden kannst, antworte mit [0]. Bericht: \n",
      "column names: [0]\n",
      "Im folgenden erhältst du einen Bericht einer Hauptversammlung. Werden in dem Dokument wiederholt und ausdrücklich Angaben zum auf der Versammlung vertretenen Grundkapital in Prozent gemacht (Also bspw. 'Grundkapital: 30%'? Antworte nur mit [1] oder [0]. Bericht: \n",
      "[1]\n",
      "Im folgenden erhältst du einen Bericht von einer Hauptversammlung. Antworte ausschließlich mit einer Liste im Format [zahl_1, zahl_2, zahl_3], die ausschließlich alle die genannten Prozentzahlen enthält, die sich auf den Prozentsatz des auf der Hauptversammlung vertretenen Grundkapitals beziehen. Wenn du dir nicht absolut sicher bist, antworte mit [0]. Verwende Punkt statt Komma für die Zahlen. Bericht: \n"
     ]
    },
    {
     "name": "stderr",
     "output_type": "stream",
     "text": [
      " 66%|██████▌   | 117/178 [04:55<07:06,  6.98s/it]"
     ]
    },
    {
     "name": "stdout",
     "output_type": "stream",
     "text": [
      "[54.72, 99.07, 98.46, 97.25, 99.07, 99.06, 99.06]\n",
      "highest_percentage:  99.07\n",
      "Found file: data/Praesenzen_hv-info/SAP SE-15226/ASM/HV-Beschluss zur ordentlichen Hauptversammlung am 25.05.11.pdf\n",
      "Du bist ein hilfreicher Assistent, der Berichte von Hauptversammlungen auswertet.\n",
      "Im folgenden erhältst du einen Bericht einer Hauptversammlung. Das Dokument enthält eine Tabelle mit einer Kopfzeile, aber die Kopfzeile ist beim Extrahieren des Texts beschädigt worden. Bitte gib mir die volle Bezeichnung jeder Spalte in der korrekten Reihenfolge, wie sie im Dokument auftaucht. Antworte ausschließlich mit einer Liste im Format [spalte_1, spalte_2, spalte_3]. Es kann auch eine Kopfzeile mit Multi-Index sein. Wenn du keine Kopfzeile finden kannst, antworte mit [0]. Bericht: \n",
      "column names: [Top, Aktien, für die gültige Stimmen abgegeben wurden, Ja-Stimmen, Nein-Stimmen, Enthaltungen]\n",
      "user_prompt:  Im folgenden erhältst du einen Bericht einer Hauptversammlung. Das Dokument enthält eine Tabelle mit einer Kopfzeile, aber die Kopfzeile ist beim Extrahieren des Texts beschädigt worden. Die korrekte Kopfzeile habe ich angehängt. Antworte ausschließlich mit einer Liste im Format [zahl_1, zahl_2, zahl_3], die ausschließlich alle die genannten Prozentzahlen enthält, die sich auf den Prozentsatz des auf der Hauptversammlung vertretenen Grundkapitals beziehen. Durchsuche das ganze Dokument nach solchen Zahlen, auch außerhalb von Tabellen. Wenn du dir nicht absolut sicher bist, antworte mit [0]. Verwende Punkt statt Komma für die Zahlen. \n",
      " Korrekte Kopfzeile: \n"
     ]
    },
    {
     "name": "stderr",
     "output_type": "stream",
     "text": [
      " 66%|██████▋   | 118/178 [05:05<07:57,  7.96s/it]"
     ]
    },
    {
     "name": "stdout",
     "output_type": "stream",
     "text": [
      "[65.50, 65.19, 54.65, 65.37, 65.49, 65.16, 65.50]\n",
      "highest_percentage:  65.5\n",
      "Found file: data/Praesenzen_hv-info/Sartorius AG-15227/ASM/HV-Beschluss zur ordentlichen Hauptversammlung am 18.04.13.pdf\n",
      "Du bist ein hilfreicher Assistent, der Berichte von Hauptversammlungen auswertet.\n",
      "Im folgenden erhältst du einen Bericht einer Hauptversammlung. Das Dokument enthält eine Tabelle mit einer Kopfzeile, aber die Kopfzeile ist beim Extrahieren des Texts beschädigt worden. Bitte gib mir die volle Bezeichnung jeder Spalte in der korrekten Reihenfolge, wie sie im Dokument auftaucht. Antworte ausschließlich mit einer Liste im Format [spalte_1, spalte_2, spalte_3]. Es kann auch eine Kopfzeile mit Multi-Index sein. Wenn du keine Kopfzeile finden kannst, antworte mit [0]. Bericht: \n",
      "column names: [Tagesordnungspunkt, Stimmberichtigte Präsenz, Abgegebene gültige Ja- und Nein-Stimmen, In % des stimmberechtigten Grundkapitals, Nein-Stimmen, Ja-Stimmen, Zustimmung in %, Anteil Ja- und Nein-Stimmen in Bezug auf das gesamte Grundkapital]\n",
      "user_prompt:  Im folgenden erhältst du einen Bericht einer Hauptversammlung. Das Dokument enthält eine Tabelle mit einer Kopfzeile, aber die Kopfzeile ist beim Extrahieren des Texts beschädigt worden. Die korrekte Kopfzeile habe ich angehängt. Antworte ausschließlich mit einer Liste im Format [zahl_1, zahl_2, zahl_3], die ausschließlich alle die genannten Prozentzahlen enthält, die sich auf den Prozentsatz des auf der Hauptversammlung vertretenen Grundkapitals beziehen. Durchsuche das ganze Dokument nach solchen Zahlen, auch außerhalb von Tabellen. Wenn du dir nicht absolut sicher bist, antworte mit [0]. Verwende Punkt statt Komma für die Zahlen. \n",
      " Korrekte Kopfzeile: \n"
     ]
    },
    {
     "name": "stderr",
     "output_type": "stream",
     "text": [
      " 67%|██████▋   | 119/178 [05:15<08:20,  8.49s/it]"
     ]
    },
    {
     "name": "stdout",
     "output_type": "stream",
     "text": [
      "[95.1867, 95.1821, 40.2050, 95.1821, 95.1807, 95.1654]\n",
      "highest_percentage:  95.19\n",
      "Found file: data/Praesenzen_hv-info/Schaltbau Holding AG-15230/ASM/HV-Beschluss zur ordentlichen Hauptversammlung am 06.06.12.pdf\n",
      "Du bist ein hilfreicher Assistent, der Berichte von Hauptversammlungen auswertet.\n",
      "Im folgenden erhältst du einen Bericht einer Hauptversammlung. Das Dokument enthält eine Tabelle mit einer Kopfzeile, aber die Kopfzeile ist beim Extrahieren des Texts beschädigt worden. Bitte gib mir die volle Bezeichnung jeder Spalte in der korrekten Reihenfolge, wie sie im Dokument auftaucht. Antworte ausschließlich mit einer Liste im Format [spalte_1, spalte_2, spalte_3]. Es kann auch eine Kopfzeile mit Multi-Index sein. Wenn du keine Kopfzeile finden kannst, antworte mit [0]. Bericht: \n",
      "column names: [0]\n",
      "Im folgenden erhältst du einen Bericht einer Hauptversammlung. Werden in dem Dokument wiederholt und ausdrücklich Angaben zum auf der Versammlung vertretenen Grundkapital in Prozent gemacht (Also bspw. 'Grundkapital: 30%'? Antworte nur mit [1] oder [0]. Bericht: \n",
      "[1]\n",
      "Im folgenden erhältst du einen Bericht von einer Hauptversammlung. Antworte ausschließlich mit einer Liste im Format [zahl_1, zahl_2, zahl_3], die ausschließlich alle die genannten Prozentzahlen enthält, die sich auf den Prozentsatz des auf der Hauptversammlung vertretenen Grundkapitals beziehen. Wenn du dir nicht absolut sicher bist, antworte mit [0]. Verwende Punkt statt Komma für die Zahlen. Bericht: \n"
     ]
    },
    {
     "name": "stderr",
     "output_type": "stream",
     "text": [
      " 67%|██████▋   | 120/178 [05:20<07:14,  7.49s/it]"
     ]
    },
    {
     "name": "stdout",
     "output_type": "stream",
     "text": [
      "[50.80, 40.72, 39.16, 50.79, 50.41]\n",
      "highest_percentage:  50.8\n",
      "Found file: data/Praesenzen_hv-info/Schuler AG-15248/ASM/HV-Beschluss zur ordentlichen Hauptversammlung am 18.04.12.pdf\n",
      "Du bist ein hilfreicher Assistent, der Berichte von Hauptversammlungen auswertet.\n",
      "Im folgenden erhältst du einen Bericht einer Hauptversammlung. Das Dokument enthält eine Tabelle mit einer Kopfzeile, aber die Kopfzeile ist beim Extrahieren des Texts beschädigt worden. Bitte gib mir die volle Bezeichnung jeder Spalte in der korrekten Reihenfolge, wie sie im Dokument auftaucht. Antworte ausschließlich mit einer Liste im Format [spalte_1, spalte_2, spalte_3]. Es kann auch eine Kopfzeile mit Multi-Index sein. Wenn du keine Kopfzeile finden kannst, antworte mit [0]. Bericht: \n",
      "column names: [anzahl_der_aktien, ja-stimmen, prozent_ja, nein-stimmen, prozent_nein, enthaltungen]\n",
      "user_prompt:  Im folgenden erhältst du einen Bericht einer Hauptversammlung. Das Dokument enthält eine Tabelle mit einer Kopfzeile, aber die Kopfzeile ist beim Extrahieren des Texts beschädigt worden. Die korrekte Kopfzeile habe ich angehängt. Antworte ausschließlich mit einer Liste im Format [zahl_1, zahl_2, zahl_3], die ausschließlich alle die genannten Prozentzahlen enthält, die sich auf den Prozentsatz des auf der Hauptversammlung vertretenen Grundkapitals beziehen. Durchsuche das ganze Dokument nach solchen Zahlen, auch außerhalb von Tabellen. Wenn du dir nicht absolut sicher bist, antworte mit [0]. Verwende Punkt statt Komma für die Zahlen. \n",
      " Korrekte Kopfzeile: \n"
     ]
    },
    {
     "name": "stderr",
     "output_type": "stream",
     "text": [
      " 68%|██████▊   | 121/178 [05:27<06:55,  7.29s/it]"
     ]
    },
    {
     "name": "stdout",
     "output_type": "stream",
     "text": [
      "[70.85, 70.84, 70.84, 32.32, 70.84, 70.83, 70.81, 70.84, 70.76]\n",
      "highest_percentage:  70.85\n",
      "Found file: data/Praesenzen_hv-info/Süss MicroTec SE-15262/ASM/HV-Beschluss zur ordentlichen Hauptversammlung am 19.06.13.pdf\n",
      "Du bist ein hilfreicher Assistent, der Berichte von Hauptversammlungen auswertet.\n",
      "Im folgenden erhältst du einen Bericht einer Hauptversammlung. Das Dokument enthält eine Tabelle mit einer Kopfzeile, aber die Kopfzeile ist beim Extrahieren des Texts beschädigt worden. Bitte gib mir die volle Bezeichnung jeder Spalte in der korrekten Reihenfolge, wie sie im Dokument auftaucht. Antworte ausschließlich mit einer Liste im Format [spalte_1, spalte_2, spalte_3]. Es kann auch eine Kopfzeile mit Multi-Index sein. Wenn du keine Kopfzeile finden kannst, antworte mit [0]. Bericht: \n",
      "column names: [TOP, Bezeichnung, Zahl der Aktien, für die gültige Stimmen abgegeben wurden, in % vom Grundkapital, Ja-Stimmen absolut, Ja-Stimmen Anteil in %, Nein-Stimmen absolut, Nein-Stimmen Anteil in %, Beschluss]\n",
      "user_prompt:  Im folgenden erhältst du einen Bericht einer Hauptversammlung. Das Dokument enthält eine Tabelle mit einer Kopfzeile, aber die Kopfzeile ist beim Extrahieren des Texts beschädigt worden. Die korrekte Kopfzeile habe ich angehängt. Antworte ausschließlich mit einer Liste im Format [zahl_1, zahl_2, zahl_3], die ausschließlich alle die genannten Prozentzahlen enthält, die sich auf den Prozentsatz des auf der Hauptversammlung vertretenen Grundkapitals beziehen. Durchsuche das ganze Dokument nach solchen Zahlen, auch außerhalb von Tabellen. Wenn du dir nicht absolut sicher bist, antworte mit [0]. Verwende Punkt statt Komma für die Zahlen. \n",
      " Korrekte Kopfzeile: \n"
     ]
    },
    {
     "name": "stderr",
     "output_type": "stream",
     "text": [
      " 69%|██████▊   | 122/178 [05:37<07:41,  8.24s/it]"
     ]
    },
    {
     "name": "stdout",
     "output_type": "stream",
     "text": [
      "[26.90, 25.16, 24.53, 22.52, 25.17, 23.15, 23.13, 25.83, 25.12]\n",
      "highest_percentage:  26.9\n",
      "Du bist ein hilfreicher Assistent, der Berichte von Hauptversammlungen auswertet.\n",
      "Im folgenden erhältst du einen Bericht einer Hauptversammlung. Das Dokument enthält eine Tabelle mit einer Kopfzeile, aber die Kopfzeile ist beim Extrahieren des Texts beschädigt worden. Bitte gib mir die volle Bezeichnung jeder Spalte in der korrekten Reihenfolge, wie sie im Dokument auftaucht. Antworte ausschließlich mit einer Liste im Format [spalte_1, spalte_2, spalte_3]. Es kann auch eine Kopfzeile mit Multi-Index sein. Wenn du keine Kopfzeile finden kannst, antworte mit [0]. Bericht: \n",
      "column names: [aktien_gesamt, ja_stimmen_anzahl, ja_stimmen_prozent, nein_stimmen_anzahl, nein_stimmen_prozent, enthaltungen]\n",
      "user_prompt:  Im folgenden erhältst du einen Bericht einer Hauptversammlung. Das Dokument enthält eine Tabelle mit einer Kopfzeile, aber die Kopfzeile ist beim Extrahieren des Texts beschädigt worden. Die korrekte Kopfzeile habe ich angehängt. Antworte ausschließlich mit einer Liste im Format [zahl_1, zahl_2, zahl_3], die ausschließlich alle die genannten Prozentzahlen enthält, die sich auf den Prozentsatz des auf der Hauptversammlung vertretenen Grundkapitals beziehen. Durchsuche das ganze Dokument nach solchen Zahlen, auch außerhalb von Tabellen. Wenn du dir nicht absolut sicher bist, antworte mit [0]. Verwende Punkt statt Komma für die Zahlen. \n",
      " Korrekte Kopfzeile: \n"
     ]
    },
    {
     "name": "stderr",
     "output_type": "stream",
     "text": [
      " 69%|██████▉   | 123/178 [05:45<07:19,  7.98s/it]"
     ]
    },
    {
     "name": "stdout",
     "output_type": "stream",
     "text": [
      "[47.00, 8.06, 47.00, 47.00, 46.99, 46.99, 46.66, 46.66, 46.66]\n",
      "highest_percentage:  47.0\n",
      "Found file: data/Praesenzen_hv-info/SGL Carbon SE-15268/ASM/HV-Beschluss zur ordentlichen Hauptversammlung am 27.04.07.pdf\n",
      "Du bist ein hilfreicher Assistent, der Berichte von Hauptversammlungen auswertet.\n",
      "Im folgenden erhältst du einen Bericht einer Hauptversammlung. Das Dokument enthält eine Tabelle mit einer Kopfzeile, aber die Kopfzeile ist beim Extrahieren des Texts beschädigt worden. Bitte gib mir die volle Bezeichnung jeder Spalte in der korrekten Reihenfolge, wie sie im Dokument auftaucht. Antworte ausschließlich mit einer Liste im Format [spalte_1, spalte_2, spalte_3]. Es kann auch eine Kopfzeile mit Multi-Index sein. Wenn du keine Kopfzeile finden kannst, antworte mit [0]. Bericht: \n",
      "column names: [0]\n",
      "Im folgenden erhältst du einen Bericht einer Hauptversammlung. Werden in dem Dokument wiederholt und ausdrücklich Angaben zum auf der Versammlung vertretenen Grundkapital in Prozent gemacht (Also bspw. 'Grundkapital: 30%'? Antworte nur mit [1] oder [0]. Bericht: \n"
     ]
    },
    {
     "name": "stderr",
     "output_type": "stream",
     "text": [
      " 70%|██████▉   | 124/178 [05:48<05:46,  6.41s/it]"
     ]
    },
    {
     "name": "stdout",
     "output_type": "stream",
     "text": [
      "[0]\n",
      "Found file: data/Praesenzen_hv-info/SINGULUS TECHNOLOGIES AG-15271/ASM/HV-Beschluss zur ordentlichen Hauptversammlung am 06.06.07.pdf\n",
      "There was an error. Not evaluating this document.\n",
      "Found file: data/Praesenzen_hv-info/STRATEC SE-15277/ASM/HV-Beschluss zur ordentlichen Hauptversammlung am 16.05.12.pdf\n",
      "Du bist ein hilfreicher Assistent, der Berichte von Hauptversammlungen auswertet.\n",
      "Im folgenden erhältst du einen Bericht einer Hauptversammlung. Das Dokument enthält eine Tabelle mit einer Kopfzeile, aber die Kopfzeile ist beim Extrahieren des Texts beschädigt worden. Bitte gib mir die volle Bezeichnung jeder Spalte in der korrekten Reihenfolge, wie sie im Dokument auftaucht. Antworte ausschließlich mit einer Liste im Format [spalte_1, spalte_2, spalte_3]. Es kann auch eine Kopfzeile mit Multi-Index sein. Wenn du keine Kopfzeile finden kannst, antworte mit [0]. Bericht: \n",
      "column names: [tagesordnungspunkt, vertretenes_grundkapital, praesenz, nein-stimmen, enthaltungen, ja-stimmen, ja_in_prozent]\n",
      "user_prompt:  Im folgenden erhältst du einen Bericht einer Hauptversammlung. Das Dokument enthält eine Tabelle mit einer Kopfzeile, aber die Kopfzeile ist beim Extrahieren des Texts beschädigt worden. Die korrekte Kopfzeile habe ich angehängt. Antworte ausschließlich mit einer Liste im Format [zahl_1, zahl_2, zahl_3], die ausschließlich alle die genannten Prozentzahlen enthält, die sich auf den Prozentsatz des auf der Hauptversammlung vertretenen Grundkapitals beziehen. Durchsuche das ganze Dokument nach solchen Zahlen, auch außerhalb von Tabellen. Wenn du dir nicht absolut sicher bist, antworte mit [0]. Verwende Punkt statt Komma für die Zahlen. \n",
      " Korrekte Kopfzeile: \n"
     ]
    },
    {
     "name": "stderr",
     "output_type": "stream",
     "text": [
      " 71%|███████   | 126/178 [05:54<04:12,  4.86s/it]"
     ]
    },
    {
     "name": "stdout",
     "output_type": "stream",
     "text": [
      "[66.91, 66.91, 47.82, 66.91, 66.91]\n",
      "highest_percentage:  66.91\n",
      "Found file: data/Praesenzen_hv-info/MVV Energie AG-15290/ASM/HV-Beschluss zur ordentlichen Hauptversammlung am 16.03.12.pdf\n",
      "Du bist ein hilfreicher Assistent, der Berichte von Hauptversammlungen auswertet.\n",
      "Im folgenden erhältst du einen Bericht einer Hauptversammlung. Das Dokument enthält eine Tabelle mit einer Kopfzeile, aber die Kopfzeile ist beim Extrahieren des Texts beschädigt worden. Bitte gib mir die volle Bezeichnung jeder Spalte in der korrekten Reihenfolge, wie sie im Dokument auftaucht. Antworte ausschließlich mit einer Liste im Format [spalte_1, spalte_2, spalte_3]. Es kann auch eine Kopfzeile mit Multi-Index sein. Wenn du keine Kopfzeile finden kannst, antworte mit [0]. Bericht: \n",
      "column names: [0]\n",
      "Im folgenden erhältst du einen Bericht einer Hauptversammlung. Werden in dem Dokument wiederholt und ausdrücklich Angaben zum auf der Versammlung vertretenen Grundkapital in Prozent gemacht (Also bspw. 'Grundkapital: 30%'? Antworte nur mit [1] oder [0]. Bericht: \n",
      "[1]\n",
      "Im folgenden erhältst du einen Bericht von einer Hauptversammlung. Antworte ausschließlich mit einer Liste im Format [zahl_1, zahl_2, zahl_3], die ausschließlich alle die genannten Prozentzahlen enthält, die sich auf den Prozentsatz des auf der Hauptversammlung vertretenen Grundkapitals beziehen. Wenn du dir nicht absolut sicher bist, antworte mit [0]. Verwende Punkt statt Komma für die Zahlen. Bericht: \n"
     ]
    },
    {
     "name": "stderr",
     "output_type": "stream",
     "text": [
      " 71%|███████▏  | 127/178 [05:58<03:58,  4.68s/it]"
     ]
    },
    {
     "name": "stdout",
     "output_type": "stream",
     "text": [
      "[89.51, 89.51, 89.50, 89.49, 89.49, 89.50]\n",
      "highest_percentage:  89.51\n",
      "Du bist ein hilfreicher Assistent, der Berichte von Hauptversammlungen auswertet.\n",
      "Im folgenden erhältst du einen Bericht einer Hauptversammlung. Das Dokument enthält eine Tabelle mit einer Kopfzeile, aber die Kopfzeile ist beim Extrahieren des Texts beschädigt worden. Bitte gib mir die volle Bezeichnung jeder Spalte in der korrekten Reihenfolge, wie sie im Dokument auftaucht. Antworte ausschließlich mit einer Liste im Format [spalte_1, spalte_2, spalte_3]. Es kann auch eine Kopfzeile mit Multi-Index sein. Wenn du keine Kopfzeile finden kannst, antworte mit [0]. Bericht: \n",
      "column names: [0]\n",
      "Im folgenden erhältst du einen Bericht einer Hauptversammlung. Werden in dem Dokument wiederholt und ausdrücklich Angaben zum auf der Versammlung vertretenen Grundkapital in Prozent gemacht (Also bspw. 'Grundkapital: 30%'? Antworte nur mit [1] oder [0]. Bericht: \n",
      "[1]\n",
      "Im folgenden erhältst du einen Bericht von einer Hauptversammlung. Antworte ausschließlich mit einer Liste im Format [zahl_1, zahl_2, zahl_3], die ausschließlich alle die genannten Prozentzahlen enthält, die sich auf den Prozentsatz des auf der Hauptversammlung vertretenen Grundkapitals beziehen. Wenn du dir nicht absolut sicher bist, antworte mit [0]. Verwende Punkt statt Komma für die Zahlen. Bericht: \n"
     ]
    },
    {
     "name": "stderr",
     "output_type": "stream",
     "text": [
      " 72%|███████▏  | 128/178 [06:03<03:55,  4.71s/it]"
     ]
    },
    {
     "name": "stdout",
     "output_type": "stream",
     "text": [
      "[80.27, 80.27, 80.26, 80.26, 80.26, 80.26, 80.26]\n",
      "highest_percentage:  80.27\n",
      "Found file: data/Praesenzen_hv-info/Südzucker AG-15312/ASM/HV-Beschluss zur ordentlichen Hauptversammlung am 16.07.15.pdf\n",
      "Du bist ein hilfreicher Assistent, der Berichte von Hauptversammlungen auswertet.\n",
      "Im folgenden erhältst du einen Bericht einer Hauptversammlung. Das Dokument enthält eine Tabelle mit einer Kopfzeile, aber die Kopfzeile ist beim Extrahieren des Texts beschädigt worden. Bitte gib mir die volle Bezeichnung jeder Spalte in der korrekten Reihenfolge, wie sie im Dokument auftaucht. Antworte ausschließlich mit einer Liste im Format [spalte_1, spalte_2, spalte_3]. Es kann auch eine Kopfzeile mit Multi-Index sein. Wenn du keine Kopfzeile finden kannst, antworte mit [0]. Bericht: \n",
      "column names: [aktien_gueltige_stimmen, ja_stimmen_anzahl, ja_stimmen_prozent, nein_stimmen_anzahl, nein_stimmen_prozent]\n",
      "user_prompt:  Im folgenden erhältst du einen Bericht einer Hauptversammlung. Das Dokument enthält eine Tabelle mit einer Kopfzeile, aber die Kopfzeile ist beim Extrahieren des Texts beschädigt worden. Die korrekte Kopfzeile habe ich angehängt. Antworte ausschließlich mit einer Liste im Format [zahl_1, zahl_2, zahl_3], die ausschließlich alle die genannten Prozentzahlen enthält, die sich auf den Prozentsatz des auf der Hauptversammlung vertretenen Grundkapitals beziehen. Durchsuche das ganze Dokument nach solchen Zahlen, auch außerhalb von Tabellen. Wenn du dir nicht absolut sicher bist, antworte mit [0]. Verwende Punkt statt Komma für die Zahlen. \n",
      " Korrekte Kopfzeile: \n"
     ]
    },
    {
     "name": "stderr",
     "output_type": "stream",
     "text": [
      " 72%|███████▏  | 129/178 [06:14<05:20,  6.54s/it]"
     ]
    },
    {
     "name": "stdout",
     "output_type": "stream",
     "text": [
      "[74.35, 74.41, 74.36, 74.43, 73.63, 73.50, 73.29]\n",
      "highest_percentage:  74.43\n",
      "Found file: data/Praesenzen_hv-info/Heidelberger Druckmaschinen AG-15320/ASM/HV-Beschluss zur ordentlichen Hauptversammlung am 24.07.15.pdf\n",
      "Du bist ein hilfreicher Assistent, der Berichte von Hauptversammlungen auswertet.\n",
      "Im folgenden erhältst du einen Bericht einer Hauptversammlung. Das Dokument enthält eine Tabelle mit einer Kopfzeile, aber die Kopfzeile ist beim Extrahieren des Texts beschädigt worden. Bitte gib mir die volle Bezeichnung jeder Spalte in der korrekten Reihenfolge, wie sie im Dokument auftaucht. Antworte ausschließlich mit einer Liste im Format [spalte_1, spalte_2, spalte_3]. Es kann auch eine Kopfzeile mit Multi-Index sein. Wenn du keine Kopfzeile finden kannst, antworte mit [0]. Bericht: \n",
      "column names: [Name des Vorstandsmitglieds/Aufsichtsratsmitglieds, Anzahl der Aktien, für die gültige Stimmen abgegeben wurden, Prozent des Grundkapitals, Ja-Stimmen Anzahl, Ja-Stimmen Prozent, Nein-Stimmen Anzahl, Nein-Stimmen Prozent]\n",
      "user_prompt:  Im folgenden erhältst du einen Bericht einer Hauptversammlung. Das Dokument enthält eine Tabelle mit einer Kopfzeile, aber die Kopfzeile ist beim Extrahieren des Texts beschädigt worden. Die korrekte Kopfzeile habe ich angehängt. Antworte ausschließlich mit einer Liste im Format [zahl_1, zahl_2, zahl_3], die ausschließlich alle die genannten Prozentzahlen enthält, die sich auf den Prozentsatz des auf der Hauptversammlung vertretenen Grundkapitals beziehen. Durchsuche das ganze Dokument nach solchen Zahlen, auch außerhalb von Tabellen. Wenn du dir nicht absolut sicher bist, antworte mit [0]. Verwende Punkt statt Komma für die Zahlen. \n",
      " Korrekte Kopfzeile: \n"
     ]
    },
    {
     "name": "stderr",
     "output_type": "stream",
     "text": [
      " 73%|███████▎  | 130/178 [06:30<07:17,  9.11s/it]"
     ]
    },
    {
     "name": "stdout",
     "output_type": "stream",
     "text": [
      "[28.91, 28.91, 28.91, 28.91, 28.87, 28.87, 28.87, 28.87, 28.91, 28.86, 28.91, 28.91, 28.87, 28.89, 28.90, 28.89, 28.86, 28.86, 28.86, 29.61, 29.64, 29.12, 29.12]\n",
      "highest_percentage:  29.64\n",
      "Found file: data/Praesenzen_hv-info/TAKKT AG-15328/ASM/HV-Beschluss zur ordentlichen Hauptversammlung am 06.05.09.pdf\n",
      "There was an error. Not evaluating this document.\n",
      "Found file: data/Praesenzen_hv-info/TAG Immobilien AG-15342/ASM/HV-Beschluss zur ordentlichen Hauptversammlung am 19.06.15.pdf\n",
      "Du bist ein hilfreicher Assistent, der Berichte von Hauptversammlungen auswertet.\n",
      "Im folgenden erhältst du einen Bericht einer Hauptversammlung. Das Dokument enthält eine Tabelle mit einer Kopfzeile, aber die Kopfzeile ist beim Extrahieren des Texts beschädigt worden. Bitte gib mir die volle Bezeichnung jeder Spalte in der korrekten Reihenfolge, wie sie im Dokument auftaucht. Antworte ausschließlich mit einer Liste im Format [spalte_1, spalte_2, spalte_3]. Es kann auch eine Kopfzeile mit Multi-Index sein. Wenn du keine Kopfzeile finden kannst, antworte mit [0]. Bericht: \n",
      "column names: [0]\n",
      "Im folgenden erhältst du einen Bericht einer Hauptversammlung. Werden in dem Dokument wiederholt und ausdrücklich Angaben zum auf der Versammlung vertretenen Grundkapital in Prozent gemacht (Also bspw. 'Grundkapital: 30%'? Antworte nur mit [1] oder [0]. Bericht: \n",
      "[1]\n",
      "Im folgenden erhältst du einen Bericht von einer Hauptversammlung. Antworte ausschließlich mit einer Liste im Format [zahl_1, zahl_2, zahl_3], die ausschließlich alle die genannten Prozentzahlen enthält, die sich auf den Prozentsatz des auf der Hauptversammlung vertretenen Grundkapitals beziehen. Wenn du dir nicht absolut sicher bist, antworte mit [0]. Verwende Punkt statt Komma für die Zahlen. Bericht: \n"
     ]
    },
    {
     "name": "stderr",
     "output_type": "stream",
     "text": [
      " 74%|███████▍  | 132/178 [06:36<04:53,  6.38s/it]"
     ]
    },
    {
     "name": "stdout",
     "output_type": "stream",
     "text": [
      "[74.96, 74.88, 74.50, 74.96, 74.96, 74.83, 74.96]\n",
      "highest_percentage:  74.96\n",
      "Found file: data/Praesenzen_hv-info/Deutsche EuroShop AG-15344/ASM/HV-Beschluss zur ordentlichen Hauptversammlung am 30.06.09.pdf\n",
      "Du bist ein hilfreicher Assistent, der Berichte von Hauptversammlungen auswertet.\n",
      "Im folgenden erhältst du einen Bericht einer Hauptversammlung. Das Dokument enthält eine Tabelle mit einer Kopfzeile, aber die Kopfzeile ist beim Extrahieren des Texts beschädigt worden. Bitte gib mir die volle Bezeichnung jeder Spalte in der korrekten Reihenfolge, wie sie im Dokument auftaucht. Antworte ausschließlich mit einer Liste im Format [spalte_1, spalte_2, spalte_3]. Es kann auch eine Kopfzeile mit Multi-Index sein. Wenn du keine Kopfzeile finden kannst, antworte mit [0]. Bericht: \n",
      "column names: [0]\n",
      "Im folgenden erhältst du einen Bericht einer Hauptversammlung. Werden in dem Dokument wiederholt und ausdrücklich Angaben zum auf der Versammlung vertretenen Grundkapital in Prozent gemacht (Also bspw. 'Grundkapital: 30%'? Antworte nur mit [1] oder [0]. Bericht: \n"
     ]
    },
    {
     "name": "stderr",
     "output_type": "stream",
     "text": [
      " 75%|███████▍  | 133/178 [06:41<04:35,  6.13s/it]"
     ]
    },
    {
     "name": "stdout",
     "output_type": "stream",
     "text": [
      "[0]\n",
      "Found file: data/Praesenzen_hv-info/Ströer SE _ Co. KGaA-15352/ASM/HV-Beschluss zur ordentlichen Hauptversammlung am 30.06.15.pdf\n",
      "Du bist ein hilfreicher Assistent, der Berichte von Hauptversammlungen auswertet.\n",
      "Im folgenden erhältst du einen Bericht einer Hauptversammlung. Das Dokument enthält eine Tabelle mit einer Kopfzeile, aber die Kopfzeile ist beim Extrahieren des Texts beschädigt worden. Bitte gib mir die volle Bezeichnung jeder Spalte in der korrekten Reihenfolge, wie sie im Dokument auftaucht. Antworte ausschließlich mit einer Liste im Format [spalte_1, spalte_2, spalte_3]. Es kann auch eine Kopfzeile mit Multi-Index sein. Wenn du keine Kopfzeile finden kannst, antworte mit [0]. Bericht: \n",
      "column names: [Abstimmungsergebnis, Stimmen, Prozent]\n",
      "user_prompt:  Im folgenden erhältst du einen Bericht einer Hauptversammlung. Das Dokument enthält eine Tabelle mit einer Kopfzeile, aber die Kopfzeile ist beim Extrahieren des Texts beschädigt worden. Die korrekte Kopfzeile habe ich angehängt. Antworte ausschließlich mit einer Liste im Format [zahl_1, zahl_2, zahl_3], die ausschließlich alle die genannten Prozentzahlen enthält, die sich auf den Prozentsatz des auf der Hauptversammlung vertretenen Grundkapitals beziehen. Durchsuche das ganze Dokument nach solchen Zahlen, auch außerhalb von Tabellen. Wenn du dir nicht absolut sicher bist, antworte mit [0]. Verwende Punkt statt Komma für die Zahlen. \n",
      " Korrekte Kopfzeile: \n"
     ]
    },
    {
     "name": "stderr",
     "output_type": "stream",
     "text": [
      " 75%|███████▌  | 134/178 [06:52<05:18,  7.23s/it]"
     ]
    },
    {
     "name": "stdout",
     "output_type": "stream",
     "text": [
      "[85.89, 61.89, 55.15, 85.89, 85.89, 62.02, 85.89, 85.89, 85.84, 85.51, 85.89]\n",
      "highest_percentage:  85.89\n",
      "Du bist ein hilfreicher Assistent, der Berichte von Hauptversammlungen auswertet.\n",
      "Im folgenden erhältst du einen Bericht einer Hauptversammlung. Das Dokument enthält eine Tabelle mit einer Kopfzeile, aber die Kopfzeile ist beim Extrahieren des Texts beschädigt worden. Bitte gib mir die volle Bezeichnung jeder Spalte in der korrekten Reihenfolge, wie sie im Dokument auftaucht. Antworte ausschließlich mit einer Liste im Format [spalte_1, spalte_2, spalte_3]. Es kann auch eine Kopfzeile mit Multi-Index sein. Wenn du keine Kopfzeile finden kannst, antworte mit [0]. Bericht: \n",
      "column names: [Abstimmungsergebnisse, Stimmen, Prozentsatz]\n",
      "user_prompt:  Im folgenden erhältst du einen Bericht einer Hauptversammlung. Das Dokument enthält eine Tabelle mit einer Kopfzeile, aber die Kopfzeile ist beim Extrahieren des Texts beschädigt worden. Die korrekte Kopfzeile habe ich angehängt. Antworte ausschließlich mit einer Liste im Format [zahl_1, zahl_2, zahl_3], die ausschließlich alle die genannten Prozentzahlen enthält, die sich auf den Prozentsatz des auf der Hauptversammlung vertretenen Grundkapitals beziehen. Durchsuche das ganze Dokument nach solchen Zahlen, auch außerhalb von Tabellen. Wenn du dir nicht absolut sicher bist, antworte mit [0]. Verwende Punkt statt Komma für die Zahlen. \n",
      " Korrekte Kopfzeile: \n"
     ]
    },
    {
     "name": "stderr",
     "output_type": "stream",
     "text": [
      " 76%|███████▌  | 135/178 [06:54<04:18,  6.01s/it]"
     ]
    },
    {
     "name": "stdout",
     "output_type": "stream",
     "text": [
      "[56.18]\n",
      "highest_percentage:  56.18\n",
      "Found file: data/Praesenzen_hv-info/Villeroy _ Boch AG-15394/ASM/HV-Beschluss zur ordentlichen Hauptversammlung am 27.03.15.pdf\n",
      "Du bist ein hilfreicher Assistent, der Berichte von Hauptversammlungen auswertet.\n",
      "Im folgenden erhältst du einen Bericht einer Hauptversammlung. Das Dokument enthält eine Tabelle mit einer Kopfzeile, aber die Kopfzeile ist beim Extrahieren des Texts beschädigt worden. Bitte gib mir die volle Bezeichnung jeder Spalte in der korrekten Reihenfolge, wie sie im Dokument auftaucht. Antworte ausschließlich mit einer Liste im Format [spalte_1, spalte_2, spalte_3]. Es kann auch eine Kopfzeile mit Multi-Index sein. Wenn du keine Kopfzeile finden kannst, antworte mit [0]. Bericht: \n",
      "column names: [TOP, Beschlussfassung, Abgegebene gültige Stimmen*, In % des satzungsmäßigen Stammaktienkapitals, In % des satzungsmäßigen Grundkapitals, JA-Stimmen, NEIN-Stimmen, Enthaltungen, Beschluss gefasst]\n",
      "user_prompt:  Im folgenden erhältst du einen Bericht einer Hauptversammlung. Das Dokument enthält eine Tabelle mit einer Kopfzeile, aber die Kopfzeile ist beim Extrahieren des Texts beschädigt worden. Die korrekte Kopfzeile habe ich angehängt. Antworte ausschließlich mit einer Liste im Format [zahl_1, zahl_2, zahl_3], die ausschließlich alle die genannten Prozentzahlen enthält, die sich auf den Prozentsatz des auf der Hauptversammlung vertretenen Grundkapitals beziehen. Durchsuche das ganze Dokument nach solchen Zahlen, auch außerhalb von Tabellen. Wenn du dir nicht absolut sicher bist, antworte mit [0]. Verwende Punkt statt Komma für die Zahlen. \n",
      " Korrekte Kopfzeile: \n"
     ]
    },
    {
     "name": "stderr",
     "output_type": "stream",
     "text": [
      " 76%|███████▋  | 136/178 [07:01<04:25,  6.33s/it]"
     ]
    },
    {
     "name": "stdout",
     "output_type": "stream",
     "text": [
      "[39.05, 35.62, 38.11, 38.75, 38.75]\n",
      "highest_percentage:  39.05\n",
      "Found file: data/Praesenzen_hv-info/Vossloh AG-15401/ASM/HV-Beschluss zur ordentlichen Hauptversammlung am 23.05.12.pdf\n",
      "Du bist ein hilfreicher Assistent, der Berichte von Hauptversammlungen auswertet.\n",
      "Im folgenden erhältst du einen Bericht einer Hauptversammlung. Das Dokument enthält eine Tabelle mit einer Kopfzeile, aber die Kopfzeile ist beim Extrahieren des Texts beschädigt worden. Bitte gib mir die volle Bezeichnung jeder Spalte in der korrekten Reihenfolge, wie sie im Dokument auftaucht. Antworte ausschließlich mit einer Liste im Format [spalte_1, spalte_2, spalte_3]. Es kann auch eine Kopfzeile mit Multi-Index sein. Wenn du keine Kopfzeile finden kannst, antworte mit [0]. Bericht: \n",
      "column names: [Top, Beschreibung, Abgegebene gültige Stimmen (Anzahl Aktien), Anteil des vertretenen Grundkapitals, Ja-Stimmen, Nein-Stimmen, Anteil Ja-Stimmen]\n",
      "user_prompt:  Im folgenden erhältst du einen Bericht einer Hauptversammlung. Das Dokument enthält eine Tabelle mit einer Kopfzeile, aber die Kopfzeile ist beim Extrahieren des Texts beschädigt worden. Die korrekte Kopfzeile habe ich angehängt. Antworte ausschließlich mit einer Liste im Format [zahl_1, zahl_2, zahl_3], die ausschließlich alle die genannten Prozentzahlen enthält, die sich auf den Prozentsatz des auf der Hauptversammlung vertretenen Grundkapitals beziehen. Durchsuche das ganze Dokument nach solchen Zahlen, auch außerhalb von Tabellen. Wenn du dir nicht absolut sicher bist, antworte mit [0]. Verwende Punkt statt Komma für die Zahlen. \n",
      " Korrekte Kopfzeile: \n"
     ]
    },
    {
     "name": "stderr",
     "output_type": "stream",
     "text": [
      " 77%|███████▋  | 137/178 [07:11<04:57,  7.26s/it]"
     ]
    },
    {
     "name": "stdout",
     "output_type": "stream",
     "text": [
      "[49.81, 44.83, 44.83, 42.66, 44.82]\n",
      "highest_percentage:  49.81\n",
      "Found file: data/Praesenzen_hv-info/H_R GmbH _ Co. KGaA-15408/ASM/HV-Beschluss zur ordentlichen Hauptversammlung am 19.07.07.pdf\n",
      "Du bist ein hilfreicher Assistent, der Berichte von Hauptversammlungen auswertet.\n",
      "Im folgenden erhältst du einen Bericht einer Hauptversammlung. Das Dokument enthält eine Tabelle mit einer Kopfzeile, aber die Kopfzeile ist beim Extrahieren des Texts beschädigt worden. Bitte gib mir die volle Bezeichnung jeder Spalte in der korrekten Reihenfolge, wie sie im Dokument auftaucht. Antworte ausschließlich mit einer Liste im Format [spalte_1, spalte_2, spalte_3]. Es kann auch eine Kopfzeile mit Multi-Index sein. Wenn du keine Kopfzeile finden kannst, antworte mit [0]. Bericht: \n",
      "column names: [Stimmen (ohne Gewähr), JA, NEIN, Enthaltung]\n",
      "user_prompt:  Im folgenden erhältst du einen Bericht einer Hauptversammlung. Das Dokument enthält eine Tabelle mit einer Kopfzeile, aber die Kopfzeile ist beim Extrahieren des Texts beschädigt worden. Die korrekte Kopfzeile habe ich angehängt. Antworte ausschließlich mit einer Liste im Format [zahl_1, zahl_2, zahl_3], die ausschließlich alle die genannten Prozentzahlen enthält, die sich auf den Prozentsatz des auf der Hauptversammlung vertretenen Grundkapitals beziehen. Durchsuche das ganze Dokument nach solchen Zahlen, auch außerhalb von Tabellen. Wenn du dir nicht absolut sicher bist, antworte mit [0]. Verwende Punkt statt Komma für die Zahlen. \n",
      " Korrekte Kopfzeile: \n"
     ]
    },
    {
     "name": "stderr",
     "output_type": "stream",
     "text": [
      " 78%|███████▊  | 138/178 [07:14<03:58,  5.97s/it]"
     ]
    },
    {
     "name": "stdout",
     "output_type": "stream",
     "text": [
      "[0]\n",
      "highest_percentage:  0\n",
      "Found file: data/Praesenzen_hv-info/ZEAL Network SE-15442/ASM/HV-Beschluss zur ordentlichen Hauptversammlung am 19.06.14.pdf\n",
      "Du bist ein hilfreicher Assistent, der Berichte von Hauptversammlungen auswertet.\n",
      "Im folgenden erhältst du einen Bericht einer Hauptversammlung. Das Dokument enthält eine Tabelle mit einer Kopfzeile, aber die Kopfzeile ist beim Extrahieren des Texts beschädigt worden. Bitte gib mir die volle Bezeichnung jeder Spalte in der korrekten Reihenfolge, wie sie im Dokument auftaucht. Antworte ausschließlich mit einer Liste im Format [spalte_1, spalte_2, spalte_3]. Es kann auch eine Kopfzeile mit Multi-Index sein. Wenn du keine Kopfzeile finden kannst, antworte mit [0]. Bericht: \n",
      "column names: [resolution, votes_total, votes_for, percentage_for, votes_against, percentage_against, votes_withhelds]\n",
      "user_prompt:  Im folgenden erhältst du einen Bericht einer Hauptversammlung. Das Dokument enthält eine Tabelle mit einer Kopfzeile, aber die Kopfzeile ist beim Extrahieren des Texts beschädigt worden. Die korrekte Kopfzeile habe ich angehängt. Antworte ausschließlich mit einer Liste im Format [zahl_1, zahl_2, zahl_3], die ausschließlich alle die genannten Prozentzahlen enthält, die sich auf den Prozentsatz des auf der Hauptversammlung vertretenen Grundkapitals beziehen. Durchsuche das ganze Dokument nach solchen Zahlen, auch außerhalb von Tabellen. Wenn du dir nicht absolut sicher bist, antworte mit [0]. Verwende Punkt statt Komma für die Zahlen. \n",
      " Korrekte Kopfzeile: \n"
     ]
    },
    {
     "name": "stderr",
     "output_type": "stream",
     "text": [
      " 78%|███████▊  | 139/178 [07:21<04:06,  6.32s/it]"
     ]
    },
    {
     "name": "stdout",
     "output_type": "stream",
     "text": [
      "[99.77, 0.23, 98.21, 1.79, 98.20, 1.80, 99.75, 0.25]\n",
      "highest_percentage:  99.77\n",
      "Found file: data/Praesenzen_hv-info/Commerzbank AG-15503/ASM/HV-Beschluss zur ordentlichen Hauptversammlung am 15.05.08.pdf\n",
      "Du bist ein hilfreicher Assistent, der Berichte von Hauptversammlungen auswertet.\n",
      "Im folgenden erhältst du einen Bericht einer Hauptversammlung. Das Dokument enthält eine Tabelle mit einer Kopfzeile, aber die Kopfzeile ist beim Extrahieren des Texts beschädigt worden. Bitte gib mir die volle Bezeichnung jeder Spalte in der korrekten Reihenfolge, wie sie im Dokument auftaucht. Antworte ausschließlich mit einer Liste im Format [spalte_1, spalte_2, spalte_3]. Es kann auch eine Kopfzeile mit Multi-Index sein. Wenn du keine Kopfzeile finden kannst, antworte mit [0]. Bericht: \n",
      "column names: [0]\n",
      "Im folgenden erhältst du einen Bericht einer Hauptversammlung. Werden in dem Dokument wiederholt und ausdrücklich Angaben zum auf der Versammlung vertretenen Grundkapital in Prozent gemacht (Also bspw. 'Grundkapital: 30%'? Antworte nur mit [1] oder [0]. Bericht: \n",
      "[1]\n",
      "Im folgenden erhältst du einen Bericht von einer Hauptversammlung. Antworte ausschließlich mit einer Liste im Format [zahl_1, zahl_2, zahl_3], die ausschließlich alle die genannten Prozentzahlen enthält, die sich auf den Prozentsatz des auf der Hauptversammlung vertretenen Grundkapitals beziehen. Wenn du dir nicht absolut sicher bist, antworte mit [0]. Verwende Punkt statt Komma für die Zahlen. Bericht: \n"
     ]
    },
    {
     "name": "stderr",
     "output_type": "stream",
     "text": [
      " 79%|███████▊  | 140/178 [07:27<03:58,  6.29s/it]"
     ]
    },
    {
     "name": "stdout",
     "output_type": "stream",
     "text": [
      "[46.04]\n",
      "highest_percentage:  46.04\n",
      "Found file: data/Praesenzen_hv-info/Hannover Rück SE-15619/ASM/HV-Beschluss zur ordentlichen Hauptversammlung am 03.05.07.pdf\n",
      "Du bist ein hilfreicher Assistent, der Berichte von Hauptversammlungen auswertet.\n",
      "Im folgenden erhältst du einen Bericht einer Hauptversammlung. Das Dokument enthält eine Tabelle mit einer Kopfzeile, aber die Kopfzeile ist beim Extrahieren des Texts beschädigt worden. Bitte gib mir die volle Bezeichnung jeder Spalte in der korrekten Reihenfolge, wie sie im Dokument auftaucht. Antworte ausschließlich mit einer Liste im Format [spalte_1, spalte_2, spalte_3]. Es kann auch eine Kopfzeile mit Multi-Index sein. Wenn du keine Kopfzeile finden kannst, antworte mit [0]. Bericht: \n",
      "column names: [Stimmen, Prozentsatz]\n",
      "user_prompt:  Im folgenden erhältst du einen Bericht einer Hauptversammlung. Das Dokument enthält eine Tabelle mit einer Kopfzeile, aber die Kopfzeile ist beim Extrahieren des Texts beschädigt worden. Die korrekte Kopfzeile habe ich angehängt. Antworte ausschließlich mit einer Liste im Format [zahl_1, zahl_2, zahl_3], die ausschließlich alle die genannten Prozentzahlen enthält, die sich auf den Prozentsatz des auf der Hauptversammlung vertretenen Grundkapitals beziehen. Durchsuche das ganze Dokument nach solchen Zahlen, auch außerhalb von Tabellen. Wenn du dir nicht absolut sicher bist, antworte mit [0]. Verwende Punkt statt Komma für die Zahlen. \n",
      " Korrekte Kopfzeile: \n"
     ]
    },
    {
     "name": "stderr",
     "output_type": "stream",
     "text": [
      " 79%|███████▉  | 141/178 [07:35<04:08,  6.71s/it]"
     ]
    },
    {
     "name": "stdout",
     "output_type": "stream",
     "text": [
      "[38.44, 98.65, 1.35, 98.21, 1.79, 98.20, 1.80, 99.78, 0.22, 98.83, 1.17, 99.77, 0.23]\n",
      "highest_percentage:  99.78\n",
      "Found file: data/Praesenzen_hv-info/Münchener Rückversicherungs-Gesellschaft AG-15635/ASM/HV-Beschluss zur ordentlichen Hauptversammlung am 26.05.04.pdf\n",
      "Du bist ein hilfreicher Assistent, der Berichte von Hauptversammlungen auswertet.\n",
      "Im folgenden erhältst du einen Bericht einer Hauptversammlung. Das Dokument enthält eine Tabelle mit einer Kopfzeile, aber die Kopfzeile ist beim Extrahieren des Texts beschädigt worden. Bitte gib mir die volle Bezeichnung jeder Spalte in der korrekten Reihenfolge, wie sie im Dokument auftaucht. Antworte ausschließlich mit einer Liste im Format [spalte_1, spalte_2, spalte_3]. Es kann auch eine Kopfzeile mit Multi-Index sein. Wenn du keine Kopfzeile finden kannst, antworte mit [0]. Bericht: \n",
      "column names: [Top, Enthaltungen, Neinstimmen, Jastimmen, Ergebnis]\n",
      "user_prompt:  Im folgenden erhältst du einen Bericht einer Hauptversammlung. Das Dokument enthält eine Tabelle mit einer Kopfzeile, aber die Kopfzeile ist beim Extrahieren des Texts beschädigt worden. Die korrekte Kopfzeile habe ich angehängt. Antworte ausschließlich mit einer Liste im Format [zahl_1, zahl_2, zahl_3], die ausschließlich alle die genannten Prozentzahlen enthält, die sich auf den Prozentsatz des auf der Hauptversammlung vertretenen Grundkapitals beziehen. Durchsuche das ganze Dokument nach solchen Zahlen, auch außerhalb von Tabellen. Wenn du dir nicht absolut sicher bist, antworte mit [0]. Verwende Punkt statt Komma für die Zahlen. \n",
      " Korrekte Kopfzeile: \n"
     ]
    },
    {
     "name": "stderr",
     "output_type": "stream",
     "text": [
      " 80%|███████▉  | 142/178 [07:38<03:22,  5.63s/it]"
     ]
    },
    {
     "name": "stdout",
     "output_type": "stream",
     "text": [
      "[44.89]\n",
      "highest_percentage:  44.89\n",
      "Du bist ein hilfreicher Assistent, der Berichte von Hauptversammlungen auswertet.\n",
      "Im folgenden erhältst du einen Bericht einer Hauptversammlung. Das Dokument enthält eine Tabelle mit einer Kopfzeile, aber die Kopfzeile ist beim Extrahieren des Texts beschädigt worden. Bitte gib mir die volle Bezeichnung jeder Spalte in der korrekten Reihenfolge, wie sie im Dokument auftaucht. Antworte ausschließlich mit einer Liste im Format [spalte_1, spalte_2, spalte_3]. Es kann auch eine Kopfzeile mit Multi-Index sein. Wenn du keine Kopfzeile finden kannst, antworte mit [0]. Bericht: \n",
      "column names: [Abgegebene gültige Stimmen (Zahl der Aktien), Anteil des hierdurch vertretenen Grundkapitals, Anzahl Ja-Stimmen, % Ja-Stimmen, Anzahl Nein-Stimmen, % Nein-Stimmen]\n",
      "user_prompt:  Im folgenden erhältst du einen Bericht einer Hauptversammlung. Das Dokument enthält eine Tabelle mit einer Kopfzeile, aber die Kopfzeile ist beim Extrahieren des Texts beschädigt worden. Die korrekte Kopfzeile habe ich angehängt. Antworte ausschließlich mit einer Liste im Format [zahl_1, zahl_2, zahl_3], die ausschließlich alle die genannten Prozentzahlen enthält, die sich auf den Prozentsatz des auf der Hauptversammlung vertretenen Grundkapitals beziehen. Durchsuche das ganze Dokument nach solchen Zahlen, auch außerhalb von Tabellen. Wenn du dir nicht absolut sicher bist, antworte mit [0]. Verwende Punkt statt Komma für die Zahlen. \n",
      " Korrekte Kopfzeile: \n"
     ]
    },
    {
     "name": "stderr",
     "output_type": "stream",
     "text": [
      " 80%|████████  | 143/178 [07:57<05:34,  9.56s/it]"
     ]
    },
    {
     "name": "stdout",
     "output_type": "stream",
     "text": [
      "[41.92, 41.78, 40.94, 40.91, 41.68, 41.04, 41.82, 41.79, 41.78, 40.45, 41.86, 41.86, 41.86, 41.86, 25.80, 25.72]\n",
      "highest_percentage:  41.92\n",
      "Du bist ein hilfreicher Assistent, der Berichte von Hauptversammlungen auswertet.\n",
      "Im folgenden erhältst du einen Bericht einer Hauptversammlung. Das Dokument enthält eine Tabelle mit einer Kopfzeile, aber die Kopfzeile ist beim Extrahieren des Texts beschädigt worden. Bitte gib mir die volle Bezeichnung jeder Spalte in der korrekten Reihenfolge, wie sie im Dokument auftaucht. Antworte ausschließlich mit einer Liste im Format [spalte_1, spalte_2, spalte_3]. Es kann auch eine Kopfzeile mit Multi-Index sein. Wenn du keine Kopfzeile finden kannst, antworte mit [0]. Bericht: \n",
      "column names: [Tagesordnungspunkt, Anzahl Aktien, für die gültige Stimmen abgegeben wurden, In % des satzungsmäßigen Grundkapitals, Ja-Stimmen, Nein-Stimmen, Zustimmungsquote, Beschlussvorschlag]\n",
      "user_prompt:  Im folgenden erhältst du einen Bericht einer Hauptversammlung. Das Dokument enthält eine Tabelle mit einer Kopfzeile, aber die Kopfzeile ist beim Extrahieren des Texts beschädigt worden. Die korrekte Kopfzeile habe ich angehängt. Antworte ausschließlich mit einer Liste im Format [zahl_1, zahl_2, zahl_3], die ausschließlich alle die genannten Prozentzahlen enthält, die sich auf den Prozentsatz des auf der Hauptversammlung vertretenen Grundkapitals beziehen. Durchsuche das ganze Dokument nach solchen Zahlen, auch außerhalb von Tabellen. Wenn du dir nicht absolut sicher bist, antworte mit [0]. Verwende Punkt statt Komma für die Zahlen. \n",
      " Korrekte Kopfzeile: \n"
     ]
    },
    {
     "name": "stderr",
     "output_type": "stream",
     "text": [
      " 81%|████████  | 144/178 [08:08<05:42, 10.07s/it]"
     ]
    },
    {
     "name": "stdout",
     "output_type": "stream",
     "text": [
      "[44.26, 24.27, 49.88, 49.87, 49.87, 49.87, 49.89, 49.89, 49.89, 49.89, 49.68]\n",
      "highest_percentage:  49.89\n",
      "Found file: data/Praesenzen_hv-info/Diebold Nixdorf  AG-15660/ASM/HV-Beschluss zur ordentlichen Hauptversammlung am 20.01.14.pdf\n",
      "Du bist ein hilfreicher Assistent, der Berichte von Hauptversammlungen auswertet.\n",
      "Im folgenden erhältst du einen Bericht einer Hauptversammlung. Das Dokument enthält eine Tabelle mit einer Kopfzeile, aber die Kopfzeile ist beim Extrahieren des Texts beschädigt worden. Bitte gib mir die volle Bezeichnung jeder Spalte in der korrekten Reihenfolge, wie sie im Dokument auftaucht. Antworte ausschließlich mit einer Liste im Format [spalte_1, spalte_2, spalte_3]. Es kann auch eine Kopfzeile mit Multi-Index sein. Wenn du keine Kopfzeile finden kannst, antworte mit [0]. Bericht: \n",
      "column names: [gültige_stimmen, in_%_des_vertretenen_grundkapitals, in_%_des_gesamten_grundkapitals, ja-stimmen_in_zahl, ja-stimmen_in_%, nein-stimmen, enthaltung, ergebnis]\n",
      "user_prompt:  Im folgenden erhältst du einen Bericht einer Hauptversammlung. Das Dokument enthält eine Tabelle mit einer Kopfzeile, aber die Kopfzeile ist beim Extrahieren des Texts beschädigt worden. Die korrekte Kopfzeile habe ich angehängt. Antworte ausschließlich mit einer Liste im Format [zahl_1, zahl_2, zahl_3], die ausschließlich alle die genannten Prozentzahlen enthält, die sich auf den Prozentsatz des auf der Hauptversammlung vertretenen Grundkapitals beziehen. Durchsuche das ganze Dokument nach solchen Zahlen, auch außerhalb von Tabellen. Wenn du dir nicht absolut sicher bist, antworte mit [0]. Verwende Punkt statt Komma für die Zahlen. \n",
      " Korrekte Kopfzeile: \n"
     ]
    },
    {
     "name": "stderr",
     "output_type": "stream",
     "text": [
      " 81%|████████▏ | 145/178 [08:22<06:12, 11.29s/it]"
     ]
    },
    {
     "name": "stdout",
     "output_type": "stream",
     "text": [
      "[62.281, 61.571, 61.010, 62.293, 62.266, 62.278, 61.229, 60.158, 62.298]\n",
      "highest_percentage:  62.3\n",
      "Found file: data/Praesenzen_hv-info/MTU Aero Engines AG-15663/ASM/HV-Beschluss zur ordentlichen Hauptversammlung am 08.05.14.pdf\n",
      "Du bist ein hilfreicher Assistent, der Berichte von Hauptversammlungen auswertet.\n",
      "Im folgenden erhältst du einen Bericht einer Hauptversammlung. Das Dokument enthält eine Tabelle mit einer Kopfzeile, aber die Kopfzeile ist beim Extrahieren des Texts beschädigt worden. Bitte gib mir die volle Bezeichnung jeder Spalte in der korrekten Reihenfolge, wie sie im Dokument auftaucht. Antworte ausschließlich mit einer Liste im Format [spalte_1, spalte_2, spalte_3]. Es kann auch eine Kopfzeile mit Multi-Index sein. Wenn du keine Kopfzeile finden kannst, antworte mit [0]. Bericht: \n",
      "column names: [0]\n",
      "Im folgenden erhältst du einen Bericht einer Hauptversammlung. Werden in dem Dokument wiederholt und ausdrücklich Angaben zum auf der Versammlung vertretenen Grundkapital in Prozent gemacht (Also bspw. 'Grundkapital: 30%'? Antworte nur mit [1] oder [0]. Bericht: \n",
      "[1]\n",
      "Im folgenden erhältst du einen Bericht von einer Hauptversammlung. Antworte ausschließlich mit einer Liste im Format [zahl_1, zahl_2, zahl_3], die ausschließlich alle die genannten Prozentzahlen enthält, die sich auf den Prozentsatz des auf der Hauptversammlung vertretenen Grundkapitals beziehen. Wenn du dir nicht absolut sicher bist, antworte mit [0]. Verwende Punkt statt Komma für die Zahlen. Bericht: \n"
     ]
    },
    {
     "name": "stderr",
     "output_type": "stream",
     "text": [
      " 82%|████████▏ | 146/178 [08:29<05:15,  9.87s/it]"
     ]
    },
    {
     "name": "stdout",
     "output_type": "stream",
     "text": [
      "[19.4793, 19.0052, 19.2919, 19.3306, 19.4588, 19.4624]\n",
      "highest_percentage:  19.48\n",
      "Found file: data/Praesenzen_hv-info/SMA Solar Technology AG-15665/ASM/HV-Beschluss zur ordentlichen Hauptversammlung am 26.05.11.pdf\n",
      "Du bist ein hilfreicher Assistent, der Berichte von Hauptversammlungen auswertet.\n",
      "Im folgenden erhältst du einen Bericht einer Hauptversammlung. Das Dokument enthält eine Tabelle mit einer Kopfzeile, aber die Kopfzeile ist beim Extrahieren des Texts beschädigt worden. Bitte gib mir die volle Bezeichnung jeder Spalte in der korrekten Reihenfolge, wie sie im Dokument auftaucht. Antworte ausschließlich mit einer Liste im Format [spalte_1, spalte_2, spalte_3]. Es kann auch eine Kopfzeile mit Multi-Index sein. Wenn du keine Kopfzeile finden kannst, antworte mit [0]. Bericht: \n",
      "column names: [TOP, Abstimmpunkt, Enthaltungen, Gültige Stimmen, in% vom GK, Nein-Stimmen, Nein-%, Ja-Stimmen, Ja-%, Ergebnis]\n",
      "user_prompt:  Im folgenden erhältst du einen Bericht einer Hauptversammlung. Das Dokument enthält eine Tabelle mit einer Kopfzeile, aber die Kopfzeile ist beim Extrahieren des Texts beschädigt worden. Die korrekte Kopfzeile habe ich angehängt. Antworte ausschließlich mit einer Liste im Format [zahl_1, zahl_2, zahl_3], die ausschließlich alle die genannten Prozentzahlen enthält, die sich auf den Prozentsatz des auf der Hauptversammlung vertretenen Grundkapitals beziehen. Durchsuche das ganze Dokument nach solchen Zahlen, auch außerhalb von Tabellen. Wenn du dir nicht absolut sicher bist, antworte mit [0]. Verwende Punkt statt Komma für die Zahlen. \n",
      " Korrekte Kopfzeile: \n"
     ]
    },
    {
     "name": "stderr",
     "output_type": "stream",
     "text": [
      " 83%|████████▎ | 147/178 [08:39<05:14, 10.13s/it]"
     ]
    },
    {
     "name": "stdout",
     "output_type": "stream",
     "text": [
      "[84.599, 71.806, 71.790, 84.598, 84.046, 84.592, 84.599, 84.593, 62.391, 84.598, 84.342, 84.342]\n",
      "highest_percentage:  84.6\n",
      "Found file: data/Praesenzen_hv-info/Sky Deutschland AG-15669/ASM/HV-Beschluss zur ordentlichen Hauptversammlung am 15.04.11.pdf\n",
      "Du bist ein hilfreicher Assistent, der Berichte von Hauptversammlungen auswertet.\n",
      "Im folgenden erhältst du einen Bericht einer Hauptversammlung. Das Dokument enthält eine Tabelle mit einer Kopfzeile, aber die Kopfzeile ist beim Extrahieren des Texts beschädigt worden. Bitte gib mir die volle Bezeichnung jeder Spalte in der korrekten Reihenfolge, wie sie im Dokument auftaucht. Antworte ausschließlich mit einer Liste im Format [spalte_1, spalte_2, spalte_3]. Es kann auch eine Kopfzeile mit Multi-Index sein. Wenn du keine Kopfzeile finden kannst, antworte mit [0]. Bericht: \n",
      "column names: [tagesordnungspunkt, ja-stimmen_anzahl, ja-stimmen_prozent, nein-stimmen_anzahl]\n",
      "user_prompt:  Im folgenden erhältst du einen Bericht einer Hauptversammlung. Das Dokument enthält eine Tabelle mit einer Kopfzeile, aber die Kopfzeile ist beim Extrahieren des Texts beschädigt worden. Die korrekte Kopfzeile habe ich angehängt. Antworte ausschließlich mit einer Liste im Format [zahl_1, zahl_2, zahl_3], die ausschließlich alle die genannten Prozentzahlen enthält, die sich auf den Prozentsatz des auf der Hauptversammlung vertretenen Grundkapitals beziehen. Durchsuche das ganze Dokument nach solchen Zahlen, auch außerhalb von Tabellen. Wenn du dir nicht absolut sicher bist, antworte mit [0]. Verwende Punkt statt Komma für die Zahlen. \n",
      " Korrekte Kopfzeile: \n"
     ]
    },
    {
     "name": "stderr",
     "output_type": "stream",
     "text": [
      " 83%|████████▎ | 148/178 [08:47<04:41,  9.40s/it]"
     ]
    },
    {
     "name": "stdout",
     "output_type": "stream",
     "text": [
      "[99.3129, 73.37]\n",
      "highest_percentage:  99.31\n",
      "Found file: data/Praesenzen_hv-info/Praktiker AG-15674/ASM/HV-Beschluss zur ordentlichen Hauptversammlung am 29.05.13.pdf\n",
      "Du bist ein hilfreicher Assistent, der Berichte von Hauptversammlungen auswertet.\n",
      "Im folgenden erhältst du einen Bericht einer Hauptversammlung. Das Dokument enthält eine Tabelle mit einer Kopfzeile, aber die Kopfzeile ist beim Extrahieren des Texts beschädigt worden. Bitte gib mir die volle Bezeichnung jeder Spalte in der korrekten Reihenfolge, wie sie im Dokument auftaucht. Antworte ausschließlich mit einer Liste im Format [spalte_1, spalte_2, spalte_3]. Es kann auch eine Kopfzeile mit Multi-Index sein. Wenn du keine Kopfzeile finden kannst, antworte mit [0]. Bericht: \n",
      "column names: [Tagesordnungspunkt, Zahl der Aktien, für die gültige Stimmen abgegeben wurden, Anteil des durch die gültigen Stimmen vertretenen Grundkapitals in %, „Ja“-Stimmen, „Nein“-Stimmen, Zustimmung in %, Beschlussvorschlag]\n",
      "user_prompt:  Im folgenden erhältst du einen Bericht einer Hauptversammlung. Das Dokument enthält eine Tabelle mit einer Kopfzeile, aber die Kopfzeile ist beim Extrahieren des Texts beschädigt worden. Die korrekte Kopfzeile habe ich angehängt. Antworte ausschließlich mit einer Liste im Format [zahl_1, zahl_2, zahl_3], die ausschließlich alle die genannten Prozentzahlen enthält, die sich auf den Prozentsatz des auf der Hauptversammlung vertretenen Grundkapitals beziehen. Durchsuche das ganze Dokument nach solchen Zahlen, auch außerhalb von Tabellen. Wenn du dir nicht absolut sicher bist, antworte mit [0]. Verwende Punkt statt Komma für die Zahlen. \n",
      " Korrekte Kopfzeile: \n"
     ]
    },
    {
     "name": "stderr",
     "output_type": "stream",
     "text": [
      " 84%|████████▎ | 149/178 [09:01<05:08, 10.63s/it]"
     ]
    },
    {
     "name": "stdout",
     "output_type": "stream",
     "text": [
      "[20.52, 25.74, 27.54, 25.65, 27.46, 28.06, 27.56, 27.56, 28.02, 28.02, 28.02, 28.02, 28.01, 28.49, 28.49, 27.69, 28.53]\n",
      "highest_percentage:  28.53\n",
      "Found file: data/Praesenzen_hv-info/Deutsche Wohnen SE-15679/ASM/HV-Beschluss zur ordentlichen Hauptversammlung am 31.05.11.pdf\n",
      "Du bist ein hilfreicher Assistent, der Berichte von Hauptversammlungen auswertet.\n",
      "Im folgenden erhältst du einen Bericht einer Hauptversammlung. Das Dokument enthält eine Tabelle mit einer Kopfzeile, aber die Kopfzeile ist beim Extrahieren des Texts beschädigt worden. Bitte gib mir die volle Bezeichnung jeder Spalte in der korrekten Reihenfolge, wie sie im Dokument auftaucht. Antworte ausschließlich mit einer Liste im Format [spalte_1, spalte_2, spalte_3]. Es kann auch eine Kopfzeile mit Multi-Index sein. Wenn du keine Kopfzeile finden kannst, antworte mit [0]. Bericht: \n",
      "column names: [0]\n",
      "Im folgenden erhältst du einen Bericht einer Hauptversammlung. Werden in dem Dokument wiederholt und ausdrücklich Angaben zum auf der Versammlung vertretenen Grundkapital in Prozent gemacht (Also bspw. 'Grundkapital: 30%'? Antworte nur mit [1] oder [0]. Bericht: \n",
      "[1]\n",
      "Im folgenden erhältst du einen Bericht von einer Hauptversammlung. Antworte ausschließlich mit einer Liste im Format [zahl_1, zahl_2, zahl_3], die ausschließlich alle die genannten Prozentzahlen enthält, die sich auf den Prozentsatz des auf der Hauptversammlung vertretenen Grundkapitals beziehen. Wenn du dir nicht absolut sicher bist, antworte mit [0]. Verwende Punkt statt Komma für die Zahlen. Bericht: \n"
     ]
    },
    {
     "name": "stderr",
     "output_type": "stream",
     "text": [
      " 84%|████████▍ | 150/178 [09:11<04:54, 10.52s/it]"
     ]
    },
    {
     "name": "stdout",
     "output_type": "stream",
     "text": [
      "[63.01, 62.94, 62.98, 60.68, 63.00, 63.00, 63.00, 63.01, 63.01, 63.00, 63.00, 63.00, 63.00, 63.00, 63.00]\n",
      "highest_percentage:  63.01\n",
      "Found file: data/Praesenzen_hv-info/Manz AG-15698/ASM/HV-Beschluss zur ordentlichen Hauptversammlung am 07.07.15.pdf\n",
      "Du bist ein hilfreicher Assistent, der Berichte von Hauptversammlungen auswertet.\n",
      "Im folgenden erhältst du einen Bericht einer Hauptversammlung. Das Dokument enthält eine Tabelle mit einer Kopfzeile, aber die Kopfzeile ist beim Extrahieren des Texts beschädigt worden. Bitte gib mir die volle Bezeichnung jeder Spalte in der korrekten Reihenfolge, wie sie im Dokument auftaucht. Antworte ausschließlich mit einer Liste im Format [spalte_1, spalte_2, spalte_3]. Es kann auch eine Kopfzeile mit Multi-Index sein. Wenn du keine Kopfzeile finden kannst, antworte mit [0]. Bericht: \n",
      "column names: [0]\n",
      "Im folgenden erhältst du einen Bericht einer Hauptversammlung. Werden in dem Dokument wiederholt und ausdrücklich Angaben zum auf der Versammlung vertretenen Grundkapital in Prozent gemacht (Also bspw. 'Grundkapital: 30%'? Antworte nur mit [1] oder [0]. Bericht: \n",
      "[1]\n",
      "Im folgenden erhältst du einen Bericht von einer Hauptversammlung. Antworte ausschließlich mit einer Liste im Format [zahl_1, zahl_2, zahl_3], die ausschließlich alle die genannten Prozentzahlen enthält, die sich auf den Prozentsatz des auf der Hauptversammlung vertretenen Grundkapitals beziehen. Wenn du dir nicht absolut sicher bist, antworte mit [0]. Verwende Punkt statt Komma für die Zahlen. Bericht: \n"
     ]
    },
    {
     "name": "stderr",
     "output_type": "stream",
     "text": [
      " 85%|████████▍ | 151/178 [09:19<04:27,  9.91s/it]"
     ]
    },
    {
     "name": "stdout",
     "output_type": "stream",
     "text": [
      "[20.82, 56.06, 56.06, 55.89, 56.06, 54.14]\n",
      "highest_percentage:  56.06\n",
      "Found file: data/Praesenzen_hv-info/Gerresheimer AG-15711/ASM/HV-Beschluss zur ordentlichen Hauptversammlung am 30.04.15.pdf\n",
      "Du bist ein hilfreicher Assistent, der Berichte von Hauptversammlungen auswertet.\n",
      "Im folgenden erhältst du einen Bericht einer Hauptversammlung. Das Dokument enthält eine Tabelle mit einer Kopfzeile, aber die Kopfzeile ist beim Extrahieren des Texts beschädigt worden. Bitte gib mir die volle Bezeichnung jeder Spalte in der korrekten Reihenfolge, wie sie im Dokument auftaucht. Antworte ausschließlich mit einer Liste im Format [spalte_1, spalte_2, spalte_3]. Es kann auch eine Kopfzeile mit Multi-Index sein. Wenn du keine Kopfzeile finden kannst, antworte mit [0]. Bericht: \n",
      "column names: [Anteil des hierdurch vertretenen Grundkapitals, abgegebene Stimmen, satzungsmäßigen Stimmen, gültige Stimmen, Ja-Stimmen, Nein-Stimmen, Ja-Stimmen, Enthaltungen]\n",
      "user_prompt:  Im folgenden erhältst du einen Bericht einer Hauptversammlung. Das Dokument enthält eine Tabelle mit einer Kopfzeile, aber die Kopfzeile ist beim Extrahieren des Texts beschädigt worden. Die korrekte Kopfzeile habe ich angehängt. Antworte ausschließlich mit einer Liste im Format [zahl_1, zahl_2, zahl_3], die ausschließlich alle die genannten Prozentzahlen enthält, die sich auf den Prozentsatz des auf der Hauptversammlung vertretenen Grundkapitals beziehen. Durchsuche das ganze Dokument nach solchen Zahlen, auch außerhalb von Tabellen. Wenn du dir nicht absolut sicher bist, antworte mit [0]. Verwende Punkt statt Komma für die Zahlen. \n",
      " Korrekte Kopfzeile: \n"
     ]
    },
    {
     "name": "stderr",
     "output_type": "stream",
     "text": [
      " 85%|████████▌ | 152/178 [09:32<04:36, 10.65s/it]"
     ]
    },
    {
     "name": "stdout",
     "output_type": "stream",
     "text": [
      "[78.54, 78.52, 77.82, 77.87, 78.52, 78.52, 78.17]\n",
      "highest_percentage:  78.54\n",
      "Found file: data/Praesenzen_hv-info/SAF-Holland SE-15720/ASM/HV-Beschluss zur ordentlichen Hauptversammlung am 23.04.15.pdf\n",
      "Du bist ein hilfreicher Assistent, der Berichte von Hauptversammlungen auswertet.\n",
      "Im folgenden erhältst du einen Bericht einer Hauptversammlung. Das Dokument enthält eine Tabelle mit einer Kopfzeile, aber die Kopfzeile ist beim Extrahieren des Texts beschädigt worden. Bitte gib mir die volle Bezeichnung jeder Spalte in der korrekten Reihenfolge, wie sie im Dokument auftaucht. Antworte ausschließlich mit einer Liste im Format [spalte_1, spalte_2, spalte_3]. Es kann auch eine Kopfzeile mit Multi-Index sein. Wenn du keine Kopfzeile finden kannst, antworte mit [0]. Bericht: \n",
      "column names: [Agenda Item, Yes, No, Abstentions, Share of assenting votes]\n",
      "user_prompt:  Im folgenden erhältst du einen Bericht einer Hauptversammlung. Das Dokument enthält eine Tabelle mit einer Kopfzeile, aber die Kopfzeile ist beim Extrahieren des Texts beschädigt worden. Die korrekte Kopfzeile habe ich angehängt. Antworte ausschließlich mit einer Liste im Format [zahl_1, zahl_2, zahl_3], die ausschließlich alle die genannten Prozentzahlen enthält, die sich auf den Prozentsatz des auf der Hauptversammlung vertretenen Grundkapitals beziehen. Durchsuche das ganze Dokument nach solchen Zahlen, auch außerhalb von Tabellen. Wenn du dir nicht absolut sicher bist, antworte mit [0]. Verwende Punkt statt Komma für die Zahlen. \n",
      " Korrekte Kopfzeile: \n"
     ]
    },
    {
     "name": "stderr",
     "output_type": "stream",
     "text": [
      " 86%|████████▌ | 153/178 [09:36<03:36,  8.66s/it]"
     ]
    },
    {
     "name": "stdout",
     "output_type": "stream",
     "text": [
      "[53.1]\n",
      "highest_percentage:  53.1\n",
      "Found file: data/Praesenzen_hv-info/Tom Tailor Holding SE i.I.-15734/ASM/HV-Beschluss zur ordentlichen Hauptversammlung am 18.05.11.pdf\n",
      "Du bist ein hilfreicher Assistent, der Berichte von Hauptversammlungen auswertet.\n",
      "Im folgenden erhältst du einen Bericht einer Hauptversammlung. Das Dokument enthält eine Tabelle mit einer Kopfzeile, aber die Kopfzeile ist beim Extrahieren des Texts beschädigt worden. Bitte gib mir die volle Bezeichnung jeder Spalte in der korrekten Reihenfolge, wie sie im Dokument auftaucht. Antworte ausschließlich mit einer Liste im Format [spalte_1, spalte_2, spalte_3]. Es kann auch eine Kopfzeile mit Multi-Index sein. Wenn du keine Kopfzeile finden kannst, antworte mit [0]. Bericht: \n",
      "column names: [TOP, Bezeichnung, Zahl der Aktien, für die gültige Stimmen abgegeben wurden, in % vom Grundkapital, Ja-Stimmen absolut, Ja-Stimmen Anteil in %, Nein-Stimmen absolut, Nein-Stimmen Anteil in %, Enthaltungen, Beschluss]\n",
      "user_prompt:  Im folgenden erhältst du einen Bericht einer Hauptversammlung. Das Dokument enthält eine Tabelle mit einer Kopfzeile, aber die Kopfzeile ist beim Extrahieren des Texts beschädigt worden. Die korrekte Kopfzeile habe ich angehängt. Antworte ausschließlich mit einer Liste im Format [zahl_1, zahl_2, zahl_3], die ausschließlich alle die genannten Prozentzahlen enthält, die sich auf den Prozentsatz des auf der Hauptversammlung vertretenen Grundkapitals beziehen. Durchsuche das ganze Dokument nach solchen Zahlen, auch außerhalb von Tabellen. Wenn du dir nicht absolut sicher bist, antworte mit [0]. Verwende Punkt statt Komma für die Zahlen. \n",
      " Korrekte Kopfzeile: \n"
     ]
    },
    {
     "name": "stderr",
     "output_type": "stream",
     "text": [
      " 87%|████████▋ | 154/178 [09:43<03:18,  8.27s/it]"
     ]
    },
    {
     "name": "stdout",
     "output_type": "stream",
     "text": [
      "[72.24, 68.49, 60.89, 72.24]\n",
      "highest_percentage:  72.24\n",
      "Found file: data/Praesenzen_hv-info/New Work SE-15739/ASM/HV-Beschluss zur ordentlichen Hauptversammlung am 21.05.08.pdf\n",
      "Du bist ein hilfreicher Assistent, der Berichte von Hauptversammlungen auswertet.\n",
      "Im folgenden erhältst du einen Bericht einer Hauptversammlung. Das Dokument enthält eine Tabelle mit einer Kopfzeile, aber die Kopfzeile ist beim Extrahieren des Texts beschädigt worden. Bitte gib mir die volle Bezeichnung jeder Spalte in der korrekten Reihenfolge, wie sie im Dokument auftaucht. Antworte ausschließlich mit einer Liste im Format [spalte_1, spalte_2, spalte_3]. Es kann auch eine Kopfzeile mit Multi-Index sein. Wenn du keine Kopfzeile finden kannst, antworte mit [0]. Bericht: \n",
      "column names: [0]\n",
      "Im folgenden erhältst du einen Bericht einer Hauptversammlung. Werden in dem Dokument wiederholt und ausdrücklich Angaben zum auf der Versammlung vertretenen Grundkapital in Prozent gemacht (Also bspw. 'Grundkapital: 30%'? Antworte nur mit [1] oder [0]. Bericht: \n",
      "[1]\n",
      "Im folgenden erhältst du einen Bericht von einer Hauptversammlung. Antworte ausschließlich mit einer Liste im Format [zahl_1, zahl_2, zahl_3], die ausschließlich alle die genannten Prozentzahlen enthält, die sich auf den Prozentsatz des auf der Hauptversammlung vertretenen Grundkapitals beziehen. Wenn du dir nicht absolut sicher bist, antworte mit [0]. Verwende Punkt statt Komma für die Zahlen. Bericht: \n"
     ]
    },
    {
     "name": "stderr",
     "output_type": "stream",
     "text": [
      " 87%|████████▋ | 155/178 [09:50<03:03,  7.97s/it]"
     ]
    },
    {
     "name": "stdout",
     "output_type": "stream",
     "text": [
      "[99.9928, 97.0767, 99.2586]\n",
      "highest_percentage:  99.99\n",
      "Found file: data/Praesenzen_hv-info/RIB Software SE-15740/ASM/HV-Beschluss zur ordentlichen Hauptversammlung am 10.06.15.pdf\n",
      "Du bist ein hilfreicher Assistent, der Berichte von Hauptversammlungen auswertet.\n",
      "Im folgenden erhältst du einen Bericht einer Hauptversammlung. Das Dokument enthält eine Tabelle mit einer Kopfzeile, aber die Kopfzeile ist beim Extrahieren des Texts beschädigt worden. Bitte gib mir die volle Bezeichnung jeder Spalte in der korrekten Reihenfolge, wie sie im Dokument auftaucht. Antworte ausschließlich mit einer Liste im Format [spalte_1, spalte_2, spalte_3]. Es kann auch eine Kopfzeile mit Multi-Index sein. Wenn du keine Kopfzeile finden kannst, antworte mit [0]. Bericht: \n",
      "column names: [0]\n",
      "Im folgenden erhältst du einen Bericht einer Hauptversammlung. Werden in dem Dokument wiederholt und ausdrücklich Angaben zum auf der Versammlung vertretenen Grundkapital in Prozent gemacht (Also bspw. 'Grundkapital: 30%'? Antworte nur mit [1] oder [0]. Bericht: \n",
      "[1]\n",
      "Im folgenden erhältst du einen Bericht von einer Hauptversammlung. Antworte ausschließlich mit einer Liste im Format [zahl_1, zahl_2, zahl_3], die ausschließlich alle die genannten Prozentzahlen enthält, die sich auf den Prozentsatz des auf der Hauptversammlung vertretenen Grundkapitals beziehen. Wenn du dir nicht absolut sicher bist, antworte mit [0]. Verwende Punkt statt Komma für die Zahlen. Bericht: \n"
     ]
    },
    {
     "name": "stderr",
     "output_type": "stream",
     "text": [
      " 88%|████████▊ | 156/178 [09:58<02:49,  7.71s/it]"
     ]
    },
    {
     "name": "stdout",
     "output_type": "stream",
     "text": [
      "[100.00, 60.77, 98.13, 100.00, 98.12, 99.60, 98.82, 97.87, 99.54]\n",
      "highest_percentage:  100.0\n",
      "Found file: data/Praesenzen_hv-info/TLG Immobilien AG-15743/ASM/HV-Beschluss zur ordentlichen Hauptversammlung am 25.06.15.pdf\n",
      "Du bist ein hilfreicher Assistent, der Berichte von Hauptversammlungen auswertet.\n",
      "Im folgenden erhältst du einen Bericht einer Hauptversammlung. Das Dokument enthält eine Tabelle mit einer Kopfzeile, aber die Kopfzeile ist beim Extrahieren des Texts beschädigt worden. Bitte gib mir die volle Bezeichnung jeder Spalte in der korrekten Reihenfolge, wie sie im Dokument auftaucht. Antworte ausschließlich mit einer Liste im Format [spalte_1, spalte_2, spalte_3]. Es kann auch eine Kopfzeile mit Multi-Index sein. Wenn du keine Kopfzeile finden kannst, antworte mit [0]. Bericht: \n",
      "column names: [Tagesordnungspunkt, Anzahl gültige Stimmen, In % des satzungsmäßigen Grundkapitals, Ja-Stimmen, Nein-Stimmen, Zustimmungsquote, Beschlussvorschlag]\n",
      "user_prompt:  Im folgenden erhältst du einen Bericht einer Hauptversammlung. Das Dokument enthält eine Tabelle mit einer Kopfzeile, aber die Kopfzeile ist beim Extrahieren des Texts beschädigt worden. Die korrekte Kopfzeile habe ich angehängt. Antworte ausschließlich mit einer Liste im Format [zahl_1, zahl_2, zahl_3], die ausschließlich alle die genannten Prozentzahlen enthält, die sich auf den Prozentsatz des auf der Hauptversammlung vertretenen Grundkapitals beziehen. Durchsuche das ganze Dokument nach solchen Zahlen, auch außerhalb von Tabellen. Wenn du dir nicht absolut sicher bist, antworte mit [0]. Verwende Punkt statt Komma für die Zahlen. \n",
      " Korrekte Kopfzeile: \n"
     ]
    },
    {
     "name": "stderr",
     "output_type": "stream",
     "text": [
      " 88%|████████▊ | 157/178 [10:03<02:28,  7.07s/it]"
     ]
    },
    {
     "name": "stdout",
     "output_type": "stream",
     "text": [
      "[52.05, 51.89, 51.88, 52.05]\n",
      "highest_percentage:  52.05\n",
      "Found file: data/Praesenzen_hv-info/HELLA GmbH _ Co. KGaA-15749/ASM/HV-Beschluss zur ordentlichen Hauptversammlung am 25.09.15.pdf\n",
      "Du bist ein hilfreicher Assistent, der Berichte von Hauptversammlungen auswertet.\n",
      "Im folgenden erhältst du einen Bericht einer Hauptversammlung. Das Dokument enthält eine Tabelle mit einer Kopfzeile, aber die Kopfzeile ist beim Extrahieren des Texts beschädigt worden. Bitte gib mir die volle Bezeichnung jeder Spalte in der korrekten Reihenfolge, wie sie im Dokument auftaucht. Antworte ausschließlich mit einer Liste im Format [spalte_1, spalte_2, spalte_3]. Es kann auch eine Kopfzeile mit Multi-Index sein. Wenn du keine Kopfzeile finden kannst, antworte mit [0]. Bericht: \n",
      "column names: [Stimmen, Prozent]\n",
      "user_prompt:  Im folgenden erhältst du einen Bericht einer Hauptversammlung. Das Dokument enthält eine Tabelle mit einer Kopfzeile, aber die Kopfzeile ist beim Extrahieren des Texts beschädigt worden. Die korrekte Kopfzeile habe ich angehängt. Antworte ausschließlich mit einer Liste im Format [zahl_1, zahl_2, zahl_3], die ausschließlich alle die genannten Prozentzahlen enthält, die sich auf den Prozentsatz des auf der Hauptversammlung vertretenen Grundkapitals beziehen. Durchsuche das ganze Dokument nach solchen Zahlen, auch außerhalb von Tabellen. Wenn du dir nicht absolut sicher bist, antworte mit [0]. Verwende Punkt statt Komma für die Zahlen. \n",
      " Korrekte Kopfzeile: \n"
     ]
    },
    {
     "name": "stderr",
     "output_type": "stream",
     "text": [
      " 89%|████████▉ | 158/178 [10:10<02:17,  6.89s/it]"
     ]
    },
    {
     "name": "stdout",
     "output_type": "stream",
     "text": [
      "[85.34, 85.34, 83.97, 64.79, 74.89, 83.86]\n",
      "highest_percentage:  85.34\n",
      "Found file: data/Praesenzen_hv-info/Vonovia SE-15751/ASM/HV-Beschluss zur ordentlichen Hauptversammlung am 09.05.14.pdf\n",
      "Du bist ein hilfreicher Assistent, der Berichte von Hauptversammlungen auswertet.\n",
      "Im folgenden erhältst du einen Bericht einer Hauptversammlung. Das Dokument enthält eine Tabelle mit einer Kopfzeile, aber die Kopfzeile ist beim Extrahieren des Texts beschädigt worden. Bitte gib mir die volle Bezeichnung jeder Spalte in der korrekten Reihenfolge, wie sie im Dokument auftaucht. Antworte ausschließlich mit einer Liste im Format [spalte_1, spalte_2, spalte_3]. Es kann auch eine Kopfzeile mit Multi-Index sein. Wenn du keine Kopfzeile finden kannst, antworte mit [0]. Bericht: \n",
      "column names: [Tagesordnungspunkt, Beschlussvorschlag, Abgegebene gültige Stimmen, In % des gesamten Grundkapitals, Ja-Stimmen In Zahl, Nein-Stimmen In Zahl, Ja-Stimmen In %]\n",
      "user_prompt:  Im folgenden erhältst du einen Bericht einer Hauptversammlung. Das Dokument enthält eine Tabelle mit einer Kopfzeile, aber die Kopfzeile ist beim Extrahieren des Texts beschädigt worden. Die korrekte Kopfzeile habe ich angehängt. Antworte ausschließlich mit einer Liste im Format [zahl_1, zahl_2, zahl_3], die ausschließlich alle die genannten Prozentzahlen enthält, die sich auf den Prozentsatz des auf der Hauptversammlung vertretenen Grundkapitals beziehen. Durchsuche das ganze Dokument nach solchen Zahlen, auch außerhalb von Tabellen. Wenn du dir nicht absolut sicher bist, antworte mit [0]. Verwende Punkt statt Komma für die Zahlen. \n",
      " Korrekte Kopfzeile: \n"
     ]
    },
    {
     "name": "stderr",
     "output_type": "stream",
     "text": [
      " 89%|████████▉ | 159/178 [10:19<02:25,  7.65s/it]"
     ]
    },
    {
     "name": "stdout",
     "output_type": "stream",
     "text": [
      "[84.95, 84.93, 84.89, 84.67, 84.95, 84.95, 84.95, 84.95, 84.95, 84.94]\n",
      "highest_percentage:  84.95\n",
      "Found file: data/Praesenzen_hv-info/Norma Group SE-15763/ASM/HV-Beschluss zur ordentlichen Hauptversammlung am 20.05.15.pdf\n",
      "Du bist ein hilfreicher Assistent, der Berichte von Hauptversammlungen auswertet.\n",
      "Im folgenden erhältst du einen Bericht einer Hauptversammlung. Das Dokument enthält eine Tabelle mit einer Kopfzeile, aber die Kopfzeile ist beim Extrahieren des Texts beschädigt worden. Bitte gib mir die volle Bezeichnung jeder Spalte in der korrekten Reihenfolge, wie sie im Dokument auftaucht. Antworte ausschließlich mit einer Liste im Format [spalte_1, spalte_2, spalte_3]. Es kann auch eine Kopfzeile mit Multi-Index sein. Wenn du keine Kopfzeile finden kannst, antworte mit [0]. Bericht: \n",
      "column names: [aktien_fuer_die_gueltige_stimmen_abgegeben, ja-stimmen_anzahl, ja-stimmen_prozent, nein-stimmen_anzahl, nein-stimmen_prozent, enthaltungen]\n",
      "user_prompt:  Im folgenden erhältst du einen Bericht einer Hauptversammlung. Das Dokument enthält eine Tabelle mit einer Kopfzeile, aber die Kopfzeile ist beim Extrahieren des Texts beschädigt worden. Die korrekte Kopfzeile habe ich angehängt. Antworte ausschließlich mit einer Liste im Format [zahl_1, zahl_2, zahl_3], die ausschließlich alle die genannten Prozentzahlen enthält, die sich auf den Prozentsatz des auf der Hauptversammlung vertretenen Grundkapitals beziehen. Durchsuche das ganze Dokument nach solchen Zahlen, auch außerhalb von Tabellen. Wenn du dir nicht absolut sicher bist, antworte mit [0]. Verwende Punkt statt Komma für die Zahlen. \n",
      " Korrekte Kopfzeile: \n"
     ]
    },
    {
     "name": "stderr",
     "output_type": "stream",
     "text": [
      " 90%|████████▉ | 160/178 [10:27<02:18,  7.72s/it]"
     ]
    },
    {
     "name": "stdout",
     "output_type": "stream",
     "text": [
      "[61.62, 59.12, 59.07, 61.62, 61.62, 61.62, 61.52, 61.52, 61.62]\n",
      "highest_percentage:  61.62\n",
      "Found file: data/Praesenzen_hv-info/Telefonica Deutschland Holding AG-15765/ASM/HV-Beschluss zur ordentlichen Hauptversammlung am 20.05.14.pdf\n",
      "Du bist ein hilfreicher Assistent, der Berichte von Hauptversammlungen auswertet.\n",
      "Im folgenden erhältst du einen Bericht einer Hauptversammlung. Das Dokument enthält eine Tabelle mit einer Kopfzeile, aber die Kopfzeile ist beim Extrahieren des Texts beschädigt worden. Bitte gib mir die volle Bezeichnung jeder Spalte in der korrekten Reihenfolge, wie sie im Dokument auftaucht. Antworte ausschließlich mit einer Liste im Format [spalte_1, spalte_2, spalte_3]. Es kann auch eine Kopfzeile mit Multi-Index sein. Wenn du keine Kopfzeile finden kannst, antworte mit [0]. Bericht: \n",
      "column names: [Tagesordnungspunkt, Abgegebene gültige Ja- und Nein-Stimmen, In % des gesamten Grundkapitals, Zustimmungsquote der gültigen Stimmen, Ja-Stimmen, Nein-Stimmen, Beschlussvorschlag in %]\n",
      "user_prompt:  Im folgenden erhältst du einen Bericht einer Hauptversammlung. Das Dokument enthält eine Tabelle mit einer Kopfzeile, aber die Kopfzeile ist beim Extrahieren des Texts beschädigt worden. Die korrekte Kopfzeile habe ich angehängt. Antworte ausschließlich mit einer Liste im Format [zahl_1, zahl_2, zahl_3], die ausschließlich alle die genannten Prozentzahlen enthält, die sich auf den Prozentsatz des auf der Hauptversammlung vertretenen Grundkapitals beziehen. Durchsuche das ganze Dokument nach solchen Zahlen, auch außerhalb von Tabellen. Wenn du dir nicht absolut sicher bist, antworte mit [0]. Verwende Punkt statt Komma für die Zahlen. \n",
      " Korrekte Kopfzeile: \n"
     ]
    },
    {
     "name": "stderr",
     "output_type": "stream",
     "text": [
      " 90%|█████████ | 161/178 [10:36<02:20,  8.29s/it]"
     ]
    },
    {
     "name": "stdout",
     "output_type": "stream",
     "text": [
      "[87.67, 87.64, 87.63, 87.67, 87.67, 87.48, 87.48, 87.67]\n",
      "highest_percentage:  87.67\n",
      "Found file: data/Praesenzen_hv-info/ProSiebenSAT.1 Media SE-15766/ASM/HV-Beschluss zur ordentlichen Hauptversammlung am 29.06.10.pdf\n",
      "Du bist ein hilfreicher Assistent, der Berichte von Hauptversammlungen auswertet.\n",
      "Im folgenden erhältst du einen Bericht einer Hauptversammlung. Das Dokument enthält eine Tabelle mit einer Kopfzeile, aber die Kopfzeile ist beim Extrahieren des Texts beschädigt worden. Bitte gib mir die volle Bezeichnung jeder Spalte in der korrekten Reihenfolge, wie sie im Dokument auftaucht. Antworte ausschließlich mit einer Liste im Format [spalte_1, spalte_2, spalte_3]. Es kann auch eine Kopfzeile mit Multi-Index sein. Wenn du keine Kopfzeile finden kannst, antworte mit [0]. Bericht: \n",
      "column names: [Tagesordnungspunkt, Präsenz, in % des gesamten Grundkapitals, in % der abgegebenen gültigen Stimmen, in % des präsenten Grundkapitals, in % des gesamten Grundkapitals, Ja-Stimmen, Nein-Stimmen, Vorschlag]\n",
      "user_prompt:  Im folgenden erhältst du einen Bericht einer Hauptversammlung. Das Dokument enthält eine Tabelle mit einer Kopfzeile, aber die Kopfzeile ist beim Extrahieren des Texts beschädigt worden. Die korrekte Kopfzeile habe ich angehängt. Antworte ausschließlich mit einer Liste im Format [zahl_1, zahl_2, zahl_3], die ausschließlich alle die genannten Prozentzahlen enthält, die sich auf den Prozentsatz des auf der Hauptversammlung vertretenen Grundkapitals beziehen. Durchsuche das ganze Dokument nach solchen Zahlen, auch außerhalb von Tabellen. Wenn du dir nicht absolut sicher bist, antworte mit [0]. Verwende Punkt statt Komma für die Zahlen. \n",
      " Korrekte Kopfzeile: \n"
     ]
    },
    {
     "name": "stderr",
     "output_type": "stream",
     "text": [
      " 91%|█████████ | 162/178 [10:49<02:34,  9.64s/it]"
     ]
    },
    {
     "name": "stdout",
     "output_type": "stream",
     "text": [
      "[63.33, 63.33, 63.33, 63.33, 63.33, 63.33, 63.33, 63.33, 63.33, 63.33, 63.33]\n",
      "highest_percentage:  63.33\n",
      "Found file: data/Praesenzen_hv-info/SHW AG-15767/ASM/HV-Beschluss zur ordentlichen Hauptversammlung am 12.05.15.pdf\n",
      "Du bist ein hilfreicher Assistent, der Berichte von Hauptversammlungen auswertet.\n",
      "Im folgenden erhältst du einen Bericht einer Hauptversammlung. Das Dokument enthält eine Tabelle mit einer Kopfzeile, aber die Kopfzeile ist beim Extrahieren des Texts beschädigt worden. Bitte gib mir die volle Bezeichnung jeder Spalte in der korrekten Reihenfolge, wie sie im Dokument auftaucht. Antworte ausschließlich mit einer Liste im Format [spalte_1, spalte_2, spalte_3]. Es kann auch eine Kopfzeile mit Multi-Index sein. Wenn du keine Kopfzeile finden kannst, antworte mit [0]. Bericht: \n",
      "column names: [0]\n",
      "Im folgenden erhältst du einen Bericht einer Hauptversammlung. Werden in dem Dokument wiederholt und ausdrücklich Angaben zum auf der Versammlung vertretenen Grundkapital in Prozent gemacht (Also bspw. 'Grundkapital: 30%'? Antworte nur mit [1] oder [0]. Bericht: \n"
     ]
    },
    {
     "name": "stderr",
     "output_type": "stream",
     "text": [
      " 92%|█████████▏| 163/178 [10:51<01:47,  7.20s/it]"
     ]
    },
    {
     "name": "stdout",
     "output_type": "stream",
     "text": [
      "[0]\n",
      "Found file: data/Praesenzen_hv-info/Kabel Deutschland Holding AG-15783/ASM/HV-Beschluss zur ordentlichen Hauptversammlung am 09.10.14.pdf\n",
      "Du bist ein hilfreicher Assistent, der Berichte von Hauptversammlungen auswertet.\n",
      "Im folgenden erhältst du einen Bericht einer Hauptversammlung. Das Dokument enthält eine Tabelle mit einer Kopfzeile, aber die Kopfzeile ist beim Extrahieren des Texts beschädigt worden. Bitte gib mir die volle Bezeichnung jeder Spalte in der korrekten Reihenfolge, wie sie im Dokument auftaucht. Antworte ausschließlich mit einer Liste im Format [spalte_1, spalte_2, spalte_3]. Es kann auch eine Kopfzeile mit Multi-Index sein. Wenn du keine Kopfzeile finden kannst, antworte mit [0]. Bericht: \n",
      "column names: [Top, Anzahl Aktien, für die gültige Stimmen abgegeben wurden, Anteil des durch die gültigen Stimmen vertretenen Grundkapitals, NEIN-Stimmen, JA-Stimmen, Zustimmungsquote]\n",
      "user_prompt:  Im folgenden erhältst du einen Bericht einer Hauptversammlung. Das Dokument enthält eine Tabelle mit einer Kopfzeile, aber die Kopfzeile ist beim Extrahieren des Texts beschädigt worden. Die korrekte Kopfzeile habe ich angehängt. Antworte ausschließlich mit einer Liste im Format [zahl_1, zahl_2, zahl_3], die ausschließlich alle die genannten Prozentzahlen enthält, die sich auf den Prozentsatz des auf der Hauptversammlung vertretenen Grundkapitals beziehen. Durchsuche das ganze Dokument nach solchen Zahlen, auch außerhalb von Tabellen. Wenn du dir nicht absolut sicher bist, antworte mit [0]. Verwende Punkt statt Komma für die Zahlen. \n",
      " Korrekte Kopfzeile: \n"
     ]
    },
    {
     "name": "stderr",
     "output_type": "stream",
     "text": [
      " 92%|█████████▏| 164/178 [11:00<01:49,  7.85s/it]"
     ]
    },
    {
     "name": "stdout",
     "output_type": "stream",
     "text": [
      "[82.37, 82.31, 82.37, 94.25, 94.25, 95.85]\n",
      "highest_percentage:  95.85\n",
      "Found file: data/Praesenzen_hv-info/LEG Immobilien AG-15818/ASM/HV-Beschluss zur ordentlichen Hauptversammlung am 24.06.15.pdf\n",
      "Du bist ein hilfreicher Assistent, der Berichte von Hauptversammlungen auswertet.\n",
      "Im folgenden erhältst du einen Bericht einer Hauptversammlung. Das Dokument enthält eine Tabelle mit einer Kopfzeile, aber die Kopfzeile ist beim Extrahieren des Texts beschädigt worden. Bitte gib mir die volle Bezeichnung jeder Spalte in der korrekten Reihenfolge, wie sie im Dokument auftaucht. Antworte ausschließlich mit einer Liste im Format [spalte_1, spalte_2, spalte_3]. Es kann auch eine Kopfzeile mit Multi-Index sein. Wenn du keine Kopfzeile finden kannst, antworte mit [0]. Bericht: \n",
      "column names: [Tagesordnungspunkt, Beschlussvorschlag, Abgegebene gültige Ja- und Nein-Stimmen In Zahl, In % des gesamten Grundkapitals, Ja-Stimmen In Zahl, In %, Nein-Stimmen In Zahl, In %]\n",
      "user_prompt:  Im folgenden erhältst du einen Bericht einer Hauptversammlung. Das Dokument enthält eine Tabelle mit einer Kopfzeile, aber die Kopfzeile ist beim Extrahieren des Texts beschädigt worden. Die korrekte Kopfzeile habe ich angehängt. Antworte ausschließlich mit einer Liste im Format [zahl_1, zahl_2, zahl_3], die ausschließlich alle die genannten Prozentzahlen enthält, die sich auf den Prozentsatz des auf der Hauptversammlung vertretenen Grundkapitals beziehen. Durchsuche das ganze Dokument nach solchen Zahlen, auch außerhalb von Tabellen. Wenn du dir nicht absolut sicher bist, antworte mit [0]. Verwende Punkt statt Komma für die Zahlen. \n",
      " Korrekte Kopfzeile: \n"
     ]
    },
    {
     "name": "stderr",
     "output_type": "stream",
     "text": [
      " 93%|█████████▎| 165/178 [11:08<01:43,  7.92s/it]"
     ]
    },
    {
     "name": "stdout",
     "output_type": "stream",
     "text": [
      "[57.38, 57.31, 56.02, 57.38, 55.75, 55.89, 55.16, 54.95]\n",
      "highest_percentage:  57.38\n",
      "Found file: data/Praesenzen_hv-info/Evonik Industries AG-15819/ASM/HV-Beschluss zur ordentlichen Hauptversammlung am 20.05.14.pdf\n",
      "Du bist ein hilfreicher Assistent, der Berichte von Hauptversammlungen auswertet.\n",
      "Im folgenden erhältst du einen Bericht einer Hauptversammlung. Das Dokument enthält eine Tabelle mit einer Kopfzeile, aber die Kopfzeile ist beim Extrahieren des Texts beschädigt worden. Bitte gib mir die volle Bezeichnung jeder Spalte in der korrekten Reihenfolge, wie sie im Dokument auftaucht. Antworte ausschließlich mit einer Liste im Format [spalte_1, spalte_2, spalte_3]. Es kann auch eine Kopfzeile mit Multi-Index sein. Wenn du keine Kopfzeile finden kannst, antworte mit [0]. Bericht: \n",
      "column names: [Anteil des vertretenen Grundkapitals in %, Abgegebene gültige Stimmen, Anzahl Ja-Stimmen, % Ja-Stimmen, Anzahl Nein-Stimmen, % Nein-Stimmen, Vorschlag der Verwaltung]\n",
      "user_prompt:  Im folgenden erhältst du einen Bericht einer Hauptversammlung. Das Dokument enthält eine Tabelle mit einer Kopfzeile, aber die Kopfzeile ist beim Extrahieren des Texts beschädigt worden. Die korrekte Kopfzeile habe ich angehängt. Antworte ausschließlich mit einer Liste im Format [zahl_1, zahl_2, zahl_3], die ausschließlich alle die genannten Prozentzahlen enthält, die sich auf den Prozentsatz des auf der Hauptversammlung vertretenen Grundkapitals beziehen. Durchsuche das ganze Dokument nach solchen Zahlen, auch außerhalb von Tabellen. Wenn du dir nicht absolut sicher bist, antworte mit [0]. Verwende Punkt statt Komma für die Zahlen. \n",
      " Korrekte Kopfzeile: \n"
     ]
    },
    {
     "name": "stderr",
     "output_type": "stream",
     "text": [
      " 93%|█████████▎| 166/178 [11:20<01:50,  9.20s/it]"
     ]
    },
    {
     "name": "stdout",
     "output_type": "stream",
     "text": [
      "[93.95, 93.96, 93.63, 93.95, 93.96, 93.95, 93.96, 93.96]\n",
      "highest_percentage:  93.96\n",
      "Found file: data/Praesenzen_hv-info/Talanx AG-15820/ASM/HV-Beschluss zur ordentlichen Hauptversammlung am 07.05.15.pdf\n",
      "Du bist ein hilfreicher Assistent, der Berichte von Hauptversammlungen auswertet.\n",
      "Im folgenden erhältst du einen Bericht einer Hauptversammlung. Das Dokument enthält eine Tabelle mit einer Kopfzeile, aber die Kopfzeile ist beim Extrahieren des Texts beschädigt worden. Bitte gib mir die volle Bezeichnung jeder Spalte in der korrekten Reihenfolge, wie sie im Dokument auftaucht. Antworte ausschließlich mit einer Liste im Format [spalte_1, spalte_2, spalte_3]. Es kann auch eine Kopfzeile mit Multi-Index sein. Wenn du keine Kopfzeile finden kannst, antworte mit [0]. Bericht: \n",
      "column names: [0]\n",
      "Im folgenden erhältst du einen Bericht einer Hauptversammlung. Werden in dem Dokument wiederholt und ausdrücklich Angaben zum auf der Versammlung vertretenen Grundkapital in Prozent gemacht (Also bspw. 'Grundkapital: 30%'? Antworte nur mit [1] oder [0]. Bericht: \n"
     ]
    },
    {
     "name": "stderr",
     "output_type": "stream",
     "text": [
      " 94%|█████████▍| 167/178 [11:24<01:21,  7.45s/it]"
     ]
    },
    {
     "name": "stdout",
     "output_type": "stream",
     "text": [
      "1\n",
      "Found file: data/Praesenzen_hv-info/Osram Licht AG-15829/ASM/HV-Beschluss zur ordentlichen Hauptversammlung am 27.02.14.pdf\n",
      "Du bist ein hilfreicher Assistent, der Berichte von Hauptversammlungen auswertet.\n",
      "Im folgenden erhältst du einen Bericht einer Hauptversammlung. Das Dokument enthält eine Tabelle mit einer Kopfzeile, aber die Kopfzeile ist beim Extrahieren des Texts beschädigt worden. Bitte gib mir die volle Bezeichnung jeder Spalte in der korrekten Reihenfolge, wie sie im Dokument auftaucht. Antworte ausschließlich mit einer Liste im Format [spalte_1, spalte_2, spalte_3]. Es kann auch eine Kopfzeile mit Multi-Index sein. Wenn du keine Kopfzeile finden kannst, antworte mit [0]. Bericht: \n",
      "column names: [TOP, Abstimmungsergebnis, Gültige Stimmen in % vom Grundkapital, Abgegebene Stimmen, Ja Stimmen in % der gültig abgegebenen Stimmen, Nein Stimmen in % der gültig abgegebenen Stimmen, Ergebnis]\n",
      "user_prompt:  Im folgenden erhältst du einen Bericht einer Hauptversammlung. Das Dokument enthält eine Tabelle mit einer Kopfzeile, aber die Kopfzeile ist beim Extrahieren des Texts beschädigt worden. Die korrekte Kopfzeile habe ich angehängt. Antworte ausschließlich mit einer Liste im Format [zahl_1, zahl_2, zahl_3], die ausschließlich alle die genannten Prozentzahlen enthält, die sich auf den Prozentsatz des auf der Hauptversammlung vertretenen Grundkapitals beziehen. Durchsuche das ganze Dokument nach solchen Zahlen, auch außerhalb von Tabellen. Wenn du dir nicht absolut sicher bist, antworte mit [0]. Verwende Punkt statt Komma für die Zahlen. \n",
      " Korrekte Kopfzeile: \n"
     ]
    },
    {
     "name": "stderr",
     "output_type": "stream",
     "text": [
      " 94%|█████████▍| 168/178 [11:34<01:21,  8.20s/it]"
     ]
    },
    {
     "name": "stdout",
     "output_type": "stream",
     "text": [
      "[50.19, 50.12, 50.12, 49.14, 50.09, 49.79, 50.08, 50.07, 50.08, 50.06, 49.79, 50.04]\n",
      "highest_percentage:  50.19\n",
      "Found file: data/Praesenzen_hv-info/GSW Immobilien AG-15843/ASM/HV-Beschluss zur ordentlichen Hauptversammlung am 18.06.13.pdf\n",
      "Du bist ein hilfreicher Assistent, der Berichte von Hauptversammlungen auswertet.\n",
      "Im folgenden erhältst du einen Bericht einer Hauptversammlung. Das Dokument enthält eine Tabelle mit einer Kopfzeile, aber die Kopfzeile ist beim Extrahieren des Texts beschädigt worden. Bitte gib mir die volle Bezeichnung jeder Spalte in der korrekten Reihenfolge, wie sie im Dokument auftaucht. Antworte ausschließlich mit einer Liste im Format [spalte_1, spalte_2, spalte_3]. Es kann auch eine Kopfzeile mit Multi-Index sein. Wenn du keine Kopfzeile finden kannst, antworte mit [0]. Bericht: \n",
      "column names: [0]\n",
      "Im folgenden erhältst du einen Bericht einer Hauptversammlung. Werden in dem Dokument wiederholt und ausdrücklich Angaben zum auf der Versammlung vertretenen Grundkapital in Prozent gemacht (Also bspw. 'Grundkapital: 30%'? Antworte nur mit [1] oder [0]. Bericht: \n",
      "[1]\n",
      "Im folgenden erhältst du einen Bericht von einer Hauptversammlung. Antworte ausschließlich mit einer Liste im Format [zahl_1, zahl_2, zahl_3], die ausschließlich alle die genannten Prozentzahlen enthält, die sich auf den Prozentsatz des auf der Hauptversammlung vertretenen Grundkapitals beziehen. Wenn du dir nicht absolut sicher bist, antworte mit [0]. Verwende Punkt statt Komma für die Zahlen. Bericht: \n"
     ]
    },
    {
     "name": "stderr",
     "output_type": "stream",
     "text": [
      " 95%|█████████▍| 169/178 [11:36<00:58,  6.51s/it]"
     ]
    },
    {
     "name": "stdout",
     "output_type": "stream",
     "text": [
      "[43.11]\n",
      "highest_percentage:  43.11\n",
      "Found file: data/Praesenzen_hv-info/KION GROUP AG-15846/ASM/HV-Beschluss zur ordentlichen Hauptversammlung am 12.05.15.pdf\n",
      "Du bist ein hilfreicher Assistent, der Berichte von Hauptversammlungen auswertet.\n",
      "Im folgenden erhältst du einen Bericht einer Hauptversammlung. Das Dokument enthält eine Tabelle mit einer Kopfzeile, aber die Kopfzeile ist beim Extrahieren des Texts beschädigt worden. Bitte gib mir die volle Bezeichnung jeder Spalte in der korrekten Reihenfolge, wie sie im Dokument auftaucht. Antworte ausschließlich mit einer Liste im Format [spalte_1, spalte_2, spalte_3]. Es kann auch eine Kopfzeile mit Multi-Index sein. Wenn du keine Kopfzeile finden kannst, antworte mit [0]. Bericht: \n",
      "column names: [Anzahl der Aktien, für welche gültige Stimmen abgegeben wurden, Ja-Stimmen, Nein-Stimmen]\n",
      "user_prompt:  Im folgenden erhältst du einen Bericht einer Hauptversammlung. Das Dokument enthält eine Tabelle mit einer Kopfzeile, aber die Kopfzeile ist beim Extrahieren des Texts beschädigt worden. Die korrekte Kopfzeile habe ich angehängt. Antworte ausschließlich mit einer Liste im Format [zahl_1, zahl_2, zahl_3], die ausschließlich alle die genannten Prozentzahlen enthält, die sich auf den Prozentsatz des auf der Hauptversammlung vertretenen Grundkapitals beziehen. Durchsuche das ganze Dokument nach solchen Zahlen, auch außerhalb von Tabellen. Wenn du dir nicht absolut sicher bist, antworte mit [0]. Verwende Punkt statt Komma für die Zahlen. \n",
      " Korrekte Kopfzeile: \n"
     ]
    },
    {
     "name": "stderr",
     "output_type": "stream",
     "text": [
      " 96%|█████████▌| 170/178 [11:44<00:54,  6.78s/it]"
     ]
    },
    {
     "name": "stdout",
     "output_type": "stream",
     "text": [
      "[80.44, 80.08, 76.70, 80.44, 80.36, 80.28, 80.36]\n",
      "highest_percentage:  80.44\n",
      "Found file: data/Praesenzen_hv-info/PATRIZIA AG-15849/ASM/HV-Beschluss zur ordentlichen Hauptversammlung am 23.06.09.pdf\n",
      "Du bist ein hilfreicher Assistent, der Berichte von Hauptversammlungen auswertet.\n",
      "Im folgenden erhältst du einen Bericht einer Hauptversammlung. Das Dokument enthält eine Tabelle mit einer Kopfzeile, aber die Kopfzeile ist beim Extrahieren des Texts beschädigt worden. Bitte gib mir die volle Bezeichnung jeder Spalte in der korrekten Reihenfolge, wie sie im Dokument auftaucht. Antworte ausschließlich mit einer Liste im Format [spalte_1, spalte_2, spalte_3]. Es kann auch eine Kopfzeile mit Multi-Index sein. Wenn du keine Kopfzeile finden kannst, antworte mit [0]. Bericht: \n",
      "column names: [tagesordnungspunkt, präsenz_abzgl_stimmverbote, ja-stimmen_anzahl, ja-stimmen_in_prozent, nein-stimmen_anzahl, nein-stimmen_in_prozent]\n",
      "user_prompt:  Im folgenden erhältst du einen Bericht einer Hauptversammlung. Das Dokument enthält eine Tabelle mit einer Kopfzeile, aber die Kopfzeile ist beim Extrahieren des Texts beschädigt worden. Die korrekte Kopfzeile habe ich angehängt. Antworte ausschließlich mit einer Liste im Format [zahl_1, zahl_2, zahl_3], die ausschließlich alle die genannten Prozentzahlen enthält, die sich auf den Prozentsatz des auf der Hauptversammlung vertretenen Grundkapitals beziehen. Durchsuche das ganze Dokument nach solchen Zahlen, auch außerhalb von Tabellen. Wenn du dir nicht absolut sicher bist, antworte mit [0]. Verwende Punkt statt Komma für die Zahlen. \n",
      " Korrekte Kopfzeile: \n"
     ]
    },
    {
     "name": "stderr",
     "output_type": "stream",
     "text": [
      " 96%|█████████▌| 171/178 [11:55<00:55,  7.99s/it]"
     ]
    },
    {
     "name": "stdout",
     "output_type": "stream",
     "text": [
      "[64.14, 99.66, 97.87, 99.58, 99.51, 99.58, 99.72, 99.90, 99.22]\n",
      "highest_percentage:  99.9\n",
      "Du bist ein hilfreicher Assistent, der Berichte von Hauptversammlungen auswertet.\n",
      "Im folgenden erhältst du einen Bericht einer Hauptversammlung. Das Dokument enthält eine Tabelle mit einer Kopfzeile, aber die Kopfzeile ist beim Extrahieren des Texts beschädigt worden. Bitte gib mir die volle Bezeichnung jeder Spalte in der korrekten Reihenfolge, wie sie im Dokument auftaucht. Antworte ausschließlich mit einer Liste im Format [spalte_1, spalte_2, spalte_3]. Es kann auch eine Kopfzeile mit Multi-Index sein. Wenn du keine Kopfzeile finden kannst, antworte mit [0]. Bericht: \n",
      "column names: [TOP, Beschlussvorschlag, abgegebene Stimmen, gültige Stimmen, Anteil des vertretenen Grundkapitals, Ja-Stimmen absolut, Ja-Stimmen prozentual, Nein-Stimmen absolut, Nein-Stimmen prozentual, Enthaltungen]\n",
      "user_prompt:  Im folgenden erhältst du einen Bericht einer Hauptversammlung. Das Dokument enthält eine Tabelle mit einer Kopfzeile, aber die Kopfzeile ist beim Extrahieren des Texts beschädigt worden. Die korrekte Kopfzeile habe ich angehängt. Antworte ausschließlich mit einer Liste im Format [zahl_1, zahl_2, zahl_3], die ausschließlich alle die genannten Prozentzahlen enthält, die sich auf den Prozentsatz des auf der Hauptversammlung vertretenen Grundkapitals beziehen. Durchsuche das ganze Dokument nach solchen Zahlen, auch außerhalb von Tabellen. Wenn du dir nicht absolut sicher bist, antworte mit [0]. Verwende Punkt statt Komma für die Zahlen. \n",
      " Korrekte Kopfzeile: \n"
     ]
    },
    {
     "name": "stderr",
     "output_type": "stream",
     "text": [
      " 97%|█████████▋| 172/178 [12:04<00:50,  8.45s/it]"
     ]
    },
    {
     "name": "stdout",
     "output_type": "stream",
     "text": [
      "[78.2395, 78.209, 78.071, 78.2065, 78.197, 78.190, 75.459]\n",
      "highest_percentage:  78.24\n",
      "Found file: data/Praesenzen_hv-info/SKW Stahl-Metallurgie Holding AG-15858/ASM/HV-Beschluss zur ordentlichen Hauptversammlung am 09.06.10.pdf\n",
      "Du bist ein hilfreicher Assistent, der Berichte von Hauptversammlungen auswertet.\n",
      "Im folgenden erhältst du einen Bericht einer Hauptversammlung. Das Dokument enthält eine Tabelle mit einer Kopfzeile, aber die Kopfzeile ist beim Extrahieren des Texts beschädigt worden. Bitte gib mir die volle Bezeichnung jeder Spalte in der korrekten Reihenfolge, wie sie im Dokument auftaucht. Antworte ausschließlich mit einer Liste im Format [spalte_1, spalte_2, spalte_3]. Es kann auch eine Kopfzeile mit Multi-Index sein. Wenn du keine Kopfzeile finden kannst, antworte mit [0]. Bericht: \n",
      "column names: [0]\n",
      "Im folgenden erhältst du einen Bericht einer Hauptversammlung. Werden in dem Dokument wiederholt und ausdrücklich Angaben zum auf der Versammlung vertretenen Grundkapital in Prozent gemacht (Also bspw. 'Grundkapital: 30%'? Antworte nur mit [1] oder [0]. Bericht: \n"
     ]
    },
    {
     "name": "stderr",
     "output_type": "stream",
     "text": [
      " 97%|█████████▋| 173/178 [12:08<00:35,  7.11s/it]"
     ]
    },
    {
     "name": "stdout",
     "output_type": "stream",
     "text": [
      "1\n",
      "Found file: data/Praesenzen_hv-info/Symrise AG-15861/ASM/HV-Beschluss zur ordentlichen Hauptversammlung am 15.05.07.pdf\n",
      "Du bist ein hilfreicher Assistent, der Berichte von Hauptversammlungen auswertet.\n",
      "Im folgenden erhältst du einen Bericht einer Hauptversammlung. Das Dokument enthält eine Tabelle mit einer Kopfzeile, aber die Kopfzeile ist beim Extrahieren des Texts beschädigt worden. Bitte gib mir die volle Bezeichnung jeder Spalte in der korrekten Reihenfolge, wie sie im Dokument auftaucht. Antworte ausschließlich mit einer Liste im Format [spalte_1, spalte_2, spalte_3]. Es kann auch eine Kopfzeile mit Multi-Index sein. Wenn du keine Kopfzeile finden kannst, antworte mit [0]. Bericht: \n",
      "column names: [0]\n",
      "Im folgenden erhältst du einen Bericht einer Hauptversammlung. Werden in dem Dokument wiederholt und ausdrücklich Angaben zum auf der Versammlung vertretenen Grundkapital in Prozent gemacht (Also bspw. 'Grundkapital: 30%'? Antworte nur mit [1] oder [0]. Bericht: \n"
     ]
    },
    {
     "name": "stderr",
     "output_type": "stream",
     "text": [
      " 98%|█████████▊| 174/178 [12:10<00:22,  5.59s/it]"
     ]
    },
    {
     "name": "stdout",
     "output_type": "stream",
     "text": [
      "[0]\n",
      "Found file: data/Praesenzen_hv-info/Tele Columbus AG-15863/ASM/HV-Beschluss zur außerordentlichen Hauptversammlung am 14.09.15.pdf\n",
      "Du bist ein hilfreicher Assistent, der Berichte von Hauptversammlungen auswertet.\n",
      "Im folgenden erhältst du einen Bericht einer Hauptversammlung. Das Dokument enthält eine Tabelle mit einer Kopfzeile, aber die Kopfzeile ist beim Extrahieren des Texts beschädigt worden. Bitte gib mir die volle Bezeichnung jeder Spalte in der korrekten Reihenfolge, wie sie im Dokument auftaucht. Antworte ausschließlich mit einer Liste im Format [spalte_1, spalte_2, spalte_3]. Es kann auch eine Kopfzeile mit Multi-Index sein. Wenn du keine Kopfzeile finden kannst, antworte mit [0]. Bericht: \n",
      "column names: [anzahl_der_aktien, ja-stimmen, nein-stimmen]\n",
      "user_prompt:  Im folgenden erhältst du einen Bericht einer Hauptversammlung. Das Dokument enthält eine Tabelle mit einer Kopfzeile, aber die Kopfzeile ist beim Extrahieren des Texts beschädigt worden. Die korrekte Kopfzeile habe ich angehängt. Antworte ausschließlich mit einer Liste im Format [zahl_1, zahl_2, zahl_3], die ausschließlich alle die genannten Prozentzahlen enthält, die sich auf den Prozentsatz des auf der Hauptversammlung vertretenen Grundkapitals beziehen. Durchsuche das ganze Dokument nach solchen Zahlen, auch außerhalb von Tabellen. Wenn du dir nicht absolut sicher bist, antworte mit [0]. Verwende Punkt statt Komma für die Zahlen. \n",
      " Korrekte Kopfzeile: \n"
     ]
    },
    {
     "name": "stderr",
     "output_type": "stream",
     "text": [
      " 98%|█████████▊| 175/178 [12:13<00:14,  4.78s/it]"
     ]
    },
    {
     "name": "stdout",
     "output_type": "stream",
     "text": [
      "[70.70]\n",
      "highest_percentage:  70.7\n",
      "Found file: data/Praesenzen_hv-info/Wacker Neuson SE-15866/ASM/HV-Beschluss zur ordentlichen Hauptversammlung am 28.05.09.pdf\n",
      "Du bist ein hilfreicher Assistent, der Berichte von Hauptversammlungen auswertet.\n",
      "Im folgenden erhältst du einen Bericht einer Hauptversammlung. Das Dokument enthält eine Tabelle mit einer Kopfzeile, aber die Kopfzeile ist beim Extrahieren des Texts beschädigt worden. Bitte gib mir die volle Bezeichnung jeder Spalte in der korrekten Reihenfolge, wie sie im Dokument auftaucht. Antworte ausschließlich mit einer Liste im Format [spalte_1, spalte_2, spalte_3]. Es kann auch eine Kopfzeile mit Multi-Index sein. Wenn du keine Kopfzeile finden kannst, antworte mit [0]. Bericht: \n",
      "column names: [0]\n",
      "Im folgenden erhältst du einen Bericht einer Hauptversammlung. Werden in dem Dokument wiederholt und ausdrücklich Angaben zum auf der Versammlung vertretenen Grundkapital in Prozent gemacht (Also bspw. 'Grundkapital: 30%'? Antworte nur mit [1] oder [0]. Bericht: \n"
     ]
    },
    {
     "name": "stderr",
     "output_type": "stream",
     "text": [
      " 99%|█████████▉| 176/178 [12:14<00:07,  3.77s/it]"
     ]
    },
    {
     "name": "stdout",
     "output_type": "stream",
     "text": [
      "[0]\n",
      "Found file: data/Praesenzen_hv-info/Wacker Chemie AG-15868/ASM/HV-Beschluss zur ordentlichen Hauptversammlung am 16.05.12.pdf\n",
      "Du bist ein hilfreicher Assistent, der Berichte von Hauptversammlungen auswertet.\n",
      "Im folgenden erhältst du einen Bericht einer Hauptversammlung. Das Dokument enthält eine Tabelle mit einer Kopfzeile, aber die Kopfzeile ist beim Extrahieren des Texts beschädigt worden. Bitte gib mir die volle Bezeichnung jeder Spalte in der korrekten Reihenfolge, wie sie im Dokument auftaucht. Antworte ausschließlich mit einer Liste im Format [spalte_1, spalte_2, spalte_3]. Es kann auch eine Kopfzeile mit Multi-Index sein. Wenn du keine Kopfzeile finden kannst, antworte mit [0]. Bericht: \n",
      "column names: [0]\n",
      "Im folgenden erhältst du einen Bericht einer Hauptversammlung. Werden in dem Dokument wiederholt und ausdrücklich Angaben zum auf der Versammlung vertretenen Grundkapital in Prozent gemacht (Also bspw. 'Grundkapital: 30%'? Antworte nur mit [1] oder [0]. Bericht: \n",
      "[1]\n",
      "Im folgenden erhältst du einen Bericht von einer Hauptversammlung. Antworte ausschließlich mit einer Liste im Format [zahl_1, zahl_2, zahl_3], die ausschließlich alle die genannten Prozentzahlen enthält, die sich auf den Prozentsatz des auf der Hauptversammlung vertretenen Grundkapitals beziehen. Wenn du dir nicht absolut sicher bist, antworte mit [0]. Verwende Punkt statt Komma für die Zahlen. Bericht: \n"
     ]
    },
    {
     "name": "stderr",
     "output_type": "stream",
     "text": [
      " 99%|█████████▉| 177/178 [12:18<00:03,  3.81s/it]"
     ]
    },
    {
     "name": "stdout",
     "output_type": "stream",
     "text": [
      "[73.08, 71.44, 71.38, 71.52]\n",
      "highest_percentage:  73.08\n",
      "Du bist ein hilfreicher Assistent, der Berichte von Hauptversammlungen auswertet.\n",
      "Im folgenden erhältst du einen Bericht einer Hauptversammlung. Das Dokument enthält eine Tabelle mit einer Kopfzeile, aber die Kopfzeile ist beim Extrahieren des Texts beschädigt worden. Bitte gib mir die volle Bezeichnung jeder Spalte in der korrekten Reihenfolge, wie sie im Dokument auftaucht. Antworte ausschließlich mit einer Liste im Format [spalte_1, spalte_2, spalte_3]. Es kann auch eine Kopfzeile mit Multi-Index sein. Wenn du keine Kopfzeile finden kannst, antworte mit [0]. Bericht: \n",
      "column names: [tagesordnungspunkt, anzahl_der_gueltig_abgegebenen_stimmen, anteil_des_hierdurch_vertretenen_grundkapitals, ja_stimmen, ja_prozent, nein_stimmen, nein_prozent]\n",
      "user_prompt:  Im folgenden erhältst du einen Bericht einer Hauptversammlung. Das Dokument enthält eine Tabelle mit einer Kopfzeile, aber die Kopfzeile ist beim Extrahieren des Texts beschädigt worden. Die korrekte Kopfzeile habe ich angehängt. Antworte ausschließlich mit einer Liste im Format [zahl_1, zahl_2, zahl_3], die ausschließlich alle die genannten Prozentzahlen enthält, die sich auf den Prozentsatz des auf der Hauptversammlung vertretenen Grundkapitals beziehen. Durchsuche das ganze Dokument nach solchen Zahlen, auch außerhalb von Tabellen. Wenn du dir nicht absolut sicher bist, antworte mit [0]. Verwende Punkt statt Komma für die Zahlen. \n",
      " Korrekte Kopfzeile: \n"
     ]
    },
    {
     "name": "stderr",
     "output_type": "stream",
     "text": [
      "100%|██████████| 178/178 [12:29<00:00,  4.21s/it]"
     ]
    },
    {
     "name": "stdout",
     "output_type": "stream",
     "text": [
      "[86.79, 80.27, 74.4, 86.77, 86.77, 86.78, 86.7, 86.78, 86.77, 86.78, 86.7, 82.83, 86.3]\n",
      "highest_percentage:  86.79\n",
      "system_prompt:  Du bist ein hilfreicher Assistent, der Berichte von Hauptversammlungen auswertet.\n",
      "user_prompt:  Im folgenden erhältst du einen Bericht einer Hauptversammlung. Das Dokument enthält eine Tabelle mit einer Kopfzeile, aber die Kopfzeile ist beim Extrahieren des Texts beschädigt worden. Die korrekte Kopfzeile habe ich angehängt. Antworte ausschließlich mit einer Liste im Format [zahl_1, zahl_2, zahl_3], die ausschließlich alle die genannten Prozentzahlen enthält, die sich auf den Prozentsatz des auf der Hauptversammlung vertretenen Grundkapitals beziehen. Durchsuche das ganze Dokument nach solchen Zahlen, auch außerhalb von Tabellen. Wenn du dir nicht absolut sicher bist, antworte mit [0]. Verwende Punkt statt Komma für die Zahlen. \n",
      " Korrekte Kopfzeile: \n"
     ]
    },
    {
     "name": "stderr",
     "output_type": "stream",
     "text": [
      "\n"
     ]
    }
   ],
   "source": [
    "import pdfplumber\n",
    "from tqdm import tqdm\n",
    "import ast\n",
    "import re\n",
    "from collections import Counter\n",
    "\n",
    "directory = \"data/Praesenzen_hv-info\"\n",
    "df = pd.read_csv('data/231219_test_set.csv')\n",
    "\n",
    "# Initialize Weights & Biases\n",
    "wandb.init(project=\"hv-praesenzen\")\n",
    "\n",
    "# Define W&B Table to store results\n",
    "columns = [\"ID_Key_original\", \"Year_original\", \"Presence_enhanced\", \"Presence_predicted\", \"correct\", \"error\", \"price\", \"file_path\", \"standard_deviation\", \"mean\", \"comment\"]\n",
    "table = wandb.Table(columns=columns)\n",
    "\n",
    "for index, (df_index, row) in enumerate(tqdm(df.iterrows(), total=df.shape[0])):\n",
    "\n",
    "    if index < 82:\n",
    "        continue\n",
    "\n",
    "    error = False\n",
    "    error_during_page_assessment = False\n",
    "    alternative_document_structure = False\n",
    "\n",
    "    # total cost pf processing the document\n",
    "    cost_total = 0\n",
    "\n",
    "    # standard deviation of the highest percentage of each document to the other values for the same document\n",
    "    std_dev = 0\n",
    "\n",
    "    # mean of the highest percentage of each document to the other values for the same document\n",
    "    mean = 0\n",
    "\n",
    "    # add a comment collection variable for the case some pages dont output a number\n",
    "    comment_collection = \"\"\n",
    "\n",
    "    prediction_correct = False\n",
    "\n",
    "    id_value = str(int(row['ID_Key_original']))\n",
    "    year_value = str(int(row['Year_original']))\n",
    "\n",
    "    # Initialize variable to store the found directory path\n",
    "    found_directory_path = None\n",
    "\n",
    "    # Find subdirectory\n",
    "    for subdirectory in os.listdir(directory):\n",
    "        subdirectory_path = os.path.join(directory, subdirectory)\n",
    "        if os.path.isdir(subdirectory_path) and subdirectory.endswith(id_value):\n",
    "            found_directory_path = subdirectory_path\n",
    "            break\n",
    "\n",
    "    # add \"ASM\" subdirectory to the path\n",
    "    if found_directory_path:\n",
    "        found_directory_path = os.path.join(found_directory_path, \"ASM\")\n",
    "\n",
    "    # If a matching subdirectory is found, search for the correct file\n",
    "    if found_directory_path:\n",
    "        for file in os.listdir(found_directory_path):\n",
    "            file_path = os.path.join(found_directory_path, file)\n",
    "            if os.path.isfile(file_path) and file.endswith(year_value[-2:] + \".pdf\"):\n",
    "                # Found the file, you can add your code here to handle the file\n",
    "                print(f\"Found file: {file_path}\")\n",
    "                break\n",
    "    else:\n",
    "        # Handle the case where no matching subdirectory is found\n",
    "        print(f\"No subdirectory found for ID {id_value}\")\n",
    "\n",
    "    with pdfplumber.open(file_path) as pdf:\n",
    "        \n",
    "        # List to store all texts\n",
    "        full_text = \"\"\n",
    " \n",
    "        # Iterate through each page\n",
    "        for page_number, page in enumerate(pdf.pages, start=1):\n",
    "            # Extract text from the page\n",
    "            page_text = page.extract_text()\n",
    "            if page_text == \"\":\n",
    "                df.at[index, 'error'] = \"document could not be read\"\n",
    "                error = True\n",
    "                break\n",
    "            # Store the text\n",
    "            # all_texts.append((page_number, page_text))\n",
    "            full_text += page_text\n",
    "\n",
    "        if error:\n",
    "            table.add_data(id_value, year_value, row['Presence_enhanced'], 0, None, error, cost_total, file_path, std_dev, mean, comment_collection)\n",
    "            \n",
    "            comment_collection = \"Dokument konnte nicht gelesen werden\"\n",
    "            error = False\n",
    "            print(\"There was an error. Not evaluating this document.\")\n",
    "            continue\n",
    "\n",
    "    highest_percentage_list = []\n",
    "\n",
    "    system_prompt = \"Du bist ein hilfreicher Assistent, der Berichte von Hauptversammlungen auswertet.\"\n",
    "    print(system_prompt)\n",
    "    user_prompt = \"Im folgenden erhältst du einen Bericht einer Hauptversammlung. Das Dokument enthält eine Tabelle mit einer Kopfzeile, aber die Kopfzeile ist beim Extrahieren des Texts beschädigt worden. Bitte gib mir die volle Bezeichnung jeder Spalte in der korrekten Reihenfolge, wie sie im Dokument auftaucht. Antworte ausschließlich mit einer Liste im Format [spalte_1, spalte_2, spalte_3]. Es kann auch eine Kopfzeile mit Multi-Index sein. Wenn du keine Kopfzeile finden kannst, antworte mit [0]. Bericht: \"\n",
    "    print(user_prompt)\n",
    "    combined_prompt = user_prompt + full_text\n",
    "\n",
    "    header_row_list = []\n",
    "\n",
    "    # make the GPT call 5 times\n",
    "    for i in range(1):\n",
    "\n",
    "        # Call the GPT-4 chat_completion model\n",
    "        response = client.chat.completions.create(model=\"gpt-4-1106-preview\",  # Specify the model, e.g., \"gpt-4\"\n",
    "        messages=[\n",
    "            {\"role\": \"system\", \"content\": system_prompt},\n",
    "            {\"role\": \"user\", \"content\": combined_prompt}\n",
    "        ],\n",
    "        temperature=0.2)\n",
    "\n",
    "        # calculate cost\n",
    "        input_tokens = response.usage.prompt_tokens\n",
    "        output_tokens = response.usage.completion_tokens\n",
    "        cost_header_detection = calculate_cost(input_tokens, output_tokens)\n",
    "\n",
    "        # header_row_list.append(response.choices[0].message.content)\n",
    "\n",
    "        # cost_total += cost_header_detection\n",
    "\n",
    "    most_common_header = response.choices[0].message.content\n",
    "\n",
    "    # header_counts = Counter(header_row_list)\n",
    "\n",
    "    # most_common_count = header_counts.most_common(1)[0][1]  # Get the count of the most common string\n",
    "\n",
    "    # # Find all strings that have this highest count\n",
    "    # most_common_headers = [header for header, count in header_counts.items() if count == most_common_count]\n",
    "\n",
    "    # # # Handle the situation based on the number of most common strings\n",
    "    # if len(most_common_headers) == 1:\n",
    "    #     # Only one most common string\n",
    "    #     most_common_header = most_common_headers[0]\n",
    "    #     print(\"Most common header:\", most_common_header)\n",
    "    # elif len(most_common_headers) > 1:\n",
    "    #     # Multiple strings with the same highest frequency\n",
    "    #     # Handle this situation as you see fit\n",
    "    #     print(\"Multiple headers are equally common:\", most_common_headers)\n",
    "    #     error = True\n",
    "    #     comment_collection += \"Mehrere Kopfzeilen sind gleich häufig\"\n",
    "    #     table.add_data(id_value, year_value, row['Presence_enhanced'], 0, None, error, cost_total, file_path, std_dev, mean, comment_collection)\n",
    "    #     continue\n",
    "    #     # For example, you can choose to use the first one, or handle it as an error, etc.\n",
    "    #     # most_common_header = most_common_headers[0]  # Example: Use the first one\n",
    "    # else:\n",
    "    #     # No headers found (if your list could be empty)\n",
    "    #     error = True\n",
    "    #     comment_collection += \"Etwas ist grundsätzlich beim Finden der Kopfzeile schief gelaufen\"\n",
    "    #     table.add_data(id_value, year_value, row['Presence_enhanced'], 0, None, error, cost_total, file_path, std_dev, mean, comment_collection)\n",
    "    #     print(\"No headers found\")\n",
    "    #     continue\n",
    "\n",
    "    # Regular expression pattern to check if string starts with '[' and ends with ']'\n",
    "    pattern = r'^\\[.*\\]$'\n",
    "\n",
    "    # Check if the response string matches the pattern\n",
    "    if re.match(pattern, most_common_header):\n",
    "        # Process the string if it matches\n",
    "        column_names = most_common_header # Adjust as needed\n",
    "        print(\"column names: \" + column_names)\n",
    "\n",
    "        # check if response is 0. In that case, we check if the file might not be structured like a table, but more like a list (alternative document structure)\n",
    "        if column_names == \"[0]\":\n",
    "\n",
    "            user_prompt = \"Im folgenden erhältst du einen Bericht einer Hauptversammlung. Werden in dem Dokument wiederholt und ausdrücklich Angaben zum auf der Versammlung vertretenen Grundkapital in Prozent gemacht (Also bspw. 'Grundkapital: 30%'? Antworte nur mit [1] oder [0]. Bericht: \"\n",
    "            print(user_prompt)\n",
    "            combined_prompt = user_prompt + full_text\n",
    "\n",
    "            # Call the GPT-4 chat_completion model\n",
    "            response = client.chat.completions.create(model=\"gpt-4-1106-preview\",  # Specify the model, e.g., \"gpt-4\"\n",
    "            messages=[\n",
    "                {\"role\": \"system\", \"content\": system_prompt},\n",
    "                {\"role\": \"user\", \"content\": combined_prompt}\n",
    "            ],\n",
    "            temperature=0.2)\n",
    "\n",
    "            print(response.choices[0].message.content)\n",
    "\n",
    "            # calculate cost\n",
    "            input_tokens = response.usage.prompt_tokens\n",
    "            output_tokens = response.usage.completion_tokens\n",
    "            cost_alternative_doc_structure_detection = calculate_cost(input_tokens, output_tokens)\n",
    "\n",
    "            cost_total += cost_alternative_doc_structure_detection\n",
    "\n",
    "            # check response\n",
    "            if response.choices[0].message.content == \"[1]\":\n",
    "\n",
    "                alternative_document_structure = True\n",
    "\n",
    "                # find the highest grundkapital percentage in the document\n",
    "                user_prompt = \"Im folgenden erhältst du einen Bericht von einer Hauptversammlung. Antworte ausschließlich mit einer Liste im Format [zahl_1, zahl_2, zahl_3], die ausschließlich alle die genannten Prozentzahlen enthält, die sich auf den Prozentsatz des auf der Hauptversammlung vertretenen Grundkapitals beziehen. Wenn du dir nicht absolut sicher bist, antworte mit [0]. Verwende Punkt statt Komma für die Zahlen. Bericht: \"\n",
    "                print(user_prompt)\n",
    "                combined_prompt = user_prompt + full_text\n",
    "\n",
    "                # Call the GPT-4 chat_completion model\n",
    "                response = client.chat.completions.create(model=\"gpt-4-1106-preview\",  # Specify the model, e.g., \"gpt-4\"\n",
    "                messages=[\n",
    "                    {\"role\": \"system\", \"content\": system_prompt},\n",
    "                    {\"role\": \"user\", \"content\": combined_prompt}\n",
    "                ],\n",
    "                temperature=0.2)\n",
    "\n",
    "                print(response.choices[0].message.content)\n",
    "\n",
    "                # calculate cost\n",
    "                input_tokens = response.usage.prompt_tokens\n",
    "                output_tokens = response.usage.completion_tokens\n",
    "                cost_alternative_doc_structure_extraction = calculate_cost(input_tokens, output_tokens)\n",
    "\n",
    "                cost_total += cost_alternative_doc_structure_extraction\n",
    "\n",
    "            elif response.choices[0].message.content == \"[0]\":\n",
    "                comment_collection += \"Keine Kopfzeile gefunden\"\n",
    "                error = True\n",
    "                table.add_data(id_value, year_value, row['Presence_enhanced'], 0, None, error, cost_total, file_path, std_dev, mean, comment_collection)\n",
    "                error_during_page_assessment = True\n",
    "                continue\n",
    "\n",
    "            else:\n",
    "                comment_collection += response.choices[0].message.content + \"\\n\"\n",
    "                error = True\n",
    "                table.add_data(id_value, year_value, row['Presence_enhanced'], 0, None, error, cost_total, file_path, std_dev, mean, comment_collection)\n",
    "                error_during_page_assessment = True\n",
    "                continue\n",
    "\n",
    "    else:\n",
    "        # Handle the case where the string doesn't match\n",
    "        print(\"String does not start with '[' and end with ']'\")\n",
    "        comment_collection += response.choices[0].message.content + \"\\n\"\n",
    "        error = True\n",
    "        table.add_data(id_value, year_value, row['Presence_enhanced'], 0, None, error, cost_total, file_path, std_dev, mean, comment_collection)\n",
    "        error_during_page_assessment = True\n",
    "        break\n",
    "\n",
    "    if alternative_document_structure == False:\n",
    "        user_prompt = \"Im folgenden erhältst du einen Bericht einer Hauptversammlung. Das Dokument enthält eine Tabelle mit einer Kopfzeile, aber die Kopfzeile ist beim Extrahieren des Texts beschädigt worden. Die korrekte Kopfzeile habe ich angehängt. Antworte ausschließlich mit einer Liste im Format [zahl_1, zahl_2, zahl_3], die ausschließlich alle die genannten Prozentzahlen enthält, die sich auf den Prozentsatz des auf der Hauptversammlung vertretenen Grundkapitals beziehen. Durchsuche das ganze Dokument nach solchen Zahlen, auch außerhalb von Tabellen. Wenn du dir nicht absolut sicher bist, antworte mit [0]. Verwende Punkt statt Komma für die Zahlen. \\n Korrekte Kopfzeile: \"\n",
    "        print(\"user_prompt: \", user_prompt)\n",
    "        combined_prompt = user_prompt + column_names + \"\\n Bericht der Hauptversammlung: \" + full_text\n",
    "\n",
    "        # Call the GPT-4 chat_completion model\n",
    "        response = client.chat.completions.create(model=\"gpt-4-1106-preview\",  # Specify the model, e.g., \"gpt-4\"\n",
    "        messages=[\n",
    "            {\"role\": \"system\", \"content\": system_prompt},\n",
    "            {\"role\": \"user\", \"content\": combined_prompt}\n",
    "        ],\n",
    "        temperature=0.2)\n",
    "\n",
    "        # calculate cost\n",
    "        input_tokens = response.usage.prompt_tokens\n",
    "        output_tokens = response.usage.completion_tokens\n",
    "        cost_info_extraction = calculate_cost(input_tokens, output_tokens)\n",
    "\n",
    "        cost_total += cost_info_extraction\n",
    "\n",
    "        # Print the response\n",
    "        print(response.choices[0].message.content)\n",
    "\n",
    "    # get highest value within page\n",
    "    try:\n",
    "        percentage_list = ast.literal_eval(response.choices[0].message.content)\n",
    "        highest_percentage_of_page = max(percentage_list)\n",
    "    except SyntaxError:\n",
    "        highest_percentage_of_page = 0\n",
    "        comment_collection += response.choices[0].message.content + \"\\n\"\n",
    "        error = True\n",
    "\n",
    "    # get highest value of all pages\n",
    "    try:\n",
    "        # highest_percentage_list.append(percentage_intro)\n",
    "        highest_percentage_list.append(highest_percentage_of_page)\n",
    "        highest_percentage = max(highest_percentage_list)\n",
    "        # round highest percentage to 2 decimal places\n",
    "        highest_percentage = round(highest_percentage, 2)\n",
    "    except ValueError:\n",
    "        highest_percentage = 0\n",
    "        comment_collection += response.choices[0].message.content + \"\\n\"\n",
    "        error = True\n",
    "\n",
    "\n",
    "    if error == False:\n",
    "        # Convert the percentages to a numpy array for statistical calculations\n",
    "        percentages = np.array(highest_percentage_list)\n",
    "\n",
    "        # Calculate mean and standard deviation\n",
    "        mean = np.mean(percentages)\n",
    "        std_dev = np.std(percentages)\n",
    "\n",
    "        # check if highest_percentage is more than 15 away from the second highest percentage\n",
    "        if len(highest_percentage_list) > 1:\n",
    "            second_highest_percentage = sorted(highest_percentage_list, reverse=True)[1]\n",
    "            if highest_percentage - second_highest_percentage > 10:\n",
    "                comment_collection += \"Der ermittelte Wert weicht um mehr als 10 Prozentpunkte vom zweithöchsten Wert ab.\"\n",
    "                error = True\n",
    "\n",
    "        if error:\n",
    "            table.add_data(id_value, year_value, row['Presence_enhanced'], highest_percentage, None, error, cost_total, file_path, std_dev, mean, comment_collection)\n",
    "            continue\n",
    "\n",
    "    print(\"highest_percentage: \", highest_percentage)\n",
    "\n",
    "    # calculate cost\n",
    "    input_tokens = response.usage.prompt_tokens\n",
    "    output_tokens = response.usage.completion_tokens\n",
    "    cost_page_analysis = calculate_cost(input_tokens, output_tokens)\n",
    "\n",
    "    cost_total += cost_page_analysis\n",
    "\n",
    "    if error_during_page_assessment:\n",
    "        continue\n",
    "\n",
    "    df.at[index, 'Presence_predicted'] = highest_percentage\n",
    "\n",
    "    if row['Presence_enhanced'] == highest_percentage:\n",
    "        prediction_correct = True\n",
    "    else:\n",
    "        # Check for another row with the same ID_Key_original and Year_original\n",
    "        same_id_year_rows = df[(df['ID_Key_original'] == row['ID_Key_original']) & \n",
    "                            (df['Year_original'] == row['Year_original'])]\n",
    "\n",
    "        # Check if any of those rows have Presence_enhanced equal to highest_percentage\n",
    "        if any(same_id_year_rows['Presence_enhanced'] == highest_percentage):\n",
    "            prediction_correct = True\n",
    "            comment_collection += \"Der ermittelte Wert stammt aus dem anderen Bericht diesen Jahres und ist dort korrekt ermittelt.\"\n",
    "        else:\n",
    "            prediction_correct = False\n",
    "\n",
    "    table.add_data(id_value, year_value, row['Presence_enhanced'], highest_percentage, prediction_correct, error, cost_total, file_path, std_dev, mean, comment_collection)\n",
    "\n",
    "print(\"system_prompt: \", system_prompt)\n",
    "print(\"user_prompt: \", user_prompt)\n"
   ]
  },
  {
   "cell_type": "code",
   "execution_count": 9,
   "metadata": {},
   "outputs": [],
   "source": [
    "# Log the table to Weights & Biases\n",
    "wandb.log({\"extraction_results\": table})"
   ]
  },
  {
   "cell_type": "code",
   "execution_count": 10,
   "metadata": {},
   "outputs": [
    {
     "name": "stdout",
     "output_type": "stream",
     "text": [
      "[Tagesordnungspunkt, JA-Stimmen, JA-Stimmen in %, NEIN-Stimmen, NEIN-Stimmen in %, abgegebene Stimmen, In % des Grundkapitals, Beschlussvorschlag]\n"
     ]
    }
   ],
   "source": [
    "print(column_names)"
   ]
  },
  {
   "cell_type": "code",
   "execution_count": 28,
   "metadata": {},
   "outputs": [
    {
     "name": "stdout",
     "output_type": "stream",
     "text": [
      "[tagesordnungspunkt, gültig abgegebene stimmen, in % des grundkapitals, ja-stimmen, in %, nein-stimmen, in %, beschlussvorschlag]\n",
      "[tagesordnungspunkt, antrag, gültig abgegebene stimmen, in % des grundkapitals, ja-stimmen, in %, nein-stimmen, in %, beschlussvorschlag]\n",
      "[tagesordnungspunkt, antrag, ja-stimmen, ja-stimmen in %, nein-stimmen, nein-stimmen in %, abgegebene stimmen, grundkapitals in %, beschlussvorschlag]\n",
      "[tagesordnungspunkt, gültig abgegebene stimmen, in % des grundkapitals, ja-stimmen, in %, nein-stimmen, in %, beschlussvorschlag]\n",
      "[tagesordnungspunkt, gültig abgegebene stimmen, in % des grundkapitals, ja-stimmen, in %, nein-stimmen, in %, beschlussvorschlag]\n",
      "[tagesordnungspunkt, gültig abgegebene stimmen, in % des grundkapitals, ja-stimmen, in %, nein-stimmen, in %, beschlussvorschlag]\n",
      "[tagesordnungspunkt, antrag, gültig abgegebene stimmen, ja-stimmen in %, nein-stimmen in %, ja-stimmen, nein-stimmen, beschlussvorschlag]\n",
      "[tagesordnungspunkt, gültig abgegebene stimmen, in % des grundkapitals, ja-stimmen, in %, nein-stimmen, in %, beschlussvorschlag]\n",
      "[tagesordnungspunkt, antrag, ja-stimmen, ja-stimmen in %, nein-stimmen, nein-stimmen in %, gültig abgegebene stimmen, in % des grundkapitals, beschlussvorschlag]\n",
      "[Tagesordnungspunkt, JA-Stimmen, JA-Stimmen in %, NEIN-Stimmen, NEIN-Stimmen in %, abgegebene Stimmen, In % des Grundkapitals, Beschlussvorschlag]\n",
      "[tagesordnungspunkt, gültig abgegebene stimmen, in % des grundkapitals, ja-stimmen, in %, nein-stimmen, in %, beschlussvorschlag]\n"
     ]
    }
   ],
   "source": [
    "# make a gpt4 call to get the highest percentage of the document\n",
    "from collections import Counter\n",
    "\n",
    "header_row_list = []\n",
    "\n",
    "system_prompt = \"Du bist ein hilfreicher Assistent, der Berichte von Hauptversammlungen auswertet.\"\n",
    "user_prompt = \"Im folgenden erhältst du einen Bericht einer Hauptversammlung. Das Dokument enthält eine Tabelle mit einer Kopfzeile, aber die Kopfzeile ist beim Extrahieren des Texts beschädigt worden. Bitte gib mir die volle Bezeichnung jeder Spalte in der korrekten Reihenfolge, wie sie im Dokument auftaucht. Antworte ausschließlich mit einer Liste im Format [spalte_1, spalte_2, spalte_3]. Wenn du keine Kopfzeile finden kannst, antworte mit [0]. Bericht: \" + full_text\n",
    "counter = 0\n",
    "\n",
    "while counter < 10:\n",
    "    # Call the GPT-4 chat_completion model\n",
    "    response = client.chat.completions.create(model=\"gpt-4-1106-preview\",  # Specify the model, e.g., \"gpt-4\"\n",
    "    messages=[\n",
    "        {\"role\": \"system\", \"content\": system_prompt},\n",
    "        {\"role\": \"user\", \"content\": user_prompt}\n",
    "    ],\n",
    "    temperature=0.2)\n",
    "\n",
    "    # Print the response\n",
    "    print(response.choices[0].message.content)\n",
    "\n",
    "    counter += 1\n",
    "\n",
    "    header_row_list.append(response.choices[0].message.content)"
   ]
  },
  {
   "cell_type": "code",
   "execution_count": 10,
   "metadata": {},
   "outputs": [
    {
     "name": "stdout",
     "output_type": "stream",
     "text": [
      "[gültig_abgegebene_stimmen_anzahl, gültig_abgegebene_stimmen_%_vom_grundkapital, ja-stimmen_anzahl, ja-stimmen_%, nein-stimmen_anzahl, nein-stimmen_%, enthaltungen_anzahl]: 8\n"
     ]
    }
   ],
   "source": [
    "# print the results of header_counts.most_common() in a neat way\n",
    "for header, count in header_counts.most_common():\n",
    "    print(f\"{header}: {count}\")"
   ]
  },
  {
   "cell_type": "code",
   "execution_count": 10,
   "metadata": {},
   "outputs": [
    {
     "name": "stdout",
     "output_type": "stream",
     "text": [
      "[gültig_abgegebene_stimmen, ja-stimmen_anzahl, ja-stimmen_%_vom_grundkapital, nein-stimmen_anzahl, nein-stimmen_%, enthaltungen_anzahl]: 7\n",
      "[gültig_abgegebene_stimmen, prozent_vom_grundkapital, ja-stimmen_anzahl, ja-stimmen_prozent, nein-stimmen_anzahl, nein-stimmen_prozent, enthaltungen_anzahl]: 1\n"
     ]
    }
   ],
   "source": [
    "# print the results of header_counts.most_common() in a neat way\n",
    "for header, count in header_counts.most_common():\n",
    "    print(f\"{header}: {count}\")"
   ]
  },
  {
   "cell_type": "code",
   "execution_count": 33,
   "metadata": {},
   "outputs": [
    {
     "name": "stdout",
     "output_type": "stream",
     "text": [
      "this\n"
     ]
    }
   ],
   "source": [
    "most_common_count = header_counts.most_common(1)[0][1]  # Get the count of the most common string\n",
    "\n",
    "# Find all strings that have this highest count\n",
    "most_common_headers = [header for header, count in header_counts.items() if count == most_common_count]\n",
    "\n",
    "# # Handle the situation based on the number of most common strings\n",
    "if len(most_common_headers) == 1:\n",
    "    # Only one most common string\n",
    "    most_common_header = most_common_headers[0]\n",
    "    print(\"this\")\n",
    "elif len(most_common_headers) > 1:\n",
    "    # Multiple strings with the same highest frequency\n",
    "    # Handle this situation as you see fit\n",
    "    print(\"Multiple headers are equally common:\", most_common_headers)\n",
    "    # For example, you can choose to use the first one, or handle it as an error, etc.\n",
    "    # most_common_header = most_common_headers[0]  # Example: Use the first one\n",
    "else:\n",
    "    # No headers found (if your list could be empty)\n",
    "    print(\"No headers found\")\n",
    "    most_common_header = None"
   ]
  },
  {
   "cell_type": "markdown",
   "metadata": {},
   "source": [
    "1x 9/10\n",
    "1x 5/10"
   ]
  },
  {
   "cell_type": "code",
   "execution_count": 20,
   "metadata": {},
   "outputs": [
    {
     "data": {
      "text/html": [
       "<div>\n",
       "<style scoped>\n",
       "    .dataframe tbody tr th:only-of-type {\n",
       "        vertical-align: middle;\n",
       "    }\n",
       "\n",
       "    .dataframe tbody tr th {\n",
       "        vertical-align: top;\n",
       "    }\n",
       "\n",
       "    .dataframe thead th {\n",
       "        text-align: right;\n",
       "    }\n",
       "</style>\n",
       "<table border=\"1\" class=\"dataframe\">\n",
       "  <thead>\n",
       "    <tr style=\"text-align: right;\">\n",
       "      <th></th>\n",
       "      <th>ID_Key_original</th>\n",
       "      <th>ID_original</th>\n",
       "      <th>Company_original</th>\n",
       "      <th>Year_original</th>\n",
       "      <th>Presence_original</th>\n",
       "      <th>Index_original</th>\n",
       "      <th>Presence_enhanced</th>\n",
       "      <th>Presence_predicted</th>\n",
       "    </tr>\n",
       "  </thead>\n",
       "  <tbody>\n",
       "    <tr>\n",
       "      <th>8</th>\n",
       "      <td>1215.0</td>\n",
       "      <td>105.0</td>\n",
       "      <td>ADLER Real Estate AG (2015)</td>\n",
       "      <td>2010.0</td>\n",
       "      <td>NaN</td>\n",
       "      <td>NaN</td>\n",
       "      <td>74.33</td>\n",
       "      <td>NaN</td>\n",
       "    </tr>\n",
       "    <tr>\n",
       "      <th>9</th>\n",
       "      <td>1215.0</td>\n",
       "      <td>105.0</td>\n",
       "      <td>ADLER Real Estate AG (2015)</td>\n",
       "      <td>2011.0</td>\n",
       "      <td>NaN</td>\n",
       "      <td>NaN</td>\n",
       "      <td>73.70</td>\n",
       "      <td>NaN</td>\n",
       "    </tr>\n",
       "    <tr>\n",
       "      <th>10</th>\n",
       "      <td>1215.0</td>\n",
       "      <td>105.0</td>\n",
       "      <td>ADLER Real Estate AG (2015)</td>\n",
       "      <td>2012.0</td>\n",
       "      <td>NaN</td>\n",
       "      <td>NaN</td>\n",
       "      <td>70.65</td>\n",
       "      <td>NaN</td>\n",
       "    </tr>\n",
       "    <tr>\n",
       "      <th>11</th>\n",
       "      <td>1215.0</td>\n",
       "      <td>105.0</td>\n",
       "      <td>ADLER Real Estate AG (2015)</td>\n",
       "      <td>2013.0</td>\n",
       "      <td>NaN</td>\n",
       "      <td>NaN</td>\n",
       "      <td>68.26</td>\n",
       "      <td>NaN</td>\n",
       "    </tr>\n",
       "    <tr>\n",
       "      <th>12</th>\n",
       "      <td>1215.0</td>\n",
       "      <td>105.0</td>\n",
       "      <td>ADLER Real Estate AG (2015)</td>\n",
       "      <td>2014.0</td>\n",
       "      <td>NaN</td>\n",
       "      <td>NaN</td>\n",
       "      <td>68.39</td>\n",
       "      <td>NaN</td>\n",
       "    </tr>\n",
       "    <tr>\n",
       "      <th>...</th>\n",
       "      <td>...</td>\n",
       "      <td>...</td>\n",
       "      <td>...</td>\n",
       "      <td>...</td>\n",
       "      <td>...</td>\n",
       "      <td>...</td>\n",
       "      <td>...</td>\n",
       "      <td>...</td>\n",
       "    </tr>\n",
       "    <tr>\n",
       "      <th>1977</th>\n",
       "      <td>14884.0</td>\n",
       "      <td>NaN</td>\n",
       "      <td>Bilfinger SE</td>\n",
       "      <td>2021.0</td>\n",
       "      <td>NaN</td>\n",
       "      <td>NaN</td>\n",
       "      <td>54.04</td>\n",
       "      <td>NaN</td>\n",
       "    </tr>\n",
       "    <tr>\n",
       "      <th>1978</th>\n",
       "      <td>14884.0</td>\n",
       "      <td>NaN</td>\n",
       "      <td>Bilfinger SE</td>\n",
       "      <td>2022.0</td>\n",
       "      <td>NaN</td>\n",
       "      <td>NaN</td>\n",
       "      <td>53.71</td>\n",
       "      <td>NaN</td>\n",
       "    </tr>\n",
       "    <tr>\n",
       "      <th>1979</th>\n",
       "      <td>14884.0</td>\n",
       "      <td>NaN</td>\n",
       "      <td>Bilfinger SE</td>\n",
       "      <td>2023.0</td>\n",
       "      <td>NaN</td>\n",
       "      <td>NaN</td>\n",
       "      <td>63.14</td>\n",
       "      <td>NaN</td>\n",
       "    </tr>\n",
       "    <tr>\n",
       "      <th>73</th>\n",
       "      <td>NaN</td>\n",
       "      <td>NaN</td>\n",
       "      <td>NaN</td>\n",
       "      <td>NaN</td>\n",
       "      <td>NaN</td>\n",
       "      <td>NaN</td>\n",
       "      <td>NaN</td>\n",
       "      <td>90.97</td>\n",
       "    </tr>\n",
       "    <tr>\n",
       "      <th>74</th>\n",
       "      <td>NaN</td>\n",
       "      <td>NaN</td>\n",
       "      <td>NaN</td>\n",
       "      <td>NaN</td>\n",
       "      <td>NaN</td>\n",
       "      <td>NaN</td>\n",
       "      <td>NaN</td>\n",
       "      <td>98.25</td>\n",
       "    </tr>\n",
       "  </tbody>\n",
       "</table>\n",
       "<p>184 rows × 8 columns</p>\n",
       "</div>"
      ],
      "text/plain": [
       "      ID_Key_original  ID_original             Company_original  \\\n",
       "8              1215.0        105.0  ADLER Real Estate AG (2015)   \n",
       "9              1215.0        105.0  ADLER Real Estate AG (2015)   \n",
       "10             1215.0        105.0  ADLER Real Estate AG (2015)   \n",
       "11             1215.0        105.0  ADLER Real Estate AG (2015)   \n",
       "12             1215.0        105.0  ADLER Real Estate AG (2015)   \n",
       "...               ...          ...                          ...   \n",
       "1977          14884.0          NaN                 Bilfinger SE   \n",
       "1978          14884.0          NaN                 Bilfinger SE   \n",
       "1979          14884.0          NaN                 Bilfinger SE   \n",
       "73                NaN          NaN                          NaN   \n",
       "74                NaN          NaN                          NaN   \n",
       "\n",
       "      Year_original  Presence_original Index_original  Presence_enhanced  \\\n",
       "8            2010.0                NaN            NaN              74.33   \n",
       "9            2011.0                NaN            NaN              73.70   \n",
       "10           2012.0                NaN            NaN              70.65   \n",
       "11           2013.0                NaN            NaN              68.26   \n",
       "12           2014.0                NaN            NaN              68.39   \n",
       "...             ...                ...            ...                ...   \n",
       "1977         2021.0                NaN            NaN              54.04   \n",
       "1978         2022.0                NaN            NaN              53.71   \n",
       "1979         2023.0                NaN            NaN              63.14   \n",
       "73              NaN                NaN            NaN                NaN   \n",
       "74              NaN                NaN            NaN                NaN   \n",
       "\n",
       "      Presence_predicted  \n",
       "8                    NaN  \n",
       "9                    NaN  \n",
       "10                   NaN  \n",
       "11                   NaN  \n",
       "12                   NaN  \n",
       "...                  ...  \n",
       "1977                 NaN  \n",
       "1978                 NaN  \n",
       "1979                 NaN  \n",
       "73                 90.97  \n",
       "74                 98.25  \n",
       "\n",
       "[184 rows x 8 columns]"
      ]
     },
     "execution_count": 20,
     "metadata": {},
     "output_type": "execute_result"
    }
   ],
   "source": [
    "df"
   ]
  },
  {
   "cell_type": "markdown",
   "metadata": {},
   "source": [
    "## Read contents of PDF"
   ]
  },
  {
   "cell_type": "code",
   "execution_count": 21,
   "metadata": {},
   "outputs": [],
   "source": [
    "import pdfplumber\n",
    "\n",
    "# # Now, full_text contains all the text extracted from the PDF\n",
    "# print(file_path)\n",
    "\n",
    "file_path = 'data/Praesenzen_hv-info/Amadeus Fire AG-14519/ASM/HV-Beschluss zur ordentlichen Hauptversammlung am 24.05.18.pdf'\n",
    "\n",
    "with pdfplumber.open(file_path) as pdf:\n",
    "    # List to store all DataFrames\n",
    "    dataframes = []\n",
    "    \n",
    "    # List to store all texts\n",
    "    all_texts = []\n",
    "\n",
    "    # Iterate through each page\n",
    "    for page_number, page in enumerate(pdf.pages, start=1):\n",
    "        # Extract text from the page\n",
    "        page_text = page.extract_text()\n",
    "        # Store the text\n",
    "        all_texts.append((page_number, page_text))\n",
    "\n",
    "        # Extract tables from the page\n",
    "        tables = page.extract_tables()\n",
    "\n",
    "        # # Process each table\n",
    "        # for table_number, table in enumerate(tables, start=1):\n",
    "        #     # Convert table to DataFrame\n",
    "        #     df = pd.DataFrame(table[1:], columns=table[0])\n",
    "\n",
    "        #     # Store the DataFrame for later use\n",
    "        #     dataframes.append(df)\n",
    "\n",
    "\n"
   ]
  },
  {
   "cell_type": "code",
   "execution_count": 22,
   "metadata": {},
   "outputs": [
    {
     "data": {
      "text/plain": [
       "'27.5.2018 Hauptversammlung\\nAbstimmungsergebnisse der Hauptversammlung der Amadeus FiRe\\nAG am 24. Mai 2018 in Frankfurt am Main\\nVom Grundkapital in Höhe von EUR 5.198.237, eingeteilt in 5.198.237 auf den Inhaber lautende Stückaktien, waren zur Abstimmung 3.110.435 Stückaktien\\nanwesend. Das entspricht einer Präsenz zur Abstimmung von 59,84 Prozent des Grundkapitals.\\nJa- Nein-\\nAbgegebene Ja- Stimmen Nein- Stimmen\\nAnteil am\\ngültige Stimmen in % der Stimmen in % der Enthaltungen Ergebnis\\nGrundkapital\\nStimmen gesamt gültigen gesamt gültigen\\nStimmen Stimmen\\nTOP 2:\\nBeschlussfassung\\nBeschluss\\nüber die 3.110.345 59,83% 3.110.030 99,99% 315 0,01% 90\\nangenommen\\nVerwendung des\\nBilanzgewinns\\nTOP 3:\\nBeschlussfassung\\nüber die Entlastung Beschluss\\n3.091.267 59.47% 3.088.113 99,90% 3.154 0,10% 19.168\\nder Mitglieder des angenommen\\nVorstands für das\\nGeschäftsjahr 2017\\nTOP 4:\\nBeschlussfassung\\nüber die Entlastung Beschluss\\n2.530.720 48,68% 2.485.809 98,23% 44.911 1,77% 574.515\\nder Mitglieder des angenommen\\nAufsichtsrats für das\\nGeschäftsjahr 2017\\nTOP 5:\\nBeschlussfassung\\nüber die Wahl des Beschluss\\n3.110.120 59,83% 2.386.112 76,72% 724.008 23,28% 315\\nAbschlussprüfers angenommen\\nfür das\\nGeschäftsjahr 2018\\nTOP 6: Nachwahlen Beschluss\\n2.557.472 49,20% 2.514.401 98,32% 43.071 1,68% 552.963\\nzum Aufsichtsrat angenommen\\nTOP 7:\\nBeschlussfassung\\nüber die Billigung Beschluss\\n2.860.323 55,02% 1.075.388 37,60% 1.784.935 62,40% 250.112\\ndes Systems zur abgelehnt\\nVergütung der\\nVorstandsmitglieder\\nAMADEUS FIRE. DIE BESETZER.\\nHome Impressum Datenschutz Sitemap\\nhttps://www.amadeus-fire.de/investor-relations/hauptversammlung/ 1/1'"
      ]
     },
     "execution_count": 22,
     "metadata": {},
     "output_type": "execute_result"
    }
   ],
   "source": [
    "all_texts[0][1]"
   ]
  }
 ],
 "metadata": {
  "kernelspec": {
   "display_name": "hv_venv",
   "language": "python",
   "name": "python3"
  },
  "language_info": {
   "codemirror_mode": {
    "name": "ipython",
    "version": 3
   },
   "file_extension": ".py",
   "mimetype": "text/x-python",
   "name": "python",
   "nbconvert_exporter": "python",
   "pygments_lexer": "ipython3",
   "version": "3.10.4"
  }
 },
 "nbformat": 4,
 "nbformat_minor": 2
}
